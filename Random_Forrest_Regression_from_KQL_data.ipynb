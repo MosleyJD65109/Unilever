{
 "cells": [
  {
   "cell_type": "code",
   "execution_count": 1,
   "id": "3d071554",
   "metadata": {},
   "outputs": [],
   "source": [
    "import pandas as pd\n",
    "import datetime\n",
    "import pickle\n",
    "import binascii"
   ]
  },
  {
   "cell_type": "code",
   "execution_count": 9,
   "id": "f78e29dc",
   "metadata": {},
   "outputs": [],
   "source": [
    "import warnings\n",
    "warnings.filterwarnings('ignore')"
   ]
  },
  {
   "cell_type": "code",
   "execution_count": 10,
   "id": "c353d3ae",
   "metadata": {},
   "outputs": [],
   "source": [
    "import numpy as np\n",
    "import os\n",
    "import pandas as pd\n",
    "from pathlib import Path\n",
    "from collections import Counter"
   ]
  },
  {
   "cell_type": "code",
   "execution_count": 11,
   "id": "4e5bc3e5",
   "metadata": {},
   "outputs": [],
   "source": [
    "from sklearn.metrics import balanced_accuracy_score\n",
    "from sklearn.metrics import confusion_matrix\n",
    "from imblearn.metrics import classification_report_imbalanced"
   ]
  },
  {
   "cell_type": "code",
   "execution_count": 2,
   "id": "758a3c83",
   "metadata": {},
   "outputs": [
    {
     "name": "stdout",
     "output_type": "stream",
     "text": [
      "Requirement already satisfied: Kqlmagic in c:\\users\\jeffrey.mosley\\appdata\\local\\anaconda3\\envs\\mlenv\\lib\\site-packages (0.1.114.post22)\n",
      "Requirement already satisfied: requests>=2.21.0 in c:\\users\\jeffrey.mosley\\appdata\\local\\anaconda3\\envs\\mlenv\\lib\\site-packages (from Kqlmagic) (2.28.1)\n",
      "Requirement already satisfied: prettytable>=0.7.2 in c:\\users\\jeffrey.mosley\\appdata\\local\\anaconda3\\envs\\mlenv\\lib\\site-packages (from Kqlmagic) (3.7.0)\n",
      "Requirement already satisfied: beautifulsoup4>=4.6.3 in c:\\users\\jeffrey.mosley\\appdata\\local\\anaconda3\\envs\\mlenv\\lib\\site-packages (from Kqlmagic) (4.11.1)\n",
      "Requirement already satisfied: cryptography>=2.7 in c:\\users\\jeffrey.mosley\\appdata\\local\\anaconda3\\envs\\mlenv\\lib\\site-packages (from Kqlmagic) (37.0.1)\n",
      "Requirement already satisfied: flask>=1.0.3 in c:\\users\\jeffrey.mosley\\appdata\\local\\anaconda3\\envs\\mlenv\\lib\\site-packages (from Kqlmagic) (1.1.2)\n",
      "Requirement already satisfied: azure-identity>=1.5.0 in c:\\users\\jeffrey.mosley\\appdata\\local\\anaconda3\\envs\\mlenv\\lib\\site-packages (from Kqlmagic) (1.13.0)\n",
      "Requirement already satisfied: Markdown>=3.0.1 in c:\\users\\jeffrey.mosley\\appdata\\local\\anaconda3\\envs\\mlenv\\lib\\site-packages (from Kqlmagic) (3.3.4)\n",
      "Requirement already satisfied: traitlets>=4.3.2 in c:\\users\\jeffrey.mosley\\appdata\\local\\anaconda3\\envs\\mlenv\\lib\\site-packages (from Kqlmagic) (5.1.1)\n",
      "Requirement already satisfied: matplotlib>=3.0.0 in c:\\users\\jeffrey.mosley\\appdata\\local\\anaconda3\\envs\\mlenv\\lib\\site-packages (from Kqlmagic) (3.5.2)\n",
      "Requirement already satisfied: ipython>=7.1.1 in c:\\users\\jeffrey.mosley\\appdata\\local\\anaconda3\\envs\\mlenv\\lib\\site-packages (from Kqlmagic) (7.31.1)\n",
      "Requirement already satisfied: lxml>=4.2.5 in c:\\users\\jeffrey.mosley\\appdata\\local\\anaconda3\\envs\\mlenv\\lib\\site-packages (from Kqlmagic) (4.9.1)\n",
      "Requirement already satisfied: azure-common>=1.1.25 in c:\\users\\jeffrey.mosley\\appdata\\local\\anaconda3\\envs\\mlenv\\lib\\site-packages (from Kqlmagic) (1.1.28)\n",
      "Requirement already satisfied: setuptools>=41.0.1 in c:\\users\\jeffrey.mosley\\appdata\\local\\anaconda3\\envs\\mlenv\\lib\\site-packages (from Kqlmagic) (63.4.1)\n",
      "Requirement already satisfied: msal-extensions>=0.3.0 in c:\\users\\jeffrey.mosley\\appdata\\local\\anaconda3\\envs\\mlenv\\lib\\site-packages (from Kqlmagic) (1.0.0)\n",
      "Requirement already satisfied: python-dateutil>=2.7.5 in c:\\users\\jeffrey.mosley\\appdata\\local\\anaconda3\\envs\\mlenv\\lib\\site-packages (from Kqlmagic) (2.8.2)\n",
      "Requirement already satisfied: Pygments>=2.2.0 in c:\\users\\jeffrey.mosley\\appdata\\local\\anaconda3\\envs\\mlenv\\lib\\site-packages (from Kqlmagic) (2.11.2)\n",
      "Requirement already satisfied: msal>=1.11.0 in c:\\users\\jeffrey.mosley\\appdata\\local\\anaconda3\\envs\\mlenv\\lib\\site-packages (from Kqlmagic) (1.22.0)\n",
      "Requirement already satisfied: plotly>=3.10.0 in c:\\users\\jeffrey.mosley\\appdata\\local\\anaconda3\\envs\\mlenv\\lib\\site-packages (from Kqlmagic) (5.9.0)\n",
      "Requirement already satisfied: ipywidgets in c:\\users\\jeffrey.mosley\\appdata\\local\\anaconda3\\envs\\mlenv\\lib\\site-packages (from Kqlmagic) (7.6.5)\n",
      "Requirement already satisfied: psutil>=5.4.7 in c:\\users\\jeffrey.mosley\\appdata\\local\\anaconda3\\envs\\mlenv\\lib\\site-packages (from Kqlmagic) (5.9.0)\n",
      "Requirement already satisfied: password-strength>=0.0.3 in c:\\users\\jeffrey.mosley\\appdata\\local\\anaconda3\\envs\\mlenv\\lib\\site-packages (from Kqlmagic) (0.0.3.post2)\n",
      "Requirement already satisfied: pyperclip>=1.7.0 in c:\\users\\jeffrey.mosley\\appdata\\local\\anaconda3\\envs\\mlenv\\lib\\site-packages (from Kqlmagic) (1.8.2)\n",
      "Requirement already satisfied: msrestazure>=0.6.3 in c:\\users\\jeffrey.mosley\\appdata\\local\\anaconda3\\envs\\mlenv\\lib\\site-packages (from Kqlmagic) (0.6.4)\n",
      "Requirement already satisfied: isodate>=0.6.0 in c:\\users\\jeffrey.mosley\\appdata\\local\\anaconda3\\envs\\mlenv\\lib\\site-packages (from Kqlmagic) (0.6.1)\n",
      "Requirement already satisfied: pandas>=0.23.4 in c:\\users\\jeffrey.mosley\\appdata\\local\\anaconda3\\envs\\mlenv\\lib\\site-packages (from Kqlmagic) (1.3.5)\n",
      "Requirement already satisfied: ipykernel>=5.1.1 in c:\\users\\jeffrey.mosley\\appdata\\local\\anaconda3\\envs\\mlenv\\lib\\site-packages (from Kqlmagic) (6.15.2)\n",
      "Requirement already satisfied: azure-core<2.0.0,>=1.11.0 in c:\\users\\jeffrey.mosley\\appdata\\local\\anaconda3\\envs\\mlenv\\lib\\site-packages (from azure-identity>=1.5.0->Kqlmagic) (1.26.4)\n",
      "Requirement already satisfied: six>=1.12.0 in c:\\users\\jeffrey.mosley\\appdata\\local\\anaconda3\\envs\\mlenv\\lib\\site-packages (from azure-identity>=1.5.0->Kqlmagic) (1.16.0)\n",
      "Requirement already satisfied: soupsieve>1.2 in c:\\users\\jeffrey.mosley\\appdata\\local\\anaconda3\\envs\\mlenv\\lib\\site-packages (from beautifulsoup4>=4.6.3->Kqlmagic) (2.3.1)\n",
      "Requirement already satisfied: cffi>=1.12 in c:\\users\\jeffrey.mosley\\appdata\\local\\anaconda3\\envs\\mlenv\\lib\\site-packages (from cryptography>=2.7->Kqlmagic) (1.15.1)\n",
      "Requirement already satisfied: Werkzeug>=0.15 in c:\\users\\jeffrey.mosley\\appdata\\local\\anaconda3\\envs\\mlenv\\lib\\site-packages (from flask>=1.0.3->Kqlmagic) (2.0.3)\n",
      "Requirement already satisfied: click>=5.1 in c:\\users\\jeffrey.mosley\\appdata\\local\\anaconda3\\envs\\mlenv\\lib\\site-packages (from flask>=1.0.3->Kqlmagic) (8.0.4)\n",
      "Requirement already satisfied: itsdangerous>=0.24 in c:\\users\\jeffrey.mosley\\appdata\\local\\anaconda3\\envs\\mlenv\\lib\\site-packages (from flask>=1.0.3->Kqlmagic) (2.0.1)\n",
      "Requirement already satisfied: Jinja2>=2.10.1 in c:\\users\\jeffrey.mosley\\appdata\\local\\anaconda3\\envs\\mlenv\\lib\\site-packages (from flask>=1.0.3->Kqlmagic) (2.11.3)\n",
      "Requirement already satisfied: packaging in c:\\users\\jeffrey.mosley\\appdata\\local\\anaconda3\\envs\\mlenv\\lib\\site-packages (from ipykernel>=5.1.1->Kqlmagic) (21.3)\n",
      "Requirement already satisfied: matplotlib-inline>=0.1 in c:\\users\\jeffrey.mosley\\appdata\\local\\anaconda3\\envs\\mlenv\\lib\\site-packages (from ipykernel>=5.1.1->Kqlmagic) (0.1.6)\n",
      "Requirement already satisfied: jupyter-client>=6.1.12 in c:\\users\\jeffrey.mosley\\appdata\\local\\anaconda3\\envs\\mlenv\\lib\\site-packages (from ipykernel>=5.1.1->Kqlmagic) (7.3.5)\n",
      "Requirement already satisfied: nest-asyncio in c:\\users\\jeffrey.mosley\\appdata\\local\\anaconda3\\envs\\mlenv\\lib\\site-packages (from ipykernel>=5.1.1->Kqlmagic) (1.5.5)\n",
      "Requirement already satisfied: tornado>=6.1 in c:\\users\\jeffrey.mosley\\appdata\\local\\anaconda3\\envs\\mlenv\\lib\\site-packages (from ipykernel>=5.1.1->Kqlmagic) (6.2)\n",
      "Requirement already satisfied: debugpy>=1.0 in c:\\users\\jeffrey.mosley\\appdata\\local\\anaconda3\\envs\\mlenv\\lib\\site-packages (from ipykernel>=5.1.1->Kqlmagic) (1.5.1)\n",
      "Requirement already satisfied: pyzmq>=17 in c:\\users\\jeffrey.mosley\\appdata\\local\\anaconda3\\envs\\mlenv\\lib\\site-packages (from ipykernel>=5.1.1->Kqlmagic) (23.2.0)\n",
      "Requirement already satisfied: prompt-toolkit!=3.0.0,!=3.0.1,<3.1.0,>=2.0.0 in c:\\users\\jeffrey.mosley\\appdata\\local\\anaconda3\\envs\\mlenv\\lib\\site-packages (from ipython>=7.1.1->Kqlmagic) (3.0.20)\n",
      "Requirement already satisfied: decorator in c:\\users\\jeffrey.mosley\\appdata\\local\\anaconda3\\envs\\mlenv\\lib\\site-packages (from ipython>=7.1.1->Kqlmagic) (5.1.1)\n",
      "Requirement already satisfied: pickleshare in c:\\users\\jeffrey.mosley\\appdata\\local\\anaconda3\\envs\\mlenv\\lib\\site-packages (from ipython>=7.1.1->Kqlmagic) (0.7.5)\n",
      "Requirement already satisfied: colorama in c:\\users\\jeffrey.mosley\\appdata\\local\\anaconda3\\envs\\mlenv\\lib\\site-packages (from ipython>=7.1.1->Kqlmagic) (0.4.5)\n",
      "Requirement already satisfied: backcall in c:\\users\\jeffrey.mosley\\appdata\\local\\anaconda3\\envs\\mlenv\\lib\\site-packages (from ipython>=7.1.1->Kqlmagic) (0.2.0)\n",
      "Requirement already satisfied: jedi>=0.16 in c:\\users\\jeffrey.mosley\\appdata\\local\\anaconda3\\envs\\mlenv\\lib\\site-packages (from ipython>=7.1.1->Kqlmagic) (0.18.1)\n",
      "Requirement already satisfied: importlib-metadata in c:\\users\\jeffrey.mosley\\appdata\\local\\anaconda3\\envs\\mlenv\\lib\\site-packages (from Markdown>=3.0.1->Kqlmagic) (4.11.3)\n",
      "Requirement already satisfied: fonttools>=4.22.0 in c:\\users\\jeffrey.mosley\\appdata\\local\\anaconda3\\envs\\mlenv\\lib\\site-packages (from matplotlib>=3.0.0->Kqlmagic) (4.25.0)\n",
      "Requirement already satisfied: pyparsing>=2.2.1 in c:\\users\\jeffrey.mosley\\appdata\\local\\anaconda3\\envs\\mlenv\\lib\\site-packages (from matplotlib>=3.0.0->Kqlmagic) (3.0.9)\n",
      "Requirement already satisfied: pillow>=6.2.0 in c:\\users\\jeffrey.mosley\\appdata\\local\\anaconda3\\envs\\mlenv\\lib\\site-packages (from matplotlib>=3.0.0->Kqlmagic) (9.2.0)\n",
      "Requirement already satisfied: cycler>=0.10 in c:\\users\\jeffrey.mosley\\appdata\\local\\anaconda3\\envs\\mlenv\\lib\\site-packages (from matplotlib>=3.0.0->Kqlmagic) (0.11.0)\n",
      "Requirement already satisfied: kiwisolver>=1.0.1 in c:\\users\\jeffrey.mosley\\appdata\\local\\anaconda3\\envs\\mlenv\\lib\\site-packages (from matplotlib>=3.0.0->Kqlmagic) (1.4.2)\n",
      "Requirement already satisfied: numpy>=1.17 in c:\\users\\jeffrey.mosley\\appdata\\local\\anaconda3\\envs\\mlenv\\lib\\site-packages (from matplotlib>=3.0.0->Kqlmagic) (1.21.5)\n",
      "Requirement already satisfied: PyJWT[crypto]<3,>=1.0.0 in c:\\users\\jeffrey.mosley\\appdata\\local\\anaconda3\\envs\\mlenv\\lib\\site-packages (from msal>=1.11.0->Kqlmagic) (2.7.0)\n",
      "Requirement already satisfied: portalocker<3,>=1.6 in c:\\users\\jeffrey.mosley\\appdata\\local\\anaconda3\\envs\\mlenv\\lib\\site-packages (from msal-extensions>=0.3.0->Kqlmagic) (2.7.0)\n",
      "Requirement already satisfied: msrest<2.0.0,>=0.6.0 in c:\\users\\jeffrey.mosley\\appdata\\local\\anaconda3\\envs\\mlenv\\lib\\site-packages (from msrestazure>=0.6.3->Kqlmagic) (0.7.1)\n",
      "Requirement already satisfied: adal<2.0.0,>=0.6.0 in c:\\users\\jeffrey.mosley\\appdata\\local\\anaconda3\\envs\\mlenv\\lib\\site-packages (from msrestazure>=0.6.3->Kqlmagic) (1.2.7)\n",
      "Requirement already satisfied: pytz>=2017.3 in c:\\users\\jeffrey.mosley\\appdata\\local\\anaconda3\\envs\\mlenv\\lib\\site-packages (from pandas>=0.23.4->Kqlmagic) (2022.1)\n",
      "Requirement already satisfied: tenacity>=6.2.0 in c:\\users\\jeffrey.mosley\\appdata\\local\\anaconda3\\envs\\mlenv\\lib\\site-packages (from plotly>=3.10.0->Kqlmagic) (8.0.1)\n",
      "Requirement already satisfied: wcwidth in c:\\users\\jeffrey.mosley\\appdata\\local\\anaconda3\\envs\\mlenv\\lib\\site-packages (from prettytable>=0.7.2->Kqlmagic) (0.2.5)\n",
      "Requirement already satisfied: certifi>=2017.4.17 in c:\\users\\jeffrey.mosley\\appdata\\local\\anaconda3\\envs\\mlenv\\lib\\site-packages (from requests>=2.21.0->Kqlmagic) (2022.9.14)\n",
      "Requirement already satisfied: urllib3<1.27,>=1.21.1 in c:\\users\\jeffrey.mosley\\appdata\\local\\anaconda3\\envs\\mlenv\\lib\\site-packages (from requests>=2.21.0->Kqlmagic) (1.26.11)\n",
      "Requirement already satisfied: charset-normalizer<3,>=2 in c:\\users\\jeffrey.mosley\\appdata\\local\\anaconda3\\envs\\mlenv\\lib\\site-packages (from requests>=2.21.0->Kqlmagic) (2.0.4)\n",
      "Requirement already satisfied: idna<4,>=2.5 in c:\\users\\jeffrey.mosley\\appdata\\local\\anaconda3\\envs\\mlenv\\lib\\site-packages (from requests>=2.21.0->Kqlmagic) (3.3)\n",
      "Requirement already satisfied: widgetsnbextension~=3.5.0 in c:\\users\\jeffrey.mosley\\appdata\\local\\anaconda3\\envs\\mlenv\\lib\\site-packages (from ipywidgets->Kqlmagic) (3.5.2)\n",
      "Requirement already satisfied: jupyterlab-widgets>=1.0.0 in c:\\users\\jeffrey.mosley\\appdata\\local\\anaconda3\\envs\\mlenv\\lib\\site-packages (from ipywidgets->Kqlmagic) (1.0.0)\n",
      "Requirement already satisfied: nbformat>=4.2.0 in c:\\users\\jeffrey.mosley\\appdata\\local\\anaconda3\\envs\\mlenv\\lib\\site-packages (from ipywidgets->Kqlmagic) (5.5.0)\n",
      "Requirement already satisfied: ipython-genutils~=0.2.0 in c:\\users\\jeffrey.mosley\\appdata\\local\\anaconda3\\envs\\mlenv\\lib\\site-packages (from ipywidgets->Kqlmagic) (0.2.0)\n",
      "Requirement already satisfied: typing-extensions>=4.3.0 in c:\\users\\jeffrey.mosley\\appdata\\local\\anaconda3\\envs\\mlenv\\lib\\site-packages (from azure-core<2.0.0,>=1.11.0->azure-identity>=1.5.0->Kqlmagic) (4.3.0)\n",
      "Requirement already satisfied: pycparser in c:\\users\\jeffrey.mosley\\appdata\\local\\anaconda3\\envs\\mlenv\\lib\\site-packages (from cffi>=1.12->cryptography>=2.7->Kqlmagic) (2.21)\n",
      "Requirement already satisfied: parso<0.9.0,>=0.8.0 in c:\\users\\jeffrey.mosley\\appdata\\local\\anaconda3\\envs\\mlenv\\lib\\site-packages (from jedi>=0.16->ipython>=7.1.1->Kqlmagic) (0.8.3)\n",
      "Requirement already satisfied: MarkupSafe>=0.23 in c:\\users\\jeffrey.mosley\\appdata\\local\\anaconda3\\envs\\mlenv\\lib\\site-packages (from Jinja2>=2.10.1->flask>=1.0.3->Kqlmagic) (2.0.1)\n",
      "Requirement already satisfied: jupyter-core>=4.9.2 in c:\\users\\jeffrey.mosley\\appdata\\local\\anaconda3\\envs\\mlenv\\lib\\site-packages (from jupyter-client>=6.1.12->ipykernel>=5.1.1->Kqlmagic) (4.11.1)\n",
      "Requirement already satisfied: entrypoints in c:\\users\\jeffrey.mosley\\appdata\\local\\anaconda3\\envs\\mlenv\\lib\\site-packages (from jupyter-client>=6.1.12->ipykernel>=5.1.1->Kqlmagic) (0.4)\n",
      "Requirement already satisfied: requests-oauthlib>=0.5.0 in c:\\users\\jeffrey.mosley\\appdata\\local\\anaconda3\\envs\\mlenv\\lib\\site-packages (from msrest<2.0.0,>=0.6.0->msrestazure>=0.6.3->Kqlmagic) (1.3.1)\n",
      "Requirement already satisfied: jsonschema>=2.6 in c:\\users\\jeffrey.mosley\\appdata\\local\\anaconda3\\envs\\mlenv\\lib\\site-packages (from nbformat>=4.2.0->ipywidgets->Kqlmagic) (4.16.0)\n",
      "Requirement already satisfied: fastjsonschema in c:\\users\\jeffrey.mosley\\appdata\\local\\anaconda3\\envs\\mlenv\\lib\\site-packages (from nbformat>=4.2.0->ipywidgets->Kqlmagic) (2.16.2)\n",
      "Requirement already satisfied: pywin32>=226 in c:\\users\\jeffrey.mosley\\appdata\\local\\anaconda3\\envs\\mlenv\\lib\\site-packages (from portalocker<3,>=1.6->msal-extensions>=0.3.0->Kqlmagic) (302)\n",
      "Requirement already satisfied: notebook>=4.4.1 in c:\\users\\jeffrey.mosley\\appdata\\local\\anaconda3\\envs\\mlenv\\lib\\site-packages (from widgetsnbextension~=3.5.0->ipywidgets->Kqlmagic) (6.4.12)\n",
      "Requirement already satisfied: zipp>=0.5 in c:\\users\\jeffrey.mosley\\appdata\\local\\anaconda3\\envs\\mlenv\\lib\\site-packages (from importlib-metadata->Markdown>=3.0.1->Kqlmagic) (3.8.0)\n",
      "Requirement already satisfied: pyrsistent!=0.17.0,!=0.17.1,!=0.17.2,>=0.14.0 in c:\\users\\jeffrey.mosley\\appdata\\local\\anaconda3\\envs\\mlenv\\lib\\site-packages (from jsonschema>=2.6->nbformat>=4.2.0->ipywidgets->Kqlmagic) (0.18.0)\n",
      "Requirement already satisfied: attrs>=17.4.0 in c:\\users\\jeffrey.mosley\\appdata\\local\\anaconda3\\envs\\mlenv\\lib\\site-packages (from jsonschema>=2.6->nbformat>=4.2.0->ipywidgets->Kqlmagic) (21.4.0)\n",
      "Requirement already satisfied: pkgutil-resolve-name>=1.3.10 in c:\\users\\jeffrey.mosley\\appdata\\local\\anaconda3\\envs\\mlenv\\lib\\site-packages (from jsonschema>=2.6->nbformat>=4.2.0->ipywidgets->Kqlmagic) (1.3.10)\n",
      "Requirement already satisfied: importlib-resources>=1.4.0 in c:\\users\\jeffrey.mosley\\appdata\\local\\anaconda3\\envs\\mlenv\\lib\\site-packages (from jsonschema>=2.6->nbformat>=4.2.0->ipywidgets->Kqlmagic) (5.2.0)\n",
      "Requirement already satisfied: prometheus-client in c:\\users\\jeffrey.mosley\\appdata\\local\\anaconda3\\envs\\mlenv\\lib\\site-packages (from notebook>=4.4.1->widgetsnbextension~=3.5.0->ipywidgets->Kqlmagic) (0.14.1)\n",
      "Requirement already satisfied: argon2-cffi in c:\\users\\jeffrey.mosley\\appdata\\local\\anaconda3\\envs\\mlenv\\lib\\site-packages (from notebook>=4.4.1->widgetsnbextension~=3.5.0->ipywidgets->Kqlmagic) (21.3.0)\n",
      "Requirement already satisfied: nbconvert>=5 in c:\\users\\jeffrey.mosley\\appdata\\local\\anaconda3\\envs\\mlenv\\lib\\site-packages (from notebook>=4.4.1->widgetsnbextension~=3.5.0->ipywidgets->Kqlmagic) (6.4.4)\n",
      "Requirement already satisfied: Send2Trash>=1.8.0 in c:\\users\\jeffrey.mosley\\appdata\\local\\anaconda3\\envs\\mlenv\\lib\\site-packages (from notebook>=4.4.1->widgetsnbextension~=3.5.0->ipywidgets->Kqlmagic) (1.8.0)\n",
      "Requirement already satisfied: terminado>=0.8.3 in c:\\users\\jeffrey.mosley\\appdata\\local\\anaconda3\\envs\\mlenv\\lib\\site-packages (from notebook>=4.4.1->widgetsnbextension~=3.5.0->ipywidgets->Kqlmagic) (0.13.1)\n",
      "Requirement already satisfied: oauthlib>=3.0.0 in c:\\users\\jeffrey.mosley\\appdata\\local\\anaconda3\\envs\\mlenv\\lib\\site-packages (from requests-oauthlib>=0.5.0->msrest<2.0.0,>=0.6.0->msrestazure>=0.6.3->Kqlmagic) (3.2.2)\n",
      "Requirement already satisfied: defusedxml in c:\\users\\jeffrey.mosley\\appdata\\local\\anaconda3\\envs\\mlenv\\lib\\site-packages (from nbconvert>=5->notebook>=4.4.1->widgetsnbextension~=3.5.0->ipywidgets->Kqlmagic) (0.7.1)\n",
      "Requirement already satisfied: bleach in c:\\users\\jeffrey.mosley\\appdata\\local\\anaconda3\\envs\\mlenv\\lib\\site-packages (from nbconvert>=5->notebook>=4.4.1->widgetsnbextension~=3.5.0->ipywidgets->Kqlmagic) (4.1.0)\n",
      "Requirement already satisfied: jupyterlab-pygments in c:\\users\\jeffrey.mosley\\appdata\\local\\anaconda3\\envs\\mlenv\\lib\\site-packages (from nbconvert>=5->notebook>=4.4.1->widgetsnbextension~=3.5.0->ipywidgets->Kqlmagic) (0.1.2)\n",
      "Requirement already satisfied: mistune<2,>=0.8.1 in c:\\users\\jeffrey.mosley\\appdata\\local\\anaconda3\\envs\\mlenv\\lib\\site-packages (from nbconvert>=5->notebook>=4.4.1->widgetsnbextension~=3.5.0->ipywidgets->Kqlmagic) (0.8.4)\n",
      "Requirement already satisfied: pandocfilters>=1.4.1 in c:\\users\\jeffrey.mosley\\appdata\\local\\anaconda3\\envs\\mlenv\\lib\\site-packages (from nbconvert>=5->notebook>=4.4.1->widgetsnbextension~=3.5.0->ipywidgets->Kqlmagic) (1.5.0)\n",
      "Requirement already satisfied: testpath in c:\\users\\jeffrey.mosley\\appdata\\local\\anaconda3\\envs\\mlenv\\lib\\site-packages (from nbconvert>=5->notebook>=4.4.1->widgetsnbextension~=3.5.0->ipywidgets->Kqlmagic) (0.6.0)\n",
      "Requirement already satisfied: nbclient<0.6.0,>=0.5.0 in c:\\users\\jeffrey.mosley\\appdata\\local\\anaconda3\\envs\\mlenv\\lib\\site-packages (from nbconvert>=5->notebook>=4.4.1->widgetsnbextension~=3.5.0->ipywidgets->Kqlmagic) (0.5.13)\n",
      "Requirement already satisfied: pywinpty>=1.1.0 in c:\\users\\jeffrey.mosley\\appdata\\local\\anaconda3\\envs\\mlenv\\lib\\site-packages (from terminado>=0.8.3->notebook>=4.4.1->widgetsnbextension~=3.5.0->ipywidgets->Kqlmagic) (2.0.2)\n",
      "Requirement already satisfied: argon2-cffi-bindings in c:\\users\\jeffrey.mosley\\appdata\\local\\anaconda3\\envs\\mlenv\\lib\\site-packages (from argon2-cffi->notebook>=4.4.1->widgetsnbextension~=3.5.0->ipywidgets->Kqlmagic) (21.2.0)\n",
      "Requirement already satisfied: webencodings in c:\\users\\jeffrey.mosley\\appdata\\local\\anaconda3\\envs\\mlenv\\lib\\site-packages (from bleach->nbconvert>=5->notebook>=4.4.1->widgetsnbextension~=3.5.0->ipywidgets->Kqlmagic) (0.5.1)\n"
     ]
    }
   ],
   "source": [
    "!pip install Kqlmagic --no-cache-dir --upgrade\n"
   ]
  },
  {
   "cell_type": "code",
   "execution_count": 3,
   "id": "c3b59f37",
   "metadata": {},
   "outputs": [
    {
     "data": {
      "application/javascript": [
       "try {IPython.notebook.kernel.reconnect();} catch(err) {;}"
      ],
      "text/plain": [
       "<IPython.core.display.Javascript object>"
      ]
     },
     "metadata": {},
     "output_type": "display_data"
    },
    {
     "data": {
      "application/javascript": [
       "try {IPython.notebook.kernel.execute(\"NOTEBOOK_URL = '\" + window.location + \"'\");} catch(err) {;}"
      ],
      "text/plain": [
       "<IPython.core.display.Javascript object>"
      ]
     },
     "metadata": {},
     "output_type": "display_data"
    },
    {
     "data": {
      "text/html": [
       "<!DOCTYPE html>\n",
       "            <html>\n",
       "            <head>\n",
       "            <title>Kqlmagic - banner</title>\n",
       "            <style>\n",
       "            .kql-magic-banner {\n",
       "                display: flex; \n",
       "                background-color: #d9edf7;\n",
       "            }\n",
       "            .kql-magic-banner > div {\n",
       "                margin: 10px; \n",
       "                padding: 20px; \n",
       "                color: #3a87ad; \n",
       "                font-size: 13px;\n",
       "            }\n",
       "            </style>\n",
       "            </head>\n",
       "            <body>\n",
       "                <div class='kql-magic-banner'>\n",
       "                    <div><img src='data:image/png;base64,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'></div>\n",
       "                    <div>\n",
       "                        <p>Kql Query Language, aka kql, is the query language for advanced analytics on Azure Monitor resources. The current supported data sources are \n",
       "                        Azure Data Explorer (Kusto), Log Analytics and Application Insights. To get more information execute '%kql --help \"kql\"'</p>\n",
       "                        <p>   \n",
       "                          &bull; \n",
       "                kql reference: Click on 'Help' tab > and Select 'kql reference' or execute '%kql --help \"kql\"'<br>\n",
       "                          &bull; \n",
       "                Kqlmagic configuration: execute '%config Kqlmagic'<br>\n",
       "                          &bull; \n",
       "                Kqlmagic usage: execute '%kql --usage'<br>\n",
       "                          &bull; \n",
       "                To report bug/issue: execute '%kql --bug-report'<br>                \n",
       "                        </p> \n",
       "                    </div>\n",
       "                </div>\n",
       "            </body>\n",
       "            </html>"
      ],
      "text/plain": [
       "<IPython.core.display.HTML object>"
      ]
     },
     "metadata": {},
     "output_type": "display_data"
    },
    {
     "data": {
      "text/html": [
       "<html>\n",
       "        <head>\n",
       "            \n",
       "            \n",
       "        </head>\n",
       "        <body>\n",
       "            <div><p style=' padding: 10px; color: #3a87ad; background-color: #d9edf7; border-color: #bce9f1'>Kqlmagic&nbsp;package&nbsp;is&nbsp;updated&nbsp;frequently.&nbsp;Run&nbsp;&apos;!pip&nbsp;install&nbsp;Kqlmagic&nbsp;--no-cache-dir&nbsp;--upgrade&apos;&nbsp;to&nbsp;use&nbsp;the&nbsp;latest&nbsp;version.<br>Kqlmagic&nbsp;version:&nbsp;0.1.114.post22,&nbsp;source:&nbsp;https://github.com/Microsoft/jupyter-Kqlmagic</p></div>\n",
       "        </body>\n",
       "        </html>"
      ],
      "text/plain": [
       "<IPython.core.display.HTML object>"
      ]
     },
     "metadata": {},
     "output_type": "display_data"
    },
    {
     "data": {
      "text/html": [
       "<!DOCTYPE html>\n",
       "            <html><body>\n",
       "            <div style='padding: 10px; color: #3a87ad; background-color: #d9edf7; border-color: #bce9f1'>\n",
       "            Click to find out what's new in Kqlmagic \n",
       "            <button onclick=\"this.style.visibility='visible';\n",
       "            kql_MagicLaunchWindowFunction('kqlmagic/temp_files/680e381a-100c-4cdf-bb84-b355e26d7a45/what_new_history.html', 'fullscreen=no,directories=no,location=no,menubar=no,resizable=yes,scrollbars=yes,status=no,titlebar=no,toolbar=no,', 'what_new_history', '');\n",
       "            kql_MagicCloseWindow(kql_Magic_what_new_history, -1, -1);\">\n",
       "            What's New? </button>\n",
       "            </div>\n",
       "\n",
       "            <script>\n",
       "            var kql_Magic_what_new_history = null;\n",
       "\n",
       "\n",
       "            function kql_MagicCloseWindow(window_obj, obj_secs, itself_secs) {\n",
       "                if (obj_secs >= 0) {\n",
       "                    _timeout = setTimeout(function(){\n",
       "                        window_obj.close();\n",
       "                        if (itself_secs >= 0) {\n",
       "                            __timeout = setTimeout(function(){window.close();}, itself_secs * 1000);\n",
       "                        }\n",
       "                    }, obj_secs * 1000);\n",
       "                } else if (itself_secs >= 0) {\n",
       "                    _timeout = setTimeout(function(){window.close();}, itself_secs * 1000);\n",
       "                }\n",
       "            }\n",
       "\n",
       "            function kql_MagicLaunchWindowFunction(file_path_or_data, window_params, window_name, host_or_text) {\n",
       "                var url;\n",
       "                const baseURI = String(window.location);\n",
       "                if (host_or_text == 'text' || host_or_text == 'body') {\n",
       "                    url = ''\n",
       "                } else if (file_path_or_data.startsWith('http')) {\n",
       "                    url = file_path_or_data;\n",
       "                } else if (host_or_text.endsWith('.azureml.ms') || host_or_text.endsWith('.azureml.net')) {\n",
       "                    let azuremlBaseURI = String(window.document.baseURI);\n",
       "                    let start = azuremlBaseURI.search('activeFilePath=');\n",
       "                    if (start > 0) {\n",
       "                        start += 'activeFilePath='.length;\n",
       "                        let end = azuremlBaseURI.substring(start).search('&');\n",
       "                        if (end < 0) {\n",
       "                            end = undefined;\n",
       "                        }\n",
       "                        let parts = azuremlBaseURI.substring(start, end).split('/');\n",
       "                        parts.pop();\n",
       "                        url = host_or_text + '/tree/' + parts.join('/') + '/' + file_path_or_data;\n",
       "                    } else {\n",
       "                        var parts = baseURI.split('/');\n",
       "                        parts.pop();\n",
       "                        url = parts.join('/') + '/' + file_path_or_data;\n",
       "                    }\n",
       "                } else {\n",
       "                    var base_url = '';\n",
       "\n",
       "                    // check if azure notebook\n",
       "                    var azure_host = (host_or_text == null || host_or_text.length == 0) ? 'https://notebooks.azure.com' : host_or_text;\n",
       "                    var start = azure_host.search('//');\n",
       "                    var azure_host_suffix = '.' + azure_host.substring(start+2);\n",
       "\n",
       "                    var end = baseURI.search(azure_host_suffix);\n",
       "                    start = baseURI.search('//');\n",
       "                    if (start > 0 && end > 0) {\n",
       "                        // # azure notebook environment, assume template: https://library-user.notebooks.azure.com\n",
       "                        var parts = baseURI.substring(start+2, end).split('-');\n",
       "                        if (parts.length == 2) {\n",
       "                            var library = parts[0];\n",
       "                            var user = parts[1];\n",
       "                            base_url = azure_host + '/api/user/' +user+ '/library/' +library+ '/html/';\n",
       "                        }\n",
       "                    }\n",
       "\n",
       "                    // check if local jupyter lab\n",
       "                    if (base_url.length == 0) {\n",
       "                        var configDataScipt  = document.getElementById('jupyter-config-data');\n",
       "                        if (configDataScipt != null) {\n",
       "                            var jupyterConfigData = JSON.parse(configDataScipt.textContent);\n",
       "                            if (jupyterConfigData['appName'] == 'JupyterLab' && jupyterConfigData['serverRoot'] != null &&  jupyterConfigData['treeUrl'] != null) {\n",
       "                                var basePath = 'C:/Users/Jeffrey.Mosley/OneDrive - Unilever/Unilever' + '/';\n",
       "                                if (basePath.startsWith(jupyterConfigData['serverRoot'])) {\n",
       "                                    base_url = '/files/' + basePath.substring(jupyterConfigData['serverRoot'].length+1);\n",
       "                                }\n",
       "                            }\n",
       "                        }\n",
       "                    }\n",
       "\n",
       "                    // works for local jupyter notebook\n",
       "                    if (base_url.length == 0) {\n",
       "\n",
       "                        var parts = baseURI.split('/');\n",
       "                        parts.pop(); // remove notebook name segment\n",
       "                        base_url = parts.join('/') + '/';\n",
       "                    }\n",
       "                    url = base_url + file_path_or_data;\n",
       "                }\n",
       "\n",
       "                window.focus();\n",
       "                var w = screen.width / 2;\n",
       "                var h = screen.height / 2;\n",
       "                params = 'width='+w+',height='+h;\n",
       "                // kql_Magic + window_name should be a global variable \n",
       "                window_obj = window.open(url, window_name, window_params + params);\n",
       "                if (url == '') {\n",
       "                    let decodedData = atob(file_path_or_data);\n",
       "                    if (host_or_text == 'text') {\n",
       "                        var el = window_obj.document.createElement('p');\n",
       "                        window_obj.document.body.overflow = 'auto';\n",
       "                        el.style.top = 0;\n",
       "                        el.style.left = 0;\n",
       "                        el.innerHTML = decodedData;\n",
       "                        window_obj.document.body.appendChild(el);\n",
       "                    } else {\n",
       "                        window_obj.document.body.innerHTML = decodedData;\n",
       "                    }\n",
       "                }\n",
       "                kql_Magic_what_new_history = window_obj;\n",
       "            }\n",
       "            </script>\n",
       "\n",
       "            </body></html>"
      ],
      "text/plain": [
       "<IPython.core.display.HTML object>"
      ]
     },
     "metadata": {},
     "output_type": "display_data"
    }
   ],
   "source": [
    "%reload_ext Kqlmagic"
   ]
  },
  {
   "cell_type": "code",
   "execution_count": 4,
   "id": "5bca6e02",
   "metadata": {},
   "outputs": [
    {
     "data": {
      "text/html": [
       "<!DOCTYPE html>\n",
       "                            <html><body><script>\n",
       "\n",
       "                                // close authentication window\n",
       "                                if (kql_MagicUserCodeAuthWindow && kql_MagicUserCodeAuthWindow.opener != null && !kql_MagicUserCodeAuthWindow.closed) {\n",
       "                                    kql_MagicUserCodeAuthWindow.close()\n",
       "                                }\n",
       "                                // TODO: make sure, you clear the right cell. BTW, not sure it is a must to do any clearing\n",
       "\n",
       "                                // clear output cell\n",
       "                                Jupyter.notebook.clear_output(Jupyter.notebook.get_selected_index())\n",
       "\n",
       "                                // TODO: if in run all mode, move to last cell, otherwise move to next cell\n",
       "                                // move to next cell\n",
       "\n",
       "                            </script></body></html>"
      ],
      "text/plain": [
       "<IPython.core.display.HTML object>"
      ]
     },
     "metadata": {},
     "output_type": "display_data"
    },
    {
     "data": {
      "text/html": [
       "<!DOCTYPE html>\n",
       "            <html><body>\n",
       "            <div style=''>\n",
       "            \n",
       "            <button onclick=\"this.style.visibility='visible';\n",
       "            kql_MagicLaunchWindowFunction('kqlmagic/temp_files/680e381a-100c-4cdf-bb84-b355e26d7a45/_Samples_at_help_schema.html', 'fullscreen=no,directories=no,location=no,menubar=no,resizable=yes,scrollbars=yes,status=no,titlebar=no,toolbar=no,', '_Samples_at_help_schema', '');\n",
       "            kql_MagicCloseWindow(kql_Magic__Samples_at_help_schema, -1, -1);\">\n",
       "            popup schema Samples@help</button>\n",
       "            </div>\n",
       "\n",
       "            <script>\n",
       "            var kql_Magic__Samples_at_help_schema = null;\n",
       "\n",
       "\n",
       "            function kql_MagicCloseWindow(window_obj, obj_secs, itself_secs) {\n",
       "                if (obj_secs >= 0) {\n",
       "                    _timeout = setTimeout(function(){\n",
       "                        window_obj.close();\n",
       "                        if (itself_secs >= 0) {\n",
       "                            __timeout = setTimeout(function(){window.close();}, itself_secs * 1000);\n",
       "                        }\n",
       "                    }, obj_secs * 1000);\n",
       "                } else if (itself_secs >= 0) {\n",
       "                    _timeout = setTimeout(function(){window.close();}, itself_secs * 1000);\n",
       "                }\n",
       "            }\n",
       "\n",
       "            function kql_MagicLaunchWindowFunction(file_path_or_data, window_params, window_name, host_or_text) {\n",
       "                var url;\n",
       "                const baseURI = String(window.location);\n",
       "                if (host_or_text == 'text' || host_or_text == 'body') {\n",
       "                    url = ''\n",
       "                } else if (file_path_or_data.startsWith('http')) {\n",
       "                    url = file_path_or_data;\n",
       "                } else if (host_or_text.endsWith('.azureml.ms') || host_or_text.endsWith('.azureml.net')) {\n",
       "                    let azuremlBaseURI = String(window.document.baseURI);\n",
       "                    let start = azuremlBaseURI.search('activeFilePath=');\n",
       "                    if (start > 0) {\n",
       "                        start += 'activeFilePath='.length;\n",
       "                        let end = azuremlBaseURI.substring(start).search('&');\n",
       "                        if (end < 0) {\n",
       "                            end = undefined;\n",
       "                        }\n",
       "                        let parts = azuremlBaseURI.substring(start, end).split('/');\n",
       "                        parts.pop();\n",
       "                        url = host_or_text + '/tree/' + parts.join('/') + '/' + file_path_or_data;\n",
       "                    } else {\n",
       "                        var parts = baseURI.split('/');\n",
       "                        parts.pop();\n",
       "                        url = parts.join('/') + '/' + file_path_or_data;\n",
       "                    }\n",
       "                } else {\n",
       "                    var base_url = '';\n",
       "\n",
       "                    // check if azure notebook\n",
       "                    var azure_host = (host_or_text == null || host_or_text.length == 0) ? 'https://notebooks.azure.com' : host_or_text;\n",
       "                    var start = azure_host.search('//');\n",
       "                    var azure_host_suffix = '.' + azure_host.substring(start+2);\n",
       "\n",
       "                    var end = baseURI.search(azure_host_suffix);\n",
       "                    start = baseURI.search('//');\n",
       "                    if (start > 0 && end > 0) {\n",
       "                        // # azure notebook environment, assume template: https://library-user.notebooks.azure.com\n",
       "                        var parts = baseURI.substring(start+2, end).split('-');\n",
       "                        if (parts.length == 2) {\n",
       "                            var library = parts[0];\n",
       "                            var user = parts[1];\n",
       "                            base_url = azure_host + '/api/user/' +user+ '/library/' +library+ '/html/';\n",
       "                        }\n",
       "                    }\n",
       "\n",
       "                    // check if local jupyter lab\n",
       "                    if (base_url.length == 0) {\n",
       "                        var configDataScipt  = document.getElementById('jupyter-config-data');\n",
       "                        if (configDataScipt != null) {\n",
       "                            var jupyterConfigData = JSON.parse(configDataScipt.textContent);\n",
       "                            if (jupyterConfigData['appName'] == 'JupyterLab' && jupyterConfigData['serverRoot'] != null &&  jupyterConfigData['treeUrl'] != null) {\n",
       "                                var basePath = 'C:/Users/Jeffrey.Mosley/OneDrive - Unilever/Unilever' + '/';\n",
       "                                if (basePath.startsWith(jupyterConfigData['serverRoot'])) {\n",
       "                                    base_url = '/files/' + basePath.substring(jupyterConfigData['serverRoot'].length+1);\n",
       "                                }\n",
       "                            }\n",
       "                        }\n",
       "                    }\n",
       "\n",
       "                    // works for local jupyter notebook\n",
       "                    if (base_url.length == 0) {\n",
       "\n",
       "                        var parts = baseURI.split('/');\n",
       "                        parts.pop(); // remove notebook name segment\n",
       "                        base_url = parts.join('/') + '/';\n",
       "                    }\n",
       "                    url = base_url + file_path_or_data;\n",
       "                }\n",
       "\n",
       "                window.focus();\n",
       "                var w = screen.width / 2;\n",
       "                var h = screen.height / 2;\n",
       "                params = 'width='+w+',height='+h;\n",
       "                // kql_Magic + window_name should be a global variable \n",
       "                window_obj = window.open(url, window_name, window_params + params);\n",
       "                if (url == '') {\n",
       "                    let decodedData = atob(file_path_or_data);\n",
       "                    if (host_or_text == 'text') {\n",
       "                        var el = window_obj.document.createElement('p');\n",
       "                        window_obj.document.body.overflow = 'auto';\n",
       "                        el.style.top = 0;\n",
       "                        el.style.left = 0;\n",
       "                        el.innerHTML = decodedData;\n",
       "                        window_obj.document.body.appendChild(el);\n",
       "                    } else {\n",
       "                        window_obj.document.body.innerHTML = decodedData;\n",
       "                    }\n",
       "                }\n",
       "                kql_Magic__Samples_at_help_schema = window_obj;\n",
       "            }\n",
       "            </script>\n",
       "\n",
       "            </body></html>"
      ],
      "text/plain": [
       "<IPython.core.display.HTML object>"
      ]
     },
     "metadata": {},
     "output_type": "display_data"
    },
    {
     "data": {
      "application/javascript": [
       "try {IPython.notebook.kernel.reconnect();} catch(err) {;}"
      ],
      "text/plain": [
       "<IPython.core.display.Javascript object>"
      ]
     },
     "metadata": {},
     "output_type": "display_data"
    }
   ],
   "source": [
    "%kql kusto://code;cluster='Help';database='Samples'"
   ]
  },
  {
   "cell_type": "code",
   "execution_count": 3,
   "id": "c4598733",
   "metadata": {},
   "outputs": [
    {
     "name": "stdout",
     "output_type": "stream",
     "text": [
      "env: PYTHONHASHSEED=0\n",
      "Cache file name:  df2659477725914994429.pkl\n"
     ]
    }
   ],
   "source": [
    "# NOTE: to make hash() consistent set env. variable PYTHONHASHSEED=0\n",
    "%env PYTHONHASHSEED=0\n",
    "\n",
    "q = '''\n",
    "OccupancyDetection\n",
    "'''\n",
    "\n",
    "fn = \"df\" + str(hash(q)) + \".pkl\"\n",
    "print(\"Cache file name: \", fn)"
   ]
  },
  {
   "cell_type": "code",
   "execution_count": 4,
   "id": "7d9c7c2a",
   "metadata": {},
   "outputs": [
    {
     "name": "stdout",
     "output_type": "stream",
     "text": [
      "Execute query...\n",
      "Line magic function `%kql` not found.\n"
     ]
    }
   ],
   "source": [
    "fn = \"df\" + str(hash(q)) + \".pkl\"\n",
    "try:\n",
    "    df = pd.read_pickle(fn)\n",
    "    print(\"Load df from \" + fn)\n",
    "except:\n",
    "    print(\"Execute query...\")\n",
    "    try:\n",
    "        %kql res << -query q\n",
    "        df = res.to_dataframe()\n",
    "        print(\"Save df to \" + fn)\n",
    "        df.to_pickle(fn)\n",
    "        print(\"\\n\", df.shape, \"\\n\", df.columns)\n",
    "    except Exception as ex:\n",
    "        print(ex)"
   ]
  },
  {
   "cell_type": "code",
   "execution_count": 5,
   "id": "4e934c74",
   "metadata": {},
   "outputs": [
    {
     "ename": "NameError",
     "evalue": "name 'df' is not defined",
     "output_type": "error",
     "traceback": [
      "\u001b[1;31m---------------------------------------------------------------------------\u001b[0m",
      "\u001b[1;31mNameError\u001b[0m                                 Traceback (most recent call last)",
      "\u001b[1;32m~\\AppData\\Local\\Temp\\ipykernel_13672\\2512421524.py\u001b[0m in \u001b[0;36m<module>\u001b[1;34m\u001b[0m\n\u001b[1;32m----> 1\u001b[1;33m \u001b[0mprint\u001b[0m\u001b[1;33m(\u001b[0m\u001b[0mdf\u001b[0m\u001b[1;33m.\u001b[0m\u001b[0mshape\u001b[0m\u001b[1;33m,\u001b[0m \u001b[1;34m\"\\n\"\u001b[0m\u001b[1;33m)\u001b[0m\u001b[1;33m\u001b[0m\u001b[1;33m\u001b[0m\u001b[0m\n\u001b[0m\u001b[0;32m      2\u001b[0m \u001b[0mprint\u001b[0m\u001b[1;33m(\u001b[0m\u001b[0mdf\u001b[0m\u001b[1;33m[\u001b[0m\u001b[1;33m-\u001b[0m\u001b[1;36m4\u001b[0m\u001b[1;33m:\u001b[0m\u001b[1;33m]\u001b[0m\u001b[1;33m)\u001b[0m\u001b[1;33m\u001b[0m\u001b[1;33m\u001b[0m\u001b[0m\n",
      "\u001b[1;31mNameError\u001b[0m: name 'df' is not defined"
     ]
    }
   ],
   "source": [
    "print(df.shape, \"\\n\")\n",
    "print(df[-4:])"
   ]
  },
  {
   "cell_type": "code",
   "execution_count": 20,
   "id": "88998755",
   "metadata": {},
   "outputs": [
    {
     "name": "stdout",
     "output_type": "stream",
     "text": [
      "(8143, 5) (8143,) (12417, 5) (12417,)\n"
     ]
    }
   ],
   "source": [
    "train_x = df[df['Test'] == False][['Temperature', 'Humidity', 'Light', 'CO2', 'HumidityRatio']]\n",
    "train_y = df[df['Test'] == False]['Occupancy']\n",
    "test_x = df[df['Test'] == True][['Temperature', 'Humidity', 'Light', 'CO2', 'HumidityRatio']]\n",
    "test_y = df[df['Test'] == True]['Occupancy']\n",
    "\n",
    "print(train_x.shape, train_y.shape, test_x.shape, test_y.shape)"
   ]
  },
  {
   "cell_type": "code",
   "execution_count": 21,
   "id": "4980cdb4",
   "metadata": {},
   "outputs": [],
   "source": [
    "columns = [\"Temperature\",\"Humidity\",\"Light\",\"CO2\",\"HumidityRatio\",\"Occupancy\"]\n",
    "    \n",
    "\n",
    "\n",
    "target = [\"Occupancy\"]"
   ]
  },
  {
   "cell_type": "code",
   "execution_count": 22,
   "id": "f1a2a0d4",
   "metadata": {},
   "outputs": [
    {
     "data": {
      "text/plain": [
       "[True,\n",
       " True,\n",
       " True,\n",
       " True,\n",
       " True,\n",
       " True,\n",
       " True,\n",
       " True,\n",
       " True,\n",
       " True,\n",
       " True,\n",
       " True,\n",
       " True,\n",
       " True,\n",
       " True,\n",
       " True,\n",
       " False,\n",
       " False,\n",
       " False,\n",
       " False,\n",
       " False,\n",
       " False,\n",
       " False,\n",
       " False,\n",
       " False,\n",
       " False,\n",
       " False,\n",
       " False,\n",
       " False,\n",
       " False,\n",
       " False,\n",
       " False,\n",
       " False,\n",
       " False,\n",
       " False,\n",
       " False,\n",
       " False,\n",
       " False,\n",
       " False,\n",
       " False,\n",
       " False,\n",
       " False,\n",
       " False,\n",
       " False,\n",
       " False,\n",
       " False,\n",
       " False,\n",
       " False,\n",
       " False,\n",
       " False,\n",
       " False,\n",
       " False,\n",
       " False,\n",
       " False,\n",
       " False,\n",
       " False,\n",
       " False,\n",
       " False,\n",
       " False,\n",
       " False,\n",
       " False,\n",
       " False,\n",
       " False,\n",
       " False,\n",
       " False,\n",
       " False,\n",
       " False,\n",
       " False,\n",
       " False,\n",
       " False,\n",
       " False,\n",
       " False,\n",
       " False,\n",
       " False,\n",
       " False,\n",
       " False,\n",
       " False,\n",
       " False,\n",
       " False,\n",
       " False,\n",
       " False,\n",
       " False,\n",
       " False,\n",
       " False,\n",
       " False,\n",
       " False,\n",
       " False,\n",
       " False,\n",
       " False,\n",
       " False,\n",
       " False,\n",
       " False,\n",
       " False,\n",
       " False,\n",
       " False,\n",
       " False,\n",
       " False,\n",
       " False,\n",
       " False,\n",
       " False,\n",
       " False,\n",
       " False,\n",
       " False,\n",
       " False,\n",
       " False,\n",
       " False,\n",
       " False,\n",
       " False,\n",
       " False,\n",
       " False,\n",
       " False,\n",
       " False,\n",
       " False,\n",
       " False,\n",
       " False,\n",
       " False,\n",
       " False,\n",
       " False,\n",
       " False,\n",
       " False,\n",
       " False,\n",
       " False,\n",
       " False,\n",
       " False,\n",
       " False,\n",
       " False,\n",
       " False,\n",
       " False,\n",
       " False,\n",
       " False,\n",
       " False,\n",
       " False,\n",
       " False,\n",
       " False,\n",
       " False,\n",
       " False,\n",
       " False,\n",
       " False,\n",
       " False,\n",
       " False,\n",
       " False,\n",
       " False,\n",
       " False,\n",
       " False,\n",
       " False,\n",
       " False,\n",
       " False,\n",
       " False,\n",
       " False,\n",
       " False,\n",
       " False,\n",
       " False,\n",
       " False,\n",
       " False,\n",
       " False,\n",
       " False,\n",
       " False,\n",
       " False,\n",
       " False,\n",
       " False,\n",
       " False,\n",
       " False,\n",
       " False,\n",
       " False,\n",
       " False,\n",
       " False,\n",
       " False,\n",
       " False,\n",
       " False,\n",
       " False,\n",
       " False,\n",
       " False,\n",
       " False,\n",
       " False,\n",
       " False,\n",
       " False,\n",
       " False,\n",
       " False,\n",
       " False,\n",
       " False,\n",
       " False,\n",
       " False,\n",
       " False,\n",
       " False,\n",
       " False,\n",
       " False,\n",
       " False,\n",
       " False,\n",
       " False,\n",
       " False,\n",
       " False,\n",
       " False,\n",
       " False,\n",
       " False,\n",
       " False,\n",
       " False,\n",
       " False,\n",
       " False,\n",
       " False,\n",
       " False,\n",
       " False,\n",
       " False,\n",
       " False,\n",
       " False,\n",
       " False,\n",
       " False,\n",
       " False,\n",
       " False,\n",
       " False,\n",
       " False,\n",
       " False,\n",
       " False,\n",
       " False,\n",
       " False,\n",
       " False,\n",
       " False,\n",
       " False,\n",
       " False,\n",
       " False,\n",
       " False,\n",
       " False,\n",
       " False,\n",
       " False,\n",
       " False,\n",
       " False,\n",
       " False,\n",
       " False,\n",
       " False,\n",
       " False,\n",
       " False,\n",
       " False,\n",
       " False,\n",
       " False,\n",
       " False,\n",
       " False,\n",
       " False,\n",
       " False,\n",
       " False,\n",
       " False,\n",
       " False,\n",
       " False,\n",
       " False,\n",
       " False,\n",
       " False,\n",
       " False,\n",
       " False,\n",
       " False,\n",
       " False,\n",
       " False,\n",
       " False,\n",
       " False,\n",
       " False,\n",
       " False,\n",
       " False,\n",
       " False,\n",
       " False,\n",
       " False,\n",
       " False,\n",
       " False,\n",
       " False,\n",
       " False,\n",
       " False,\n",
       " False,\n",
       " False,\n",
       " False,\n",
       " False,\n",
       " False,\n",
       " False,\n",
       " False,\n",
       " False,\n",
       " False,\n",
       " False,\n",
       " False,\n",
       " False,\n",
       " False,\n",
       " False,\n",
       " False,\n",
       " False,\n",
       " False,\n",
       " False,\n",
       " False,\n",
       " False,\n",
       " False,\n",
       " False,\n",
       " False,\n",
       " False,\n",
       " False,\n",
       " False,\n",
       " False,\n",
       " False,\n",
       " False,\n",
       " False,\n",
       " False,\n",
       " False,\n",
       " False,\n",
       " False,\n",
       " False,\n",
       " False,\n",
       " False,\n",
       " False,\n",
       " False,\n",
       " False,\n",
       " False,\n",
       " False,\n",
       " False,\n",
       " False,\n",
       " False,\n",
       " False,\n",
       " False,\n",
       " False,\n",
       " False,\n",
       " False,\n",
       " False,\n",
       " False,\n",
       " False,\n",
       " False,\n",
       " False,\n",
       " False,\n",
       " False,\n",
       " False,\n",
       " False,\n",
       " False,\n",
       " False,\n",
       " False,\n",
       " False,\n",
       " False,\n",
       " False,\n",
       " False,\n",
       " False,\n",
       " False,\n",
       " False,\n",
       " False,\n",
       " False,\n",
       " False,\n",
       " False,\n",
       " False,\n",
       " False,\n",
       " False,\n",
       " False,\n",
       " False,\n",
       " False,\n",
       " False,\n",
       " False,\n",
       " False,\n",
       " False,\n",
       " False,\n",
       " False,\n",
       " False,\n",
       " False,\n",
       " False,\n",
       " False,\n",
       " False,\n",
       " False,\n",
       " False,\n",
       " False,\n",
       " False,\n",
       " False,\n",
       " False,\n",
       " False,\n",
       " False,\n",
       " False,\n",
       " False,\n",
       " False,\n",
       " False,\n",
       " False,\n",
       " False,\n",
       " False,\n",
       " False,\n",
       " False,\n",
       " False,\n",
       " False,\n",
       " False,\n",
       " False,\n",
       " False,\n",
       " False,\n",
       " False,\n",
       " False,\n",
       " False,\n",
       " False,\n",
       " False,\n",
       " False,\n",
       " False,\n",
       " False,\n",
       " False,\n",
       " False,\n",
       " False,\n",
       " False,\n",
       " False,\n",
       " False,\n",
       " False,\n",
       " False,\n",
       " False,\n",
       " False,\n",
       " False,\n",
       " False,\n",
       " False,\n",
       " False,\n",
       " False,\n",
       " False,\n",
       " False,\n",
       " False,\n",
       " False,\n",
       " False,\n",
       " False,\n",
       " False,\n",
       " False,\n",
       " False,\n",
       " False,\n",
       " False,\n",
       " False,\n",
       " False,\n",
       " False,\n",
       " False,\n",
       " False,\n",
       " False,\n",
       " False,\n",
       " False,\n",
       " False,\n",
       " False,\n",
       " False,\n",
       " False,\n",
       " False,\n",
       " False,\n",
       " False,\n",
       " False,\n",
       " False,\n",
       " False,\n",
       " False,\n",
       " False,\n",
       " False,\n",
       " False,\n",
       " False,\n",
       " False,\n",
       " False,\n",
       " False,\n",
       " False,\n",
       " False,\n",
       " False,\n",
       " False,\n",
       " False,\n",
       " False,\n",
       " False,\n",
       " False,\n",
       " False,\n",
       " False,\n",
       " False,\n",
       " False,\n",
       " False,\n",
       " False,\n",
       " False,\n",
       " False,\n",
       " False,\n",
       " False,\n",
       " False,\n",
       " False,\n",
       " False,\n",
       " False,\n",
       " False,\n",
       " False,\n",
       " False,\n",
       " False,\n",
       " False,\n",
       " False,\n",
       " False,\n",
       " False,\n",
       " False,\n",
       " False,\n",
       " False,\n",
       " False,\n",
       " False,\n",
       " False,\n",
       " False,\n",
       " False,\n",
       " False,\n",
       " False,\n",
       " False,\n",
       " False,\n",
       " False,\n",
       " False,\n",
       " False,\n",
       " False,\n",
       " False,\n",
       " False,\n",
       " False,\n",
       " False,\n",
       " False,\n",
       " False,\n",
       " False,\n",
       " False,\n",
       " False,\n",
       " False,\n",
       " False,\n",
       " False,\n",
       " False,\n",
       " False,\n",
       " False,\n",
       " False,\n",
       " False,\n",
       " False,\n",
       " False,\n",
       " False,\n",
       " False,\n",
       " False,\n",
       " False,\n",
       " False,\n",
       " False,\n",
       " False,\n",
       " False,\n",
       " False,\n",
       " False,\n",
       " False,\n",
       " False,\n",
       " False,\n",
       " False,\n",
       " False,\n",
       " False,\n",
       " False,\n",
       " False,\n",
       " False,\n",
       " False,\n",
       " False,\n",
       " False,\n",
       " False,\n",
       " False,\n",
       " False,\n",
       " False,\n",
       " False,\n",
       " False,\n",
       " False,\n",
       " False,\n",
       " False,\n",
       " False,\n",
       " False,\n",
       " False,\n",
       " False,\n",
       " False,\n",
       " False,\n",
       " False,\n",
       " False,\n",
       " False,\n",
       " False,\n",
       " False,\n",
       " False,\n",
       " False,\n",
       " False,\n",
       " False,\n",
       " False,\n",
       " False,\n",
       " False,\n",
       " False,\n",
       " False,\n",
       " False,\n",
       " False,\n",
       " False,\n",
       " False,\n",
       " False,\n",
       " False,\n",
       " False,\n",
       " False,\n",
       " False,\n",
       " False,\n",
       " False,\n",
       " False,\n",
       " False,\n",
       " False,\n",
       " False,\n",
       " False,\n",
       " False,\n",
       " False,\n",
       " False,\n",
       " False,\n",
       " False,\n",
       " False,\n",
       " False,\n",
       " False,\n",
       " False,\n",
       " False,\n",
       " False,\n",
       " False,\n",
       " False,\n",
       " False,\n",
       " False,\n",
       " False,\n",
       " False,\n",
       " False,\n",
       " False,\n",
       " False,\n",
       " False,\n",
       " False,\n",
       " False,\n",
       " False,\n",
       " False,\n",
       " False,\n",
       " False,\n",
       " False,\n",
       " False,\n",
       " False,\n",
       " False,\n",
       " False,\n",
       " False,\n",
       " False,\n",
       " False,\n",
       " False,\n",
       " False,\n",
       " False,\n",
       " False,\n",
       " False,\n",
       " False,\n",
       " False,\n",
       " False,\n",
       " False,\n",
       " False,\n",
       " False,\n",
       " False,\n",
       " False,\n",
       " False,\n",
       " False,\n",
       " False,\n",
       " False,\n",
       " False,\n",
       " False,\n",
       " False,\n",
       " False,\n",
       " False,\n",
       " False,\n",
       " False,\n",
       " False,\n",
       " False,\n",
       " False,\n",
       " False,\n",
       " False,\n",
       " False,\n",
       " False,\n",
       " False,\n",
       " False,\n",
       " False,\n",
       " False,\n",
       " False,\n",
       " False,\n",
       " False,\n",
       " False,\n",
       " False,\n",
       " False,\n",
       " False,\n",
       " False,\n",
       " False,\n",
       " False,\n",
       " False,\n",
       " False,\n",
       " False,\n",
       " False,\n",
       " False,\n",
       " False,\n",
       " False,\n",
       " False,\n",
       " False,\n",
       " False,\n",
       " False,\n",
       " False,\n",
       " False,\n",
       " False,\n",
       " False,\n",
       " False,\n",
       " False,\n",
       " False,\n",
       " False,\n",
       " False,\n",
       " False,\n",
       " False,\n",
       " False,\n",
       " False,\n",
       " False,\n",
       " False,\n",
       " False,\n",
       " False,\n",
       " False,\n",
       " False,\n",
       " False,\n",
       " False,\n",
       " False,\n",
       " False,\n",
       " False,\n",
       " False,\n",
       " False,\n",
       " False,\n",
       " False,\n",
       " False,\n",
       " False,\n",
       " False,\n",
       " False,\n",
       " False,\n",
       " False,\n",
       " False,\n",
       " False,\n",
       " False,\n",
       " False,\n",
       " False,\n",
       " False,\n",
       " False,\n",
       " False,\n",
       " False,\n",
       " False,\n",
       " False,\n",
       " False,\n",
       " False,\n",
       " False,\n",
       " False,\n",
       " False,\n",
       " False,\n",
       " False,\n",
       " False,\n",
       " False,\n",
       " False,\n",
       " False,\n",
       " False,\n",
       " False,\n",
       " False,\n",
       " False,\n",
       " False,\n",
       " False,\n",
       " False,\n",
       " False,\n",
       " False,\n",
       " False,\n",
       " False,\n",
       " False,\n",
       " False,\n",
       " False,\n",
       " False,\n",
       " False,\n",
       " False,\n",
       " False,\n",
       " False,\n",
       " False,\n",
       " False,\n",
       " False,\n",
       " False,\n",
       " False,\n",
       " False,\n",
       " False,\n",
       " False,\n",
       " False,\n",
       " False,\n",
       " False,\n",
       " False,\n",
       " False,\n",
       " False,\n",
       " False,\n",
       " False,\n",
       " False,\n",
       " False,\n",
       " False,\n",
       " False,\n",
       " False,\n",
       " False,\n",
       " False,\n",
       " False,\n",
       " False,\n",
       " False,\n",
       " False,\n",
       " False,\n",
       " False,\n",
       " False,\n",
       " False,\n",
       " False,\n",
       " False,\n",
       " False,\n",
       " False,\n",
       " False,\n",
       " False,\n",
       " False,\n",
       " False,\n",
       " False,\n",
       " False,\n",
       " False,\n",
       " False,\n",
       " False,\n",
       " False,\n",
       " False,\n",
       " False,\n",
       " False,\n",
       " False,\n",
       " False,\n",
       " False,\n",
       " False,\n",
       " False,\n",
       " False,\n",
       " False,\n",
       " False,\n",
       " False,\n",
       " False,\n",
       " False,\n",
       " False,\n",
       " False,\n",
       " False,\n",
       " False,\n",
       " False,\n",
       " False,\n",
       " False,\n",
       " False,\n",
       " False,\n",
       " False,\n",
       " False,\n",
       " False,\n",
       " False,\n",
       " False,\n",
       " False,\n",
       " False,\n",
       " False,\n",
       " False,\n",
       " False,\n",
       " False,\n",
       " False,\n",
       " False,\n",
       " False,\n",
       " False,\n",
       " False,\n",
       " False,\n",
       " False,\n",
       " False,\n",
       " False,\n",
       " False,\n",
       " False,\n",
       " False,\n",
       " False,\n",
       " False,\n",
       " False,\n",
       " True,\n",
       " False,\n",
       " False,\n",
       " False,\n",
       " True,\n",
       " True,\n",
       " True,\n",
       " True,\n",
       " True,\n",
       " True,\n",
       " True,\n",
       " True,\n",
       " True,\n",
       " True,\n",
       " True,\n",
       " True,\n",
       " True,\n",
       " True,\n",
       " True,\n",
       " True,\n",
       " True,\n",
       " True,\n",
       " True,\n",
       " True,\n",
       " True,\n",
       " True,\n",
       " True,\n",
       " True,\n",
       " True,\n",
       " True,\n",
       " True,\n",
       " True,\n",
       " True,\n",
       " True,\n",
       " True,\n",
       " True,\n",
       " True,\n",
       " True,\n",
       " True,\n",
       " True,\n",
       " True,\n",
       " True,\n",
       " True,\n",
       " True,\n",
       " False,\n",
       " True,\n",
       " True,\n",
       " True,\n",
       " True,\n",
       " True,\n",
       " True,\n",
       " True,\n",
       " True,\n",
       " True,\n",
       " True,\n",
       " True,\n",
       " True,\n",
       " True,\n",
       " True,\n",
       " True,\n",
       " True,\n",
       " True,\n",
       " True,\n",
       " True,\n",
       " True,\n",
       " True,\n",
       " True,\n",
       " True,\n",
       " True,\n",
       " True,\n",
       " True,\n",
       " True,\n",
       " True,\n",
       " True,\n",
       " True,\n",
       " True,\n",
       " True,\n",
       " True,\n",
       " True,\n",
       " True,\n",
       " True,\n",
       " True,\n",
       " True,\n",
       " True,\n",
       " True,\n",
       " True,\n",
       " True,\n",
       " True,\n",
       " True,\n",
       " True,\n",
       " True,\n",
       " True,\n",
       " True,\n",
       " True,\n",
       " True,\n",
       " True,\n",
       " True,\n",
       " True,\n",
       " True,\n",
       " True,\n",
       " True,\n",
       " True,\n",
       " True,\n",
       " True,\n",
       " True,\n",
       " True,\n",
       " True,\n",
       " True,\n",
       " True,\n",
       " True,\n",
       " True,\n",
       " True,\n",
       " True,\n",
       " True,\n",
       " True,\n",
       " True,\n",
       " True,\n",
       " True,\n",
       " True,\n",
       " True,\n",
       " True,\n",
       " True,\n",
       " True,\n",
       " True,\n",
       " True,\n",
       " True,\n",
       " True,\n",
       " True,\n",
       " True,\n",
       " True,\n",
       " True,\n",
       " True,\n",
       " True,\n",
       " True,\n",
       " True,\n",
       " True,\n",
       " True,\n",
       " True,\n",
       " True,\n",
       " True,\n",
       " True,\n",
       " True,\n",
       " True,\n",
       " True,\n",
       " True,\n",
       " True,\n",
       " True,\n",
       " True,\n",
       " True,\n",
       " True,\n",
       " True,\n",
       " True,\n",
       " True,\n",
       " True,\n",
       " True,\n",
       " True,\n",
       " True,\n",
       " True,\n",
       " True,\n",
       " True,\n",
       " True,\n",
       " True,\n",
       " True,\n",
       " True,\n",
       " False,\n",
       " False,\n",
       " False,\n",
       " False,\n",
       " True,\n",
       " True,\n",
       " True,\n",
       " True,\n",
       " True,\n",
       " ...]"
      ]
     },
     "execution_count": 22,
     "metadata": {},
     "output_type": "execute_result"
    }
   ],
   "source": [
    "Occupancy =df[\"Occupancy\"].tolist()\n",
    "Occupancy"
   ]
  },
  {
   "cell_type": "code",
   "execution_count": 2,
   "id": "7146e59c",
   "metadata": {},
   "outputs": [
    {
     "ename": "NameError",
     "evalue": "name 'df' is not defined",
     "output_type": "error",
     "traceback": [
      "\u001b[1;31m---------------------------------------------------------------------------\u001b[0m",
      "\u001b[1;31mNameError\u001b[0m                                 Traceback (most recent call last)",
      "\u001b[1;32m~\\AppData\\Local\\Temp\\ipykernel_13672\\251492709.py\u001b[0m in \u001b[0;36m<module>\u001b[1;34m\u001b[0m\n\u001b[1;32m----> 1\u001b[1;33m \u001b[0mdf\u001b[0m \u001b[1;33m=\u001b[0m \u001b[0mdf\u001b[0m\u001b[1;33m.\u001b[0m\u001b[0mloc\u001b[0m\u001b[1;33m[\u001b[0m\u001b[1;33m:\u001b[0m\u001b[1;33m,\u001b[0m\u001b[0mcolumns\u001b[0m\u001b[1;33m]\u001b[0m\u001b[1;33m.\u001b[0m\u001b[0mcopy\u001b[0m\u001b[1;33m(\u001b[0m\u001b[1;33m)\u001b[0m\u001b[1;33m\u001b[0m\u001b[1;33m\u001b[0m\u001b[0m\n\u001b[0m\u001b[0;32m      2\u001b[0m \u001b[1;33m\u001b[0m\u001b[0m\n\u001b[0;32m      3\u001b[0m \u001b[1;31m# Drop the null columns where all values are null\u001b[0m\u001b[1;33m\u001b[0m\u001b[1;33m\u001b[0m\u001b[1;33m\u001b[0m\u001b[0m\n\u001b[0;32m      4\u001b[0m \u001b[0moccupancy_df\u001b[0m \u001b[1;33m=\u001b[0m \u001b[0mdf\u001b[0m\u001b[1;33m.\u001b[0m\u001b[0mdropna\u001b[0m\u001b[1;33m(\u001b[0m\u001b[0maxis\u001b[0m\u001b[1;33m=\u001b[0m\u001b[1;34m'columns'\u001b[0m\u001b[1;33m,\u001b[0m \u001b[0mhow\u001b[0m\u001b[1;33m=\u001b[0m\u001b[1;34m'all'\u001b[0m\u001b[1;33m)\u001b[0m\u001b[1;33m\u001b[0m\u001b[1;33m\u001b[0m\u001b[0m\n\u001b[0;32m      5\u001b[0m \u001b[1;33m\u001b[0m\u001b[0m\n",
      "\u001b[1;31mNameError\u001b[0m: name 'df' is not defined"
     ]
    }
   ],
   "source": [
    "df = df.loc[:,columns].copy()\n",
    "\n",
    "# Drop the null columns where all values are null\n",
    "occupancy_df = df.dropna(axis='columns', how='all')\n",
    "\n",
    "# Drop the null rows\n",
    "occupancy_df = df.dropna()\n",
    "\n",
    "# Convert the target column values to low_Earners and high_Earners based on their values\n",
    "#x = {'Current': 'low_earner'}   \n",
    "#df = df.replace(x)\n",
    "   \n",
    "#x = dict.fromkeys(['Late (31-120 days)', 'Late (16-30 days)', 'Default', 'In Grace Period'], 'high_earner')    \n",
    "#df = df.replace(x)\n",
    "\n",
    "#df.reset_index(inplace=True, drop=True)\n",
    "\n",
    "\n",
    "\n",
    "\n",
    "occupancy_df.head()"
   ]
  },
  {
   "cell_type": "code",
   "execution_count": 25,
   "id": "3465b3c2",
   "metadata": {},
   "outputs": [],
   "source": [
    "X = occupancy_df.drop([\"Occupancy\"], axis=1)\n",
    "\n",
    "X = pd.get_dummies(X)\n",
    "\n",
    "# Create our target\n",
    "y = occupancy_df[\"CO2\"]"
   ]
  },
  {
   "cell_type": "code",
   "execution_count": 26,
   "id": "2bec7e6d",
   "metadata": {},
   "outputs": [
    {
     "data": {
      "text/html": [
       "<div>\n",
       "<style scoped>\n",
       "    .dataframe tbody tr th:only-of-type {\n",
       "        vertical-align: middle;\n",
       "    }\n",
       "\n",
       "    .dataframe tbody tr th {\n",
       "        vertical-align: top;\n",
       "    }\n",
       "\n",
       "    .dataframe thead th {\n",
       "        text-align: right;\n",
       "    }\n",
       "</style>\n",
       "<table border=\"1\" class=\"dataframe\">\n",
       "  <thead>\n",
       "    <tr style=\"text-align: right;\">\n",
       "      <th></th>\n",
       "      <th>Temperature</th>\n",
       "      <th>Humidity</th>\n",
       "      <th>Light</th>\n",
       "      <th>CO2</th>\n",
       "      <th>HumidityRatio</th>\n",
       "    </tr>\n",
       "  </thead>\n",
       "  <tbody>\n",
       "    <tr>\n",
       "      <th>count</th>\n",
       "      <td>20560.000000</td>\n",
       "      <td>20560.000000</td>\n",
       "      <td>20560.000000</td>\n",
       "      <td>20560.000000</td>\n",
       "      <td>20560.000000</td>\n",
       "    </tr>\n",
       "    <tr>\n",
       "      <th>mean</th>\n",
       "      <td>20.906212</td>\n",
       "      <td>27.655925</td>\n",
       "      <td>130.756622</td>\n",
       "      <td>690.553276</td>\n",
       "      <td>0.004228</td>\n",
       "    </tr>\n",
       "    <tr>\n",
       "      <th>std</th>\n",
       "      <td>1.055315</td>\n",
       "      <td>4.982154</td>\n",
       "      <td>210.430875</td>\n",
       "      <td>311.201281</td>\n",
       "      <td>0.000768</td>\n",
       "    </tr>\n",
       "    <tr>\n",
       "      <th>min</th>\n",
       "      <td>19.000000</td>\n",
       "      <td>16.745000</td>\n",
       "      <td>0.000000</td>\n",
       "      <td>412.750000</td>\n",
       "      <td>0.002674</td>\n",
       "    </tr>\n",
       "    <tr>\n",
       "      <th>25%</th>\n",
       "      <td>20.200000</td>\n",
       "      <td>24.500000</td>\n",
       "      <td>0.000000</td>\n",
       "      <td>460.000000</td>\n",
       "      <td>0.003719</td>\n",
       "    </tr>\n",
       "    <tr>\n",
       "      <th>50%</th>\n",
       "      <td>20.700000</td>\n",
       "      <td>27.290000</td>\n",
       "      <td>0.000000</td>\n",
       "      <td>565.416667</td>\n",
       "      <td>0.004292</td>\n",
       "    </tr>\n",
       "    <tr>\n",
       "      <th>75%</th>\n",
       "      <td>21.525000</td>\n",
       "      <td>31.290000</td>\n",
       "      <td>301.000000</td>\n",
       "      <td>804.666667</td>\n",
       "      <td>0.004832</td>\n",
       "    </tr>\n",
       "    <tr>\n",
       "      <th>max</th>\n",
       "      <td>24.408333</td>\n",
       "      <td>39.500000</td>\n",
       "      <td>1697.250000</td>\n",
       "      <td>2076.500000</td>\n",
       "      <td>0.006476</td>\n",
       "    </tr>\n",
       "  </tbody>\n",
       "</table>\n",
       "</div>"
      ],
      "text/plain": [
       "        Temperature      Humidity         Light           CO2  HumidityRatio\n",
       "count  20560.000000  20560.000000  20560.000000  20560.000000   20560.000000\n",
       "mean      20.906212     27.655925    130.756622    690.553276       0.004228\n",
       "std        1.055315      4.982154    210.430875    311.201281       0.000768\n",
       "min       19.000000     16.745000      0.000000    412.750000       0.002674\n",
       "25%       20.200000     24.500000      0.000000    460.000000       0.003719\n",
       "50%       20.700000     27.290000      0.000000    565.416667       0.004292\n",
       "75%       21.525000     31.290000    301.000000    804.666667       0.004832\n",
       "max       24.408333     39.500000   1697.250000   2076.500000       0.006476"
      ]
     },
     "execution_count": 26,
     "metadata": {},
     "output_type": "execute_result"
    }
   ],
   "source": [
    "X.describe()"
   ]
  },
  {
   "cell_type": "code",
   "execution_count": 27,
   "id": "b615aa6a",
   "metadata": {},
   "outputs": [
    {
     "data": {
      "text/plain": [
       "(20560, 5)"
      ]
     },
     "execution_count": 27,
     "metadata": {},
     "output_type": "execute_result"
    }
   ],
   "source": [
    "X.shape"
   ]
  },
  {
   "cell_type": "code",
   "execution_count": 28,
   "id": "f6efe67b",
   "metadata": {},
   "outputs": [
    {
     "data": {
      "text/plain": [
       "439.00     139\n",
       "438.00     134\n",
       "437.00     133\n",
       "435.00     129\n",
       "441.00     118\n",
       "          ... \n",
       "1061.80      1\n",
       "1065.25      1\n",
       "1045.20      1\n",
       "1049.60      1\n",
       "1864.00      1\n",
       "Name: CO2, Length: 5167, dtype: int64"
      ]
     },
     "execution_count": 28,
     "metadata": {},
     "output_type": "execute_result"
    }
   ],
   "source": [
    "# Check the balance of our target values\n",
    "y.value_counts()"
   ]
  },
  {
   "cell_type": "code",
   "execution_count": 29,
   "id": "3e2815c3",
   "metadata": {},
   "outputs": [],
   "source": [
    "# splitting the dataset into training and testing dataset\n",
    "from sklearn.model_selection import train_test_split\n",
    "X_train, X_test, y_train, y_test = train_test_split(X, y, test_size = 0.20)"
   ]
  },
  {
   "cell_type": "code",
   "execution_count": 30,
   "id": "8992bada",
   "metadata": {},
   "outputs": [
    {
     "name": "stdout",
     "output_type": "stream",
     "text": [
      "(16448, 5) (4112, 5) (16448,) (4112,)\n"
     ]
    }
   ],
   "source": [
    "print(X_train.shape, X_test.shape, y_train.shape,y_test.shape)"
   ]
  },
  {
   "cell_type": "code",
   "execution_count": 31,
   "id": "3e826974",
   "metadata": {},
   "outputs": [
    {
     "name": "stdout",
     "output_type": "stream",
     "text": [
      "(16448,)\n"
     ]
    }
   ],
   "source": [
    "print(y_train.shape)"
   ]
  },
  {
   "cell_type": "code",
   "execution_count": 32,
   "id": "ff901de1",
   "metadata": {},
   "outputs": [],
   "source": [
    "from sklearn.ensemble import RandomForestRegressor"
   ]
  },
  {
   "cell_type": "code",
   "execution_count": 33,
   "id": "f74c7cb7",
   "metadata": {},
   "outputs": [],
   "source": [
    "random_forest = RandomForestRegressor(n_estimators = 25, random_state =25)"
   ]
  },
  {
   "cell_type": "code",
   "execution_count": 35,
   "id": "099b30e0",
   "metadata": {},
   "outputs": [],
   "source": [
    "#Fitting the model\n",
    "CO2_rf= random_forest.fit(X_train, y_train)"
   ]
  },
  {
   "cell_type": "code",
   "execution_count": 36,
   "id": "adfed644",
   "metadata": {},
   "outputs": [],
   "source": [
    "#Training model evaluation"
   ]
  },
  {
   "cell_type": "code",
   "execution_count": 37,
   "id": "73a53247",
   "metadata": {},
   "outputs": [],
   "source": [
    "from sklearn.metrics import mean_absolute_error, mean_squared_error, explained_variance_score, r2_score"
   ]
  },
  {
   "cell_type": "code",
   "execution_count": 38,
   "id": "5ef2b3ee",
   "metadata": {},
   "outputs": [
    {
     "name": "stdout",
     "output_type": "stream",
     "text": [
      "The training r_sq is: 1.00\n"
     ]
    }
   ],
   "source": [
    "# The training r_sq\n",
    "print('The training r_sq is: %.2f'% CO2_rf.score(X_train, y_train))"
   ]
  },
  {
   "cell_type": "code",
   "execution_count": 39,
   "id": "0da07941",
   "metadata": {},
   "outputs": [],
   "source": [
    "# Prediction on the training dataset\n",
    "ytrain_pred = CO2_rf.predict(X_train)"
   ]
  },
  {
   "cell_type": "code",
   "execution_count": 40,
   "id": "a010fbb2",
   "metadata": {},
   "outputs": [
    {
     "name": "stdout",
     "output_type": "stream",
     "text": [
      "The MAE is: 0.03\n"
     ]
    }
   ],
   "source": [
    "# The MAE\n",
    "print('The MAE is: %.2f'% mean_absolute_error(y_train, ytrain_pred))"
   ]
  },
  {
   "cell_type": "code",
   "execution_count": 41,
   "id": "9583c825",
   "metadata": {},
   "outputs": [
    {
     "name": "stdout",
     "output_type": "stream",
     "text": [
      "The MSE is: 0.02\n"
     ]
    }
   ],
   "source": [
    "# The MSE\n",
    "print('The MSE is: %.2f'% mean_squared_error(y_train, ytrain_pred))"
   ]
  },
  {
   "cell_type": "code",
   "execution_count": 42,
   "id": "d28bfa1b",
   "metadata": {},
   "outputs": [
    {
     "name": "stdout",
     "output_type": "stream",
     "text": [
      "The RME is 0.15\n"
     ]
    }
   ],
   "source": [
    "# THe RMSE\n",
    "import numpy as np\n",
    "print('The RME is %.2f'% np.sqrt(mean_squared_error(y_train, ytrain_pred)))"
   ]
  },
  {
   "cell_type": "code",
   "execution_count": 43,
   "id": "11021a18",
   "metadata": {},
   "outputs": [
    {
     "name": "stdout",
     "output_type": "stream",
     "text": [
      "The EVS is: 1.00\n"
     ]
    }
   ],
   "source": [
    "# The EVS \n",
    "print('The EVS is: %.2f'% explained_variance_score(y_train, ytrain_pred))"
   ]
  },
  {
   "cell_type": "code",
   "execution_count": 44,
   "id": "84ea7bd0",
   "metadata": {},
   "outputs": [],
   "source": [
    "#Prediction on the testing data\n",
    "ytest_pred = CO2_rf.predict(X_test)"
   ]
  },
  {
   "cell_type": "code",
   "execution_count": 45,
   "id": "63858498",
   "metadata": {},
   "outputs": [
    {
     "name": "stdout",
     "output_type": "stream",
     "text": [
      "[ 442.75       463.        1167.498      471.         454.\n",
      "  581.6706667  572.         546.5        674.7        465.       ]\n"
     ]
    }
   ],
   "source": [
    "print(ytest_pred[:10])"
   ]
  },
  {
   "cell_type": "code",
   "execution_count": 46,
   "id": "7841968d",
   "metadata": {},
   "outputs": [
    {
     "name": "stdout",
     "output_type": "stream",
     "text": [
      "The testing r_sq is: 1.00\n"
     ]
    }
   ],
   "source": [
    "#The testing coef. of determination\n",
    "print('The testing r_sq is: %.2f'% r2_score(y_test, ytest_pred))"
   ]
  },
  {
   "cell_type": "code",
   "execution_count": 48,
   "id": "ece7607b",
   "metadata": {},
   "outputs": [
    {
     "name": "stdout",
     "output_type": "stream",
     "text": [
      "The testing r_sq is: 1.00\n"
     ]
    }
   ],
   "source": [
    "# Or\n",
    "print('The testing r_sq is: %.2f'% CO2_rf.score(X_test, y_test))"
   ]
  },
  {
   "cell_type": "code",
   "execution_count": 49,
   "id": "c9298550",
   "metadata": {},
   "outputs": [],
   "source": [
    "# The metrics"
   ]
  },
  {
   "cell_type": "code",
   "execution_count": 50,
   "id": "f6c5b958",
   "metadata": {},
   "outputs": [
    {
     "name": "stdout",
     "output_type": "stream",
     "text": [
      "The MAE is: 0.06\n"
     ]
    }
   ],
   "source": [
    "# The MAE\n",
    "print('The MAE is: %.2f'% mean_absolute_error(y_test, ytest_pred))"
   ]
  },
  {
   "cell_type": "code",
   "execution_count": 51,
   "id": "cb2b296e",
   "metadata": {},
   "outputs": [
    {
     "name": "stdout",
     "output_type": "stream",
     "text": [
      "The MSE is: 0.05\n"
     ]
    }
   ],
   "source": [
    "# The MSE\n",
    "print('The MSE is: %.2f'% mean_squared_error(y_test, ytest_pred))"
   ]
  },
  {
   "cell_type": "code",
   "execution_count": 52,
   "id": "d08b8134",
   "metadata": {},
   "outputs": [
    {
     "name": "stdout",
     "output_type": "stream",
     "text": [
      "The RMSE: 0.2211034591377948\n"
     ]
    }
   ],
   "source": [
    "# The RMSE\n",
    "print('The RMSE:',np.sqrt(mean_squared_error(y_test, ytest_pred)))"
   ]
  },
  {
   "cell_type": "code",
   "execution_count": 53,
   "id": "38be5410",
   "metadata": {},
   "outputs": [
    {
     "name": "stdout",
     "output_type": "stream",
     "text": [
      "The EVS is: 1.00\n"
     ]
    }
   ],
   "source": [
    "# The EVS\n",
    "print('The EVS is: %.2f'% explained_variance_score(y_test, ytest_pred))"
   ]
  },
  {
   "cell_type": "code",
   "execution_count": 76,
   "id": "3529d21b",
   "metadata": {},
   "outputs": [
    {
     "data": {
      "text/plain": [
       "<function matplotlib.pyplot.show(close=None, block=None)>"
      ]
     },
     "execution_count": 76,
     "metadata": {},
     "output_type": "execute_result"
    },
    {
     "data": {
      "image/png": "[encoded data removed]",
      "text/plain": [
       "<Figure size 1000x600 with 1 Axes>"
      ]
     },
     "metadata": {},
     "output_type": "display_data"
    }
   ],
   "source": [
    "#Plotting the observed and predicted data\n",
    "import matplotlib.pyplot as plt\n",
    "#Setting the boundaries and parameters\n",
    "plt.rcParams['figure.figsize'] =(10,6)\n",
    "x_ax = range(len(X_test))\n",
    "#Plotting\n",
    "plt.plot(x_ax, y_test, label = 'Observed', color ='blue', linestyle ='-')\n",
    "plt.plot(x_ax, ytest_pred, label = 'Predicted', color ='yellow', linestyle = '--')\n",
    "plt.ylabel('CO2')\n",
    "plt.xlabel('Testing Sensor Data')\n",
    "plt.legend(bbox_to_anchor =(0.5, -0.2), loc ='lower center', ncol =2, frameon = False)\n",
    "plt.show"
   ]
  },
  {
   "cell_type": "code",
   "execution_count": 57,
   "id": "d8af344f",
   "metadata": {},
   "outputs": [
    {
     "name": "stdout",
     "output_type": "stream",
     "text": [
      "Collecting yellowbrick\n",
      "  Downloading yellowbrick-1.5-py3-none-any.whl (282 kB)\n",
      "     ------------------------------------ 282.6/282.6 kB 276.8 kB/s eta 0:00:00\n",
      "Requirement already satisfied: matplotlib!=3.0.0,>=2.0.2 in c:\\users\\jeffrey.mosley\\appdata\\local\\anaconda3\\envs\\mlenv\\lib\\site-packages (from yellowbrick) (3.5.2)\n",
      "Requirement already satisfied: scipy>=1.0.0 in c:\\users\\jeffrey.mosley\\appdata\\local\\anaconda3\\envs\\mlenv\\lib\\site-packages (from yellowbrick) (1.7.3)\n",
      "Requirement already satisfied: cycler>=0.10.0 in c:\\users\\jeffrey.mosley\\appdata\\local\\anaconda3\\envs\\mlenv\\lib\\site-packages (from yellowbrick) (0.11.0)\n",
      "Requirement already satisfied: numpy>=1.16.0 in c:\\users\\jeffrey.mosley\\appdata\\local\\anaconda3\\envs\\mlenv\\lib\\site-packages (from yellowbrick) (1.21.5)\n",
      "Requirement already satisfied: scikit-learn>=1.0.0 in c:\\users\\jeffrey.mosley\\appdata\\local\\anaconda3\\envs\\mlenv\\lib\\site-packages (from yellowbrick) (1.0.2)\n",
      "Requirement already satisfied: fonttools>=4.22.0 in c:\\users\\jeffrey.mosley\\appdata\\local\\anaconda3\\envs\\mlenv\\lib\\site-packages (from matplotlib!=3.0.0,>=2.0.2->yellowbrick) (4.25.0)\n",
      "Requirement already satisfied: python-dateutil>=2.7 in c:\\users\\jeffrey.mosley\\appdata\\local\\anaconda3\\envs\\mlenv\\lib\\site-packages (from matplotlib!=3.0.0,>=2.0.2->yellowbrick) (2.8.2)\n",
      "Requirement already satisfied: pyparsing>=2.2.1 in c:\\users\\jeffrey.mosley\\appdata\\local\\anaconda3\\envs\\mlenv\\lib\\site-packages (from matplotlib!=3.0.0,>=2.0.2->yellowbrick) (3.0.9)\n",
      "Requirement already satisfied: pillow>=6.2.0 in c:\\users\\jeffrey.mosley\\appdata\\local\\anaconda3\\envs\\mlenv\\lib\\site-packages (from matplotlib!=3.0.0,>=2.0.2->yellowbrick) (9.2.0)\n",
      "Requirement already satisfied: kiwisolver>=1.0.1 in c:\\users\\jeffrey.mosley\\appdata\\local\\anaconda3\\envs\\mlenv\\lib\\site-packages (from matplotlib!=3.0.0,>=2.0.2->yellowbrick) (1.4.2)\n",
      "Requirement already satisfied: packaging>=20.0 in c:\\users\\jeffrey.mosley\\appdata\\local\\anaconda3\\envs\\mlenv\\lib\\site-packages (from matplotlib!=3.0.0,>=2.0.2->yellowbrick) (21.3)\n",
      "Requirement already satisfied: threadpoolctl>=2.0.0 in c:\\users\\jeffrey.mosley\\appdata\\local\\anaconda3\\envs\\mlenv\\lib\\site-packages (from scikit-learn>=1.0.0->yellowbrick) (2.2.0)\n",
      "Requirement already satisfied: joblib>=0.11 in c:\\users\\jeffrey.mosley\\appdata\\local\\anaconda3\\envs\\mlenv\\lib\\site-packages (from scikit-learn>=1.0.0->yellowbrick) (1.1.0)\n",
      "Requirement already satisfied: typing-extensions in c:\\users\\jeffrey.mosley\\appdata\\local\\anaconda3\\envs\\mlenv\\lib\\site-packages (from kiwisolver>=1.0.1->matplotlib!=3.0.0,>=2.0.2->yellowbrick) (4.3.0)\n",
      "Requirement already satisfied: six>=1.5 in c:\\users\\jeffrey.mosley\\appdata\\local\\anaconda3\\envs\\mlenv\\lib\\site-packages (from python-dateutil>=2.7->matplotlib!=3.0.0,>=2.0.2->yellowbrick) (1.16.0)\n",
      "Installing collected packages: yellowbrick\n",
      "Successfully installed yellowbrick-1.5\n"
     ]
    }
   ],
   "source": [
    "!pip install yellowbrick"
   ]
  },
  {
   "cell_type": "code",
   "execution_count": 55,
   "id": "c9a96a29",
   "metadata": {},
   "outputs": [],
   "source": [
    "#Plotting the prediction errors and residuals using yellowbrick\n",
    "# Anaconda/Cmd prompt and type : pip install yellowbrick"
   ]
  },
  {
   "cell_type": "code",
   "execution_count": 59,
   "id": "3c0bc914",
   "metadata": {},
   "outputs": [
    {
     "data": {
      "text/plain": [
       "0.9999994894606992"
      ]
     },
     "execution_count": 59,
     "metadata": {},
     "output_type": "execute_result"
    },
    {
     "data": {
      "image/png": "[encoded data removed]",
      "text/plain": [
       "<Figure size 800x550 with 1 Axes>"
      ]
     },
     "metadata": {},
     "output_type": "display_data"
    }
   ],
   "source": [
    "#Plotting the prediction errors\n",
    "from yellowbrick.datasets import load_concrete\n",
    "from yellowbrick.regressor import PredictionError\n",
    "#from yellowbrick.regressor import proof\n",
    "visualizer = PredictionError(CO2_rf)\n",
    "visualizer.fit(X_train, y_train)\n",
    "visualizer.score(X_test, y_test)\n",
    "#visualizer.proof()"
   ]
  },
  {
   "cell_type": "code",
   "execution_count": 60,
   "id": "b6dec69d",
   "metadata": {},
   "outputs": [
    {
     "data": {
      "text/plain": [
       "0.9999994894606992"
      ]
     },
     "execution_count": 60,
     "metadata": {},
     "output_type": "execute_result"
    },
    {
     "data": {
      "image/png": "[encoded data removed]",
      "text/plain": [
       "<Figure size 800x550 with 2 Axes>"
      ]
     },
     "metadata": {},
     "output_type": "display_data"
    }
   ],
   "source": [
    "# Plotting the residuals\n",
    "from yellowbrick.regressor import ResidualsPlot\n",
    "#from yellowbrick.regressor import proof\n",
    "visualizer = ResidualsPlot(CO2_rf)\n",
    "visualizer.fit(X_train, y_train)\n",
    "visualizer.score(X_test, y_test)\n",
    "#visualizer.proof()"
   ]
  },
  {
   "cell_type": "code",
   "execution_count": 61,
   "id": "df536791",
   "metadata": {},
   "outputs": [],
   "source": [
    "# The k-folds CV\n",
    "from sklearn.model_selection import cross_val_score"
   ]
  },
  {
   "cell_type": "code",
   "execution_count": 62,
   "id": "e90e60ab",
   "metadata": {},
   "outputs": [],
   "source": [
    "seed =7"
   ]
  },
  {
   "cell_type": "code",
   "execution_count": 63,
   "id": "93cad722",
   "metadata": {},
   "outputs": [],
   "source": [
    "# Training model CV\n",
    "score_train = cross_val_score(CO2_rf, X_train, y_train, scoring =\"neg_mean_squared_error\", cv=10)"
   ]
  },
  {
   "cell_type": "code",
   "execution_count": 64,
   "id": "c861a4ab",
   "metadata": {},
   "outputs": [
    {
     "data": {
      "text/plain": [
       "array([-0.0775002 , -0.12239354, -0.12914788, -0.05430465, -0.0957513 ,\n",
       "       -0.12327318, -0.45970743, -0.10019133, -0.04867723, -0.07022913])"
      ]
     },
     "execution_count": 64,
     "metadata": {},
     "output_type": "execute_result"
    }
   ],
   "source": [
    "score_train"
   ]
  },
  {
   "cell_type": "code",
   "execution_count": 65,
   "id": "0ac9f4ac",
   "metadata": {},
   "outputs": [
    {
     "name": "stdout",
     "output_type": "stream",
     "text": [
      "-0.1281175870614962\n"
     ]
    }
   ],
   "source": [
    "# The mean score\n",
    "print(np.mean(score_train))"
   ]
  },
  {
   "cell_type": "code",
   "execution_count": 66,
   "id": "17c9ec63",
   "metadata": {},
   "outputs": [
    {
     "name": "stdout",
     "output_type": "stream",
     "text": [
      "0.1281175870614962\n"
     ]
    }
   ],
   "source": [
    "# The  absolutevmean score\n",
    "from numpy import absolute\n",
    "print(absolute(np.mean(score_train)))"
   ]
  },
  {
   "cell_type": "code",
   "execution_count": 67,
   "id": "c6bd264b",
   "metadata": {},
   "outputs": [],
   "source": [
    "# The testing model CV\n",
    "score_test = cross_val_score(CO2_rf,X_test, y_test, scoring = 'neg_mean_squared_error', cv=10)"
   ]
  },
  {
   "cell_type": "code",
   "execution_count": 68,
   "id": "e523e609",
   "metadata": {},
   "outputs": [
    {
     "data": {
      "text/plain": [
       "array([-0.85848049, -2.11893728, -1.72827117, -2.23011406, -0.49389204,\n",
       "       -0.98306362, -1.59691871, -2.4440461 , -2.86958814, -0.44248991])"
      ]
     },
     "execution_count": 68,
     "metadata": {},
     "output_type": "execute_result"
    }
   ],
   "source": [
    "score_test"
   ]
  },
  {
   "cell_type": "code",
   "execution_count": 69,
   "id": "a98b3c02",
   "metadata": {},
   "outputs": [
    {
     "name": "stdout",
     "output_type": "stream",
     "text": [
      "1.5765801514121374\n"
     ]
    }
   ],
   "source": [
    "print(absolute(np.mean(score_test)))"
   ]
  },
  {
   "cell_type": "code",
   "execution_count": 70,
   "id": "f9b99740",
   "metadata": {},
   "outputs": [],
   "source": [
    "# Random Forest Feature Ranking\n",
    "#import pandas as pd\n",
    "from sklearn.pipeline import Pipeline"
   ]
  },
  {
   "cell_type": "code",
   "execution_count": 72,
   "id": "72b758cd",
   "metadata": {},
   "outputs": [],
   "source": [
    "f_list = list(X.columns)\n",
    "f_importance = pd.Series(CO2_rf.feature_importances_,index= f_list).sort_values(ascending =False)"
   ]
  },
  {
   "cell_type": "code",
   "execution_count": 73,
   "id": "aebfa139",
   "metadata": {},
   "outputs": [
    {
     "name": "stdout",
     "output_type": "stream",
     "text": [
      "CO2              0.999990\n",
      "HumidityRatio    0.000003\n",
      "Humidity         0.000003\n",
      "Temperature      0.000002\n",
      "Light            0.000002\n",
      "dtype: float64\n"
     ]
    }
   ],
   "source": [
    "print(f_importance)"
   ]
  },
  {
   "cell_type": "code",
   "execution_count": 74,
   "id": "c04f1207",
   "metadata": {},
   "outputs": [
    {
     "data": {
      "text/plain": [
       "[(0.9999899713855431, 'CO2'),\n",
       " (3.2277325312611902e-06, 'HumidityRatio'),\n",
       " (3.033732652354305e-06, 'Humidity'),\n",
       " (2.095172396760104e-06, 'Temperature'),\n",
       " (1.6719768764653015e-06, 'Light')]"
      ]
     },
     "execution_count": 74,
     "metadata": {},
     "output_type": "execute_result"
    }
   ],
   "source": [
    "# List the features sorted in descending order by feature importance\n",
    "feature_names = X.columns\n",
    "sorted(zip(random_forest.feature_importances_, feature_names), reverse=True)"
   ]
  }
 ],
 "metadata": {
  "kernelspec": {
   "display_name": "mlenv",
   "language": "python",
   "name": "mlenv"
  },
  "language_info": {
   "codemirror_mode": {
    "name": "ipython",
    "version": 3
   },
   "file_extension": ".py",
   "mimetype": "text/x-python",
   "name": "python",
   "nbconvert_exporter": "python",
   "pygments_lexer": "ipython3",
   "version": "3.7.13"
  }
 },
 "nbformat": 4,
 "nbformat_minor": 5
}
