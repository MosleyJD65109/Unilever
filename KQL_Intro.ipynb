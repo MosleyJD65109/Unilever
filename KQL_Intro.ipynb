{
 "cells": [
  {
   "cell_type": "code",
   "execution_count": 14,
   "id": "3f72c2f0",
   "metadata": {},
   "outputs": [],
   "source": [
    "import pandas as pd\n",
    "import datetime\n",
    "import pickle\n",
    "import binascii"
   ]
  },
  {
   "cell_type": "code",
   "execution_count": 3,
   "id": "e4d5b5e6",
   "metadata": {},
   "outputs": [
    {
     "name": "stdout",
     "output_type": "stream",
     "text": [
      "Requirement already satisfied: Kqlmagic in c:\\users\\jeffrey.mosley\\appdata\\local\\anaconda3\\envs\\mlenv\\lib\\site-packages (0.1.114.post22)\n",
      "Requirement already satisfied: password-strength>=0.0.3 in c:\\users\\jeffrey.mosley\\appdata\\local\\anaconda3\\envs\\mlenv\\lib\\site-packages (from Kqlmagic) (0.0.3.post2)\n",
      "Requirement already satisfied: plotly>=3.10.0 in c:\\users\\jeffrey.mosley\\appdata\\local\\anaconda3\\envs\\mlenv\\lib\\site-packages (from Kqlmagic) (5.9.0)\n",
      "Requirement already satisfied: lxml>=4.2.5 in c:\\users\\jeffrey.mosley\\appdata\\local\\anaconda3\\envs\\mlenv\\lib\\site-packages (from Kqlmagic) (4.9.1)\n",
      "Requirement already satisfied: msal-extensions>=0.3.0 in c:\\users\\jeffrey.mosley\\appdata\\local\\anaconda3\\envs\\mlenv\\lib\\site-packages (from Kqlmagic) (1.0.0)\n",
      "Requirement already satisfied: prettytable>=0.7.2 in c:\\users\\jeffrey.mosley\\appdata\\local\\anaconda3\\envs\\mlenv\\lib\\site-packages (from Kqlmagic) (3.7.0)\n",
      "Requirement already satisfied: python-dateutil>=2.7.5 in c:\\users\\jeffrey.mosley\\appdata\\local\\anaconda3\\envs\\mlenv\\lib\\site-packages (from Kqlmagic) (2.8.2)\n",
      "Requirement already satisfied: cryptography>=2.7 in c:\\users\\jeffrey.mosley\\appdata\\local\\anaconda3\\envs\\mlenv\\lib\\site-packages (from Kqlmagic) (37.0.1)\n",
      "Requirement already satisfied: matplotlib>=3.0.0 in c:\\users\\jeffrey.mosley\\appdata\\local\\anaconda3\\envs\\mlenv\\lib\\site-packages (from Kqlmagic) (3.5.2)\n",
      "Requirement already satisfied: msal>=1.11.0 in c:\\users\\jeffrey.mosley\\appdata\\local\\anaconda3\\envs\\mlenv\\lib\\site-packages (from Kqlmagic) (1.22.0)\n",
      "Requirement already satisfied: azure-common>=1.1.25 in c:\\users\\jeffrey.mosley\\appdata\\local\\anaconda3\\envs\\mlenv\\lib\\site-packages (from Kqlmagic) (1.1.28)\n",
      "Requirement already satisfied: requests>=2.21.0 in c:\\users\\jeffrey.mosley\\appdata\\local\\anaconda3\\envs\\mlenv\\lib\\site-packages (from Kqlmagic) (2.28.1)\n",
      "Requirement already satisfied: pyperclip>=1.7.0 in c:\\users\\jeffrey.mosley\\appdata\\local\\anaconda3\\envs\\mlenv\\lib\\site-packages (from Kqlmagic) (1.8.2)\n",
      "Requirement already satisfied: Pygments>=2.2.0 in c:\\users\\jeffrey.mosley\\appdata\\local\\anaconda3\\envs\\mlenv\\lib\\site-packages (from Kqlmagic) (2.11.2)\n",
      "Requirement already satisfied: pandas>=0.23.4 in c:\\users\\jeffrey.mosley\\appdata\\local\\anaconda3\\envs\\mlenv\\lib\\site-packages (from Kqlmagic) (1.3.5)\n",
      "Requirement already satisfied: setuptools>=41.0.1 in c:\\users\\jeffrey.mosley\\appdata\\local\\anaconda3\\envs\\mlenv\\lib\\site-packages (from Kqlmagic) (63.4.1)\n",
      "Requirement already satisfied: Markdown>=3.0.1 in c:\\users\\jeffrey.mosley\\appdata\\local\\anaconda3\\envs\\mlenv\\lib\\site-packages (from Kqlmagic) (3.3.4)\n",
      "Requirement already satisfied: ipython>=7.1.1 in c:\\users\\jeffrey.mosley\\appdata\\local\\anaconda3\\envs\\mlenv\\lib\\site-packages (from Kqlmagic) (7.31.1)\n",
      "Requirement already satisfied: msrestazure>=0.6.3 in c:\\users\\jeffrey.mosley\\appdata\\local\\anaconda3\\envs\\mlenv\\lib\\site-packages (from Kqlmagic) (0.6.4)\n",
      "Requirement already satisfied: ipywidgets in c:\\users\\jeffrey.mosley\\appdata\\local\\anaconda3\\envs\\mlenv\\lib\\site-packages (from Kqlmagic) (7.6.5)\n",
      "Requirement already satisfied: isodate>=0.6.0 in c:\\users\\jeffrey.mosley\\appdata\\local\\anaconda3\\envs\\mlenv\\lib\\site-packages (from Kqlmagic) (0.6.1)\n",
      "Requirement already satisfied: flask>=1.0.3 in c:\\users\\jeffrey.mosley\\appdata\\local\\anaconda3\\envs\\mlenv\\lib\\site-packages (from Kqlmagic) (1.1.2)\n",
      "Requirement already satisfied: beautifulsoup4>=4.6.3 in c:\\users\\jeffrey.mosley\\appdata\\local\\anaconda3\\envs\\mlenv\\lib\\site-packages (from Kqlmagic) (4.11.1)\n",
      "Requirement already satisfied: ipykernel>=5.1.1 in c:\\users\\jeffrey.mosley\\appdata\\local\\anaconda3\\envs\\mlenv\\lib\\site-packages (from Kqlmagic) (6.15.2)\n",
      "Requirement already satisfied: psutil>=5.4.7 in c:\\users\\jeffrey.mosley\\appdata\\local\\anaconda3\\envs\\mlenv\\lib\\site-packages (from Kqlmagic) (5.9.0)\n",
      "Requirement already satisfied: traitlets>=4.3.2 in c:\\users\\jeffrey.mosley\\appdata\\local\\anaconda3\\envs\\mlenv\\lib\\site-packages (from Kqlmagic) (5.1.1)\n",
      "Requirement already satisfied: azure-identity>=1.5.0 in c:\\users\\jeffrey.mosley\\appdata\\local\\anaconda3\\envs\\mlenv\\lib\\site-packages (from Kqlmagic) (1.13.0)\n",
      "Requirement already satisfied: azure-core<2.0.0,>=1.11.0 in c:\\users\\jeffrey.mosley\\appdata\\local\\anaconda3\\envs\\mlenv\\lib\\site-packages (from azure-identity>=1.5.0->Kqlmagic) (1.26.4)\n",
      "Requirement already satisfied: six>=1.12.0 in c:\\users\\jeffrey.mosley\\appdata\\local\\anaconda3\\envs\\mlenv\\lib\\site-packages (from azure-identity>=1.5.0->Kqlmagic) (1.16.0)\n",
      "Requirement already satisfied: soupsieve>1.2 in c:\\users\\jeffrey.mosley\\appdata\\local\\anaconda3\\envs\\mlenv\\lib\\site-packages (from beautifulsoup4>=4.6.3->Kqlmagic) (2.3.1)\n",
      "Requirement already satisfied: cffi>=1.12 in c:\\users\\jeffrey.mosley\\appdata\\local\\anaconda3\\envs\\mlenv\\lib\\site-packages (from cryptography>=2.7->Kqlmagic) (1.15.1)\n",
      "Requirement already satisfied: Jinja2>=2.10.1 in c:\\users\\jeffrey.mosley\\appdata\\local\\anaconda3\\envs\\mlenv\\lib\\site-packages (from flask>=1.0.3->Kqlmagic) (2.11.3)\n",
      "Requirement already satisfied: Werkzeug>=0.15 in c:\\users\\jeffrey.mosley\\appdata\\local\\anaconda3\\envs\\mlenv\\lib\\site-packages (from flask>=1.0.3->Kqlmagic) (2.0.3)\n",
      "Requirement already satisfied: itsdangerous>=0.24 in c:\\users\\jeffrey.mosley\\appdata\\local\\anaconda3\\envs\\mlenv\\lib\\site-packages (from flask>=1.0.3->Kqlmagic) (2.0.1)\n",
      "Requirement already satisfied: click>=5.1 in c:\\users\\jeffrey.mosley\\appdata\\local\\anaconda3\\envs\\mlenv\\lib\\site-packages (from flask>=1.0.3->Kqlmagic) (8.0.4)\n",
      "Requirement already satisfied: packaging in c:\\users\\jeffrey.mosley\\appdata\\local\\anaconda3\\envs\\mlenv\\lib\\site-packages (from ipykernel>=5.1.1->Kqlmagic) (21.3)\n",
      "Requirement already satisfied: debugpy>=1.0 in c:\\users\\jeffrey.mosley\\appdata\\local\\anaconda3\\envs\\mlenv\\lib\\site-packages (from ipykernel>=5.1.1->Kqlmagic) (1.5.1)\n",
      "Requirement already satisfied: jupyter-client>=6.1.12 in c:\\users\\jeffrey.mosley\\appdata\\local\\anaconda3\\envs\\mlenv\\lib\\site-packages (from ipykernel>=5.1.1->Kqlmagic) (7.3.5)\n",
      "Requirement already satisfied: matplotlib-inline>=0.1 in c:\\users\\jeffrey.mosley\\appdata\\local\\anaconda3\\envs\\mlenv\\lib\\site-packages (from ipykernel>=5.1.1->Kqlmagic) (0.1.6)\n",
      "Requirement already satisfied: tornado>=6.1 in c:\\users\\jeffrey.mosley\\appdata\\local\\anaconda3\\envs\\mlenv\\lib\\site-packages (from ipykernel>=5.1.1->Kqlmagic) (6.2)\n",
      "Requirement already satisfied: nest-asyncio in c:\\users\\jeffrey.mosley\\appdata\\local\\anaconda3\\envs\\mlenv\\lib\\site-packages (from ipykernel>=5.1.1->Kqlmagic) (1.5.5)\n",
      "Requirement already satisfied: pyzmq>=17 in c:\\users\\jeffrey.mosley\\appdata\\local\\anaconda3\\envs\\mlenv\\lib\\site-packages (from ipykernel>=5.1.1->Kqlmagic) (23.2.0)\n",
      "Requirement already satisfied: pickleshare in c:\\users\\jeffrey.mosley\\appdata\\local\\anaconda3\\envs\\mlenv\\lib\\site-packages (from ipython>=7.1.1->Kqlmagic) (0.7.5)\n",
      "Requirement already satisfied: colorama in c:\\users\\jeffrey.mosley\\appdata\\local\\anaconda3\\envs\\mlenv\\lib\\site-packages (from ipython>=7.1.1->Kqlmagic) (0.4.5)\n",
      "Requirement already satisfied: prompt-toolkit!=3.0.0,!=3.0.1,<3.1.0,>=2.0.0 in c:\\users\\jeffrey.mosley\\appdata\\local\\anaconda3\\envs\\mlenv\\lib\\site-packages (from ipython>=7.1.1->Kqlmagic) (3.0.20)\n",
      "Requirement already satisfied: backcall in c:\\users\\jeffrey.mosley\\appdata\\local\\anaconda3\\envs\\mlenv\\lib\\site-packages (from ipython>=7.1.1->Kqlmagic) (0.2.0)\n",
      "Requirement already satisfied: jedi>=0.16 in c:\\users\\jeffrey.mosley\\appdata\\local\\anaconda3\\envs\\mlenv\\lib\\site-packages (from ipython>=7.1.1->Kqlmagic) (0.18.1)\n",
      "Requirement already satisfied: decorator in c:\\users\\jeffrey.mosley\\appdata\\local\\anaconda3\\envs\\mlenv\\lib\\site-packages (from ipython>=7.1.1->Kqlmagic) (5.1.1)\n",
      "Requirement already satisfied: importlib-metadata in c:\\users\\jeffrey.mosley\\appdata\\local\\anaconda3\\envs\\mlenv\\lib\\site-packages (from Markdown>=3.0.1->Kqlmagic) (4.11.3)\n",
      "Requirement already satisfied: cycler>=0.10 in c:\\users\\jeffrey.mosley\\appdata\\local\\anaconda3\\envs\\mlenv\\lib\\site-packages (from matplotlib>=3.0.0->Kqlmagic) (0.11.0)\n",
      "Requirement already satisfied: pyparsing>=2.2.1 in c:\\users\\jeffrey.mosley\\appdata\\local\\anaconda3\\envs\\mlenv\\lib\\site-packages (from matplotlib>=3.0.0->Kqlmagic) (3.0.9)\n",
      "Requirement already satisfied: kiwisolver>=1.0.1 in c:\\users\\jeffrey.mosley\\appdata\\local\\anaconda3\\envs\\mlenv\\lib\\site-packages (from matplotlib>=3.0.0->Kqlmagic) (1.4.2)\n",
      "Requirement already satisfied: pillow>=6.2.0 in c:\\users\\jeffrey.mosley\\appdata\\local\\anaconda3\\envs\\mlenv\\lib\\site-packages (from matplotlib>=3.0.0->Kqlmagic) (9.2.0)\n",
      "Requirement already satisfied: numpy>=1.17 in c:\\users\\jeffrey.mosley\\appdata\\local\\anaconda3\\envs\\mlenv\\lib\\site-packages (from matplotlib>=3.0.0->Kqlmagic) (1.21.5)\n",
      "Requirement already satisfied: fonttools>=4.22.0 in c:\\users\\jeffrey.mosley\\appdata\\local\\anaconda3\\envs\\mlenv\\lib\\site-packages (from matplotlib>=3.0.0->Kqlmagic) (4.25.0)\n",
      "Requirement already satisfied: PyJWT[crypto]<3,>=1.0.0 in c:\\users\\jeffrey.mosley\\appdata\\local\\anaconda3\\envs\\mlenv\\lib\\site-packages (from msal>=1.11.0->Kqlmagic) (2.7.0)\n",
      "Requirement already satisfied: portalocker<3,>=1.6 in c:\\users\\jeffrey.mosley\\appdata\\local\\anaconda3\\envs\\mlenv\\lib\\site-packages (from msal-extensions>=0.3.0->Kqlmagic) (2.7.0)\n",
      "Requirement already satisfied: msrest<2.0.0,>=0.6.0 in c:\\users\\jeffrey.mosley\\appdata\\local\\anaconda3\\envs\\mlenv\\lib\\site-packages (from msrestazure>=0.6.3->Kqlmagic) (0.7.1)\n",
      "Requirement already satisfied: adal<2.0.0,>=0.6.0 in c:\\users\\jeffrey.mosley\\appdata\\local\\anaconda3\\envs\\mlenv\\lib\\site-packages (from msrestazure>=0.6.3->Kqlmagic) (1.2.7)\n",
      "Requirement already satisfied: pytz>=2017.3 in c:\\users\\jeffrey.mosley\\appdata\\local\\anaconda3\\envs\\mlenv\\lib\\site-packages (from pandas>=0.23.4->Kqlmagic) (2022.1)\n",
      "Requirement already satisfied: tenacity>=6.2.0 in c:\\users\\jeffrey.mosley\\appdata\\local\\anaconda3\\envs\\mlenv\\lib\\site-packages (from plotly>=3.10.0->Kqlmagic) (8.0.1)\n",
      "Requirement already satisfied: wcwidth in c:\\users\\jeffrey.mosley\\appdata\\local\\anaconda3\\envs\\mlenv\\lib\\site-packages (from prettytable>=0.7.2->Kqlmagic) (0.2.5)\n",
      "Requirement already satisfied: charset-normalizer<3,>=2 in c:\\users\\jeffrey.mosley\\appdata\\local\\anaconda3\\envs\\mlenv\\lib\\site-packages (from requests>=2.21.0->Kqlmagic) (2.0.4)\n",
      "Requirement already satisfied: certifi>=2017.4.17 in c:\\users\\jeffrey.mosley\\appdata\\local\\anaconda3\\envs\\mlenv\\lib\\site-packages (from requests>=2.21.0->Kqlmagic) (2022.9.14)\n",
      "Requirement already satisfied: urllib3<1.27,>=1.21.1 in c:\\users\\jeffrey.mosley\\appdata\\local\\anaconda3\\envs\\mlenv\\lib\\site-packages (from requests>=2.21.0->Kqlmagic) (1.26.11)\n",
      "Requirement already satisfied: idna<4,>=2.5 in c:\\users\\jeffrey.mosley\\appdata\\local\\anaconda3\\envs\\mlenv\\lib\\site-packages (from requests>=2.21.0->Kqlmagic) (3.3)\n",
      "Requirement already satisfied: ipython-genutils~=0.2.0 in c:\\users\\jeffrey.mosley\\appdata\\local\\anaconda3\\envs\\mlenv\\lib\\site-packages (from ipywidgets->Kqlmagic) (0.2.0)\n",
      "Requirement already satisfied: widgetsnbextension~=3.5.0 in c:\\users\\jeffrey.mosley\\appdata\\local\\anaconda3\\envs\\mlenv\\lib\\site-packages (from ipywidgets->Kqlmagic) (3.5.2)\n",
      "Requirement already satisfied: nbformat>=4.2.0 in c:\\users\\jeffrey.mosley\\appdata\\local\\anaconda3\\envs\\mlenv\\lib\\site-packages (from ipywidgets->Kqlmagic) (5.5.0)\n",
      "Requirement already satisfied: jupyterlab-widgets>=1.0.0 in c:\\users\\jeffrey.mosley\\appdata\\local\\anaconda3\\envs\\mlenv\\lib\\site-packages (from ipywidgets->Kqlmagic) (1.0.0)\n",
      "Requirement already satisfied: typing-extensions>=4.3.0 in c:\\users\\jeffrey.mosley\\appdata\\local\\anaconda3\\envs\\mlenv\\lib\\site-packages (from azure-core<2.0.0,>=1.11.0->azure-identity>=1.5.0->Kqlmagic) (4.3.0)\n",
      "Requirement already satisfied: pycparser in c:\\users\\jeffrey.mosley\\appdata\\local\\anaconda3\\envs\\mlenv\\lib\\site-packages (from cffi>=1.12->cryptography>=2.7->Kqlmagic) (2.21)\n",
      "Requirement already satisfied: parso<0.9.0,>=0.8.0 in c:\\users\\jeffrey.mosley\\appdata\\local\\anaconda3\\envs\\mlenv\\lib\\site-packages (from jedi>=0.16->ipython>=7.1.1->Kqlmagic) (0.8.3)\n",
      "Requirement already satisfied: MarkupSafe>=0.23 in c:\\users\\jeffrey.mosley\\appdata\\local\\anaconda3\\envs\\mlenv\\lib\\site-packages (from Jinja2>=2.10.1->flask>=1.0.3->Kqlmagic) (2.0.1)\n",
      "Requirement already satisfied: entrypoints in c:\\users\\jeffrey.mosley\\appdata\\local\\anaconda3\\envs\\mlenv\\lib\\site-packages (from jupyter-client>=6.1.12->ipykernel>=5.1.1->Kqlmagic) (0.4)\n",
      "Requirement already satisfied: jupyter-core>=4.9.2 in c:\\users\\jeffrey.mosley\\appdata\\local\\anaconda3\\envs\\mlenv\\lib\\site-packages (from jupyter-client>=6.1.12->ipykernel>=5.1.1->Kqlmagic) (4.11.1)\n",
      "Requirement already satisfied: requests-oauthlib>=0.5.0 in c:\\users\\jeffrey.mosley\\appdata\\local\\anaconda3\\envs\\mlenv\\lib\\site-packages (from msrest<2.0.0,>=0.6.0->msrestazure>=0.6.3->Kqlmagic) (1.3.1)\n",
      "Requirement already satisfied: fastjsonschema in c:\\users\\jeffrey.mosley\\appdata\\local\\anaconda3\\envs\\mlenv\\lib\\site-packages (from nbformat>=4.2.0->ipywidgets->Kqlmagic) (2.16.2)\n",
      "Requirement already satisfied: jsonschema>=2.6 in c:\\users\\jeffrey.mosley\\appdata\\local\\anaconda3\\envs\\mlenv\\lib\\site-packages (from nbformat>=4.2.0->ipywidgets->Kqlmagic) (4.16.0)\n",
      "Requirement already satisfied: pywin32>=226 in c:\\users\\jeffrey.mosley\\appdata\\local\\anaconda3\\envs\\mlenv\\lib\\site-packages (from portalocker<3,>=1.6->msal-extensions>=0.3.0->Kqlmagic) (302)\n",
      "Requirement already satisfied: notebook>=4.4.1 in c:\\users\\jeffrey.mosley\\appdata\\local\\anaconda3\\envs\\mlenv\\lib\\site-packages (from widgetsnbextension~=3.5.0->ipywidgets->Kqlmagic) (6.4.12)\n",
      "Requirement already satisfied: zipp>=0.5 in c:\\users\\jeffrey.mosley\\appdata\\local\\anaconda3\\envs\\mlenv\\lib\\site-packages (from importlib-metadata->Markdown>=3.0.1->Kqlmagic) (3.8.0)\n",
      "Requirement already satisfied: pyrsistent!=0.17.0,!=0.17.1,!=0.17.2,>=0.14.0 in c:\\users\\jeffrey.mosley\\appdata\\local\\anaconda3\\envs\\mlenv\\lib\\site-packages (from jsonschema>=2.6->nbformat>=4.2.0->ipywidgets->Kqlmagic) (0.18.0)\n",
      "Requirement already satisfied: pkgutil-resolve-name>=1.3.10 in c:\\users\\jeffrey.mosley\\appdata\\local\\anaconda3\\envs\\mlenv\\lib\\site-packages (from jsonschema>=2.6->nbformat>=4.2.0->ipywidgets->Kqlmagic) (1.3.10)\n",
      "Requirement already satisfied: importlib-resources>=1.4.0 in c:\\users\\jeffrey.mosley\\appdata\\local\\anaconda3\\envs\\mlenv\\lib\\site-packages (from jsonschema>=2.6->nbformat>=4.2.0->ipywidgets->Kqlmagic) (5.2.0)\n",
      "Requirement already satisfied: attrs>=17.4.0 in c:\\users\\jeffrey.mosley\\appdata\\local\\anaconda3\\envs\\mlenv\\lib\\site-packages (from jsonschema>=2.6->nbformat>=4.2.0->ipywidgets->Kqlmagic) (21.4.0)\n",
      "Requirement already satisfied: nbconvert>=5 in c:\\users\\jeffrey.mosley\\appdata\\local\\anaconda3\\envs\\mlenv\\lib\\site-packages (from notebook>=4.4.1->widgetsnbextension~=3.5.0->ipywidgets->Kqlmagic) (6.4.4)\n",
      "Requirement already satisfied: Send2Trash>=1.8.0 in c:\\users\\jeffrey.mosley\\appdata\\local\\anaconda3\\envs\\mlenv\\lib\\site-packages (from notebook>=4.4.1->widgetsnbextension~=3.5.0->ipywidgets->Kqlmagic) (1.8.0)\n",
      "Requirement already satisfied: terminado>=0.8.3 in c:\\users\\jeffrey.mosley\\appdata\\local\\anaconda3\\envs\\mlenv\\lib\\site-packages (from notebook>=4.4.1->widgetsnbextension~=3.5.0->ipywidgets->Kqlmagic) (0.13.1)\n",
      "Requirement already satisfied: prometheus-client in c:\\users\\jeffrey.mosley\\appdata\\local\\anaconda3\\envs\\mlenv\\lib\\site-packages (from notebook>=4.4.1->widgetsnbextension~=3.5.0->ipywidgets->Kqlmagic) (0.14.1)\n",
      "Requirement already satisfied: argon2-cffi in c:\\users\\jeffrey.mosley\\appdata\\local\\anaconda3\\envs\\mlenv\\lib\\site-packages (from notebook>=4.4.1->widgetsnbextension~=3.5.0->ipywidgets->Kqlmagic) (21.3.0)\n",
      "Requirement already satisfied: oauthlib>=3.0.0 in c:\\users\\jeffrey.mosley\\appdata\\local\\anaconda3\\envs\\mlenv\\lib\\site-packages (from requests-oauthlib>=0.5.0->msrest<2.0.0,>=0.6.0->msrestazure>=0.6.3->Kqlmagic) (3.2.2)\n",
      "Requirement already satisfied: jupyterlab-pygments in c:\\users\\jeffrey.mosley\\appdata\\local\\anaconda3\\envs\\mlenv\\lib\\site-packages (from nbconvert>=5->notebook>=4.4.1->widgetsnbextension~=3.5.0->ipywidgets->Kqlmagic) (0.1.2)\n",
      "Requirement already satisfied: defusedxml in c:\\users\\jeffrey.mosley\\appdata\\local\\anaconda3\\envs\\mlenv\\lib\\site-packages (from nbconvert>=5->notebook>=4.4.1->widgetsnbextension~=3.5.0->ipywidgets->Kqlmagic) (0.7.1)\n",
      "Requirement already satisfied: bleach in c:\\users\\jeffrey.mosley\\appdata\\local\\anaconda3\\envs\\mlenv\\lib\\site-packages (from nbconvert>=5->notebook>=4.4.1->widgetsnbextension~=3.5.0->ipywidgets->Kqlmagic) (4.1.0)\n",
      "Requirement already satisfied: mistune<2,>=0.8.1 in c:\\users\\jeffrey.mosley\\appdata\\local\\anaconda3\\envs\\mlenv\\lib\\site-packages (from nbconvert>=5->notebook>=4.4.1->widgetsnbextension~=3.5.0->ipywidgets->Kqlmagic) (0.8.4)\n",
      "Requirement already satisfied: testpath in c:\\users\\jeffrey.mosley\\appdata\\local\\anaconda3\\envs\\mlenv\\lib\\site-packages (from nbconvert>=5->notebook>=4.4.1->widgetsnbextension~=3.5.0->ipywidgets->Kqlmagic) (0.6.0)\n",
      "Requirement already satisfied: nbclient<0.6.0,>=0.5.0 in c:\\users\\jeffrey.mosley\\appdata\\local\\anaconda3\\envs\\mlenv\\lib\\site-packages (from nbconvert>=5->notebook>=4.4.1->widgetsnbextension~=3.5.0->ipywidgets->Kqlmagic) (0.5.13)\n",
      "Requirement already satisfied: pandocfilters>=1.4.1 in c:\\users\\jeffrey.mosley\\appdata\\local\\anaconda3\\envs\\mlenv\\lib\\site-packages (from nbconvert>=5->notebook>=4.4.1->widgetsnbextension~=3.5.0->ipywidgets->Kqlmagic) (1.5.0)\n",
      "Requirement already satisfied: pywinpty>=1.1.0 in c:\\users\\jeffrey.mosley\\appdata\\local\\anaconda3\\envs\\mlenv\\lib\\site-packages (from terminado>=0.8.3->notebook>=4.4.1->widgetsnbextension~=3.5.0->ipywidgets->Kqlmagic) (2.0.2)\n",
      "Requirement already satisfied: argon2-cffi-bindings in c:\\users\\jeffrey.mosley\\appdata\\local\\anaconda3\\envs\\mlenv\\lib\\site-packages (from argon2-cffi->notebook>=4.4.1->widgetsnbextension~=3.5.0->ipywidgets->Kqlmagic) (21.2.0)\n",
      "Requirement already satisfied: webencodings in c:\\users\\jeffrey.mosley\\appdata\\local\\anaconda3\\envs\\mlenv\\lib\\site-packages (from bleach->nbconvert>=5->notebook>=4.4.1->widgetsnbextension~=3.5.0->ipywidgets->Kqlmagic) (0.5.1)\n"
     ]
    }
   ],
   "source": [
    "!pip install Kqlmagic --no-cache-dir --upgrade\n"
   ]
  },
  {
   "cell_type": "code",
   "execution_count": 1,
   "id": "7a5f2df4",
   "metadata": {},
   "outputs": [
    {
     "data": {
      "application/javascript": [
       "try {IPython.notebook.kernel.reconnect();} catch(err) {;}"
      ],
      "text/plain": [
       "<IPython.core.display.Javascript object>"
      ]
     },
     "metadata": {},
     "output_type": "display_data"
    },
    {
     "data": {
      "application/javascript": [
       "try {IPython.notebook.kernel.execute(\"NOTEBOOK_URL = '\" + window.location + \"'\");} catch(err) {;}"
      ],
      "text/plain": [
       "<IPython.core.display.Javascript object>"
      ]
     },
     "metadata": {},
     "output_type": "display_data"
    },
    {
     "data": {
      "text/html": [
       "<!DOCTYPE html>\n",
       "            <html>\n",
       "            <head>\n",
       "            <title>Kqlmagic - banner</title>\n",
       "            <style>\n",
       "            .kql-magic-banner {\n",
       "                display: flex; \n",
       "                background-color: #d9edf7;\n",
       "            }\n",
       "            .kql-magic-banner > div {\n",
       "                margin: 10px; \n",
       "                padding: 20px; \n",
       "                color: #3a87ad; \n",
       "                font-size: 13px;\n",
       "            }\n",
       "            </style>\n",
       "            </head>\n",
       "            <body>\n",
       "                <div class='kql-magic-banner'>\n",
       "                    <div><img src='data:image/png;base64,iVBORw0KGgoAAAANSUhEUgAAALsAAACcCAYAAAAnOdrkAAAQeklEQVR42u2di5MVxRXGe5cFFhEQQcGVx4KgLg8XLFCDCigqkvgCSVQqIgRNTP6R/AcmMRpjaWLQEEWRCGrEIKXIGxUMIvJUkKcisryWfB9zVm8w1Hbfnefe76vq6ru70zO9c3/Tc6bnnNM14347z0lSJahGp0AS7JIk2CVJsEuSYJckwS5Jgl2SBLskCXZJEuySJNglwS5Jgl2SBLskVQbsp0+fvgRVT8/Nv66qqtqp0y6Bm1pUdSi1HpsfR9kDdg5nBjs63A/Vb1DGeDZZjzZPotMb9XVXNOhVqKag3G3At6Z9KK+h3fNgpymrkf0ilInowI88/0luvwhFsFe2uqIMR7kD7PTy4OYIqt0EHiUz2Dt43oZaxG2r9V1XvDiyd0Tp7Ll9F5RO1k4PqJIk2CVJsEuCXZIEuyQJdkkS7JIk2CVJsEuSYJckwS5Jgl2SBLsk2CVJsEuSYJckwS5Jgl2SBLskCXZJEuySJNjbiSyJUA8XpZ1gFP7ZkfUnUI66KPHU1zpjFQ47gGG6htoymjYBoBMZwF1npT/KAKsvRunmorQl323uovwpe1E+R9ttqDehbEfZhb6fDDxuR49NT2G/3wr2fILeiOp6g8U33wgh4ii5Bu2XhkDThn72cVHCIGZVG41ymfWZo3oP9KGqlfZMIHSQ0Lso+dT7+N37/IymR1ppy2MywVVvj65+he1XYJ9LBXu+QCfkc1AmoVwY0JS5BJcZKCcT7iNzZI5FmYgyDmUojnlh6H7QpquZOkxFeA32exvqdShv4fObvHCxTfM5RnSC/gjKII9DMSPX+Wj3IfZ3ULDnA/RrUf0SZTq+lPMC225B9TZHxwT7180gu91AH45+dopr/9gXL6JLcJyrUV+H8jI+L8bvPz9r0442og/C38736Pdgu+N0KiobNe0MdJoBD6NMKwP09aj+iPIc2u5PqH8NqO60MhbH6ZzUucC+CeZUHPNK1JejnovfrdMDavsAfZTdkqf7jFRpgm5ZazmKz0D5iY2+qQjHasDxCX5f1E8V2eYW7P8L+v34Mi/IGegcvX+MMhtlcpwmSwDwvdCPGWZzV+Pnt10bk4QK9mxBfwBfYs/AtqtQ/QllbkKg05S6h6YV9n9TlueJJhP6w3zoTTaD87lgLxbojW0AfTmqP6C8iLaHEjJdOKI/iv3fGNM+Obd+quUBM/Quwe0NeF7Yi51/ymjBnjHofNibY6ZLKOjvGujz0PabhLo4AeWhtoCOfrJvfGH0mY3EnPI7ZibIefh7X/f9y6dLcayOHsB3R7tpbI/S3VXQW/SagoI+FNUslPtC56bTAN36dz/KrWW2/xLVGpT3UFaibDHQObKfdN8n8+eDOB8+ebwxaMepxsbWZqLw9wE2wh/B51rBnm/QOaI/aNNreQOdo+VdNGHKmVq0Ps5H+RfKx60smrXfRv4VaPcGQecFhs+c8RnWCvB9ZLMXA/SZodN3KZku1ESUe3GM/oH9I9QLOStE0ENXhsP2vBu8zjecqD9C/QDqSfi9nP2KBnsRQMdxhtjsy3VlmC0voDyN/q1o46zLF9jfX8zGP0BzJfQFm2DPFnS+qp6d8xGdok/O+Nact87q3yEbzR9Hsw1xdML8ejjK00uxGfX0JN/WCvb4QKc58HOWPIOOY9Fb8WYc57LAplzu8Nm4QD8L+mV8iYSPnGO/N+QiFOzpg05PvpkumsLrn1fQTfTLGRvYR3pY/hX9W5lUp+gegONw1oazVjcL9vyC/iDNF3xhg/MMuvmk04QZEtBmB6q/26xL0uIxON04sIw7j2BPCfQ5oV9OBiM6Rc/Ca3xe6lgfGSTCqcKFrQVYxDS6H8MhX8fHRtSPVOoMTY1Ab3N/+cqevuOXBzTj9OCr6OOmtM4rjrUFfV3kIl/6UYI9e9BpDtA77xdlgE5PPnovzk9xRKf4LEHf9N4BbeiXszKDU8xpzXdwrkZU4uhekyPQe6H6GcosfBFDAtsy/Oz3KAvQtinlrvN5oiGgr5z/Xo5+bkv7HDNaCcd/Cx/pgTlcsGcHOt/40RW2oQzQH0N5JYOMANVmvtQFNNuKsiHD081opdWCPVvQ+eB0VVFAN12EcoXzi85v0acouzI85Uy3sRrnjr47vQS7QPcV564H4/jVnn2mv8snLnLgykQ8V+gH7yw7UQR7SqDTB/2+AoNOXRxowhDyzSk/QJ9rdKc51SjYk1VHCwC+02z0UNDXuiiULmvQKQZPhASOfGmgZS1mEtuMc3k8i5jYSoGdxxvoouk6ugCMLmMfvP1uzBp0S61HX52QTAZ7sjRhSsRAEEY/HbK7k2BP6LZ/B0dEwFruiw1OS47kCI99nM7w3HUxmzfEfXYfStYmDO12ekJ+4aIMaII9oZPMKJ7b27iPK/FF0Wf8Y5dg5i5P2Hta7XMnOI7qgIsy7+ZBe/Nw4VXEA2obxZciG5i9FvDvyagP9A/vHuA2e8zMhqacnMPDVgR7nsVESACdD7j0MflbRt3oGGjCEPavrM6DmgR7cYC/iikhUBiUvLYAsNOM+SaNNNgBsH8l2ItlznwA4LcDogMpH7uDC0sydDJHo/p3F59gL87o3hugM20F3wjOy2Bkry0w7MwsRj/3Zt83wII9RvF1Ok58t0DgmRxoqpkzH6U8sncKhL0pR6e75eI76Qqcc72QsANWho5xiZRRgDZ0enKSmTM7UlxMq8qFZcJtNrDyNLIfFezpg97i68J58/FcggXQevttYNu+ls6NI/uCFGEJgbeD81uoK03YT9lFKJs9JdAZG8nAi1fMI4+xmUygPyAwYSmXl7kH7TalFO5G0ENWjyPoXXL03bdcfNWCPXnI+aqf6d4YSrewxdeFadzwp5ddFFwwNWB0r0a7yS5K/bYrhUDm0AfODq68ZSqT/O675Oxu0/5g5wwAR3Ib0Rf9Hx8Xxme+xPWAQiKXsG0/Pqy6aHZmUcL/xonAkb0mZ7CfudP4ZkQQ7G0D/TGc6MXngPa0mTMjmBEscI0k5lm8G+3oN/5pgv8KZ1ZClkjkQyCXeemEfh3PyXdfMemqsxrZOeL+7lyglwDP4GCmbh6BMiVgdKe//BQzZ55gzpSE/g+O6vtxjGOeeRQJFtd74rZ5gP3MxSfYkxvVd9uo/qZnk/fNnLk8JLUGtq0vmZ1ZkiTsVvvAXuolmQeflDOObII9OdHrb6uvf4jNzvAOMNIyWYW8nr/RZme2oF3s0UFM2YF90+PyiPOIVrIH6F45mpHp5sKirAR7GWoOhGorIHnJZmduCmhXyxUozJz5c0KRTQyAoDNVP8/tmQSqR06++94a2fMpprV7kWmhuR5QAPBDSmZnliXQL8aUhjignVl8F2V9Ds5pX9nsORSg/RbQvmbmzOzA1G032uzMZ3zoTcAs2xkIOy/ANxgal9X5xPFpwvTXyJ5f4D+x2RmaM+MC2nG6j3GvH6J+Jua4VY7qjNLnqnNdPbZnUqUGq/dkeDppq9eHLnsv2NPVUpSXuewM/WECgG+wuNWNLkruGdcF+DX2y30ynrOrx/bVtn5rXcawX+oCcskL9mxGd8K1wEb3BwObT7SH1W22slxc2uyihEP1ntufyY7gonVOsxLzyQ8Q7PkHnsBy7r2BvuwB7Xpa3Crn3uOMW+W0Jt2Lx/sEQWCbgdj2epQlSUyJetjrtNXpNNdPsBdDSzi644urD8mLTrdhmjNxxq0yuwH2t8JGd9/lcOjSMNplkx2MCydcV4mLiRU1u8ABM2doDvw0sPkke1iNM251nd0xfGGn3X4L+rAafdiR4qheZ///MFeBKnJ2gTVmztAzcmRAu97mSsC593/EaLdzRYtxPmmgzX+H0NEd4pkUTxuXmJlQSZ6O7QJ2E0P5RtgqcN0DgB9j5sx/4ohbtfcAXOaGSy9O9mzTYLGzDDZZnsKoztH8DrsbOsFevNF9d4ln5J2BzW+12Zm44lZpyizC/hoDpkVvQdmGNnu5wFeCoNNNYRovxEpe+Lc9LCLFh0O6EgxlHsiACyXWuFVzDOOdhi+8pnu26cZET/jIh9ynkkjlh/12N9AfCF0hXLDnb3RvtjjWlkCPrgHNOQV3d4xxq/R5WWCr0V3p2X8uxstVvI+jfg4/fxEj6PSfv9dFCycPcxWudrE8IL7InSVxq5MD2rXErW6II27VIqw4ujeGXHhmvz+Kj91Rz8XPG2MAfYCN6DPLzIMv2HOs91DmmzkzOADQ/iXmzOIYLrwd2B9neRhscldAu6Fo9yt8rEPNZd6XlXPx2SLEfNlG94hplbx8e7uF3ZYsX2TmzMOBy6dwSo6zM5/GFLdKd+I+2F9v7C/EaY3PEQ+5aLnJhTbDQxProAfkdOqiK8INLsqBPz40u5pgLxbwW0o8IycEtOtkcat82fRkW+NWzZyhSzJdFM4LWWXELtIJaDfcZmtW4jNnevi2lS7FjF9lcqNq+/74AErHLq5NdQ3K1dhHndBu57CXjKrzLdCjXwBk9SUvm5bEcOEdMXOmC+pfhy5mbG4Qt9KPxkVBIvSsZMwrM+8yrJF5aBjix+Up6TLcVyN5hcFukP3TRYEeswLnlW+w2ZlY4lbNreEFA56m1dAy9sEc8PXO36vS17ZnIAtXy6sX7MUG/mN8mS+6yAfk2hCwzopbPRlDX/ji61mOxpxiDMlhmZRsec3X7WGYd4RawV5sLTVzhp6RfQJnRVoCPZbFdPExB87T+HiQD6D4eUKGoNOP/gmUVbyLuXxlFhbsZQJ2CF/sqy5yJZgR2HyCje5b4nrJg/0wodJztL05p++iV/e9UoScD7ac3eFd5hV7wD3hKkjteWQnYOtpzligx+iAdqVxq8/GFbdKlwIXvWGlW+8nZjKNCgwgLwf0bag4O8Tnh6VMv2dB13pAbWd6yx5W60NSYPP1uqXh4HqrK2K+CNdh38xKsJojPD4zA8IVcS+tjv3ut77zDvca9r9ZszHli6nf+MbQd5aBMxypLlpl5gNdCQahvs15BEabmOqC89VclW9d3MlI2S8XBY/zYZHpAMfhM6OI+GLo0nLXOcI+aINzJP/InjlouqxNMOdlOaL5xNW+P0N/B3lsz7SJnH49niXsvB3P5cn03J5urKmPLviiV+GkPu6iIOcLAi9mjsCnE+wbB4Dt6N+/XeRiwGeMRvM/b8ntwunHH6SXtozIXCqG5tEh+z74AopBIR/QVDLTKW/mJT1E37UffcIqmXVthc+b5MRgx8EPo9PPO//8hU0JpaHz6es7FisaaiocTWPtUhxjn412y83/vM5gp1suXxr1NDub4FfZKHfYID9gF+VWXjgxZ09I6v/lm2Eu2uwTNXWKATKZ2+wGQiFWSrZb+bEC9JN+7SwMPawywDkX3rkEjmb7X5rsgizczIrddVK781TCA2rRZ5RoQh2xIgl2SRLskiTYJcEuSYJdkgS7JAl2SRLskiTYJUmwS5JglyTBLkmCXRLskiTYJUmwS5JglyTBLkmCXZIEuyQJdkkS7JIk2KUfiEmWmFZuo2cKOi5ewERMxwS7VCjZgmvMA8ncmz4pAbndeqYCF+xSEYHn+lFcA9aHg1Nxpe4W7FKW0FfE6huCXdIDqiQJdkkS7JIk2CVJsEuSYJckwS5Jgl2SBLskCXZJsEuSYJckwS5JxdB/ASH5FI/5dHZAAAAAAElFTkSuQmCC'></div>\n",
       "                    <div>\n",
       "                        <p>Kql Query Language, aka kql, is the query language for advanced analytics on Azure Monitor resources. The current supported data sources are \n",
       "                        Azure Data Explorer (Kusto), Log Analytics and Application Insights. To get more information execute '%kql --help \"kql\"'</p>\n",
       "                        <p>   \n",
       "                          &bull; \n",
       "                kql reference: Click on 'Help' tab > and Select 'kql reference' or execute '%kql --help \"kql\"'<br>\n",
       "                          &bull; \n",
       "                Kqlmagic configuration: execute '%config Kqlmagic'<br>\n",
       "                          &bull; \n",
       "                Kqlmagic usage: execute '%kql --usage'<br>\n",
       "                          &bull; \n",
       "                To report bug/issue: execute '%kql --bug-report'<br>                \n",
       "                        </p> \n",
       "                    </div>\n",
       "                </div>\n",
       "            </body>\n",
       "            </html>"
      ],
      "text/plain": [
       "<IPython.core.display.HTML object>"
      ]
     },
     "metadata": {},
     "output_type": "display_data"
    },
    {
     "data": {
      "text/html": [
       "<html>\n",
       "        <head>\n",
       "            \n",
       "            \n",
       "        </head>\n",
       "        <body>\n",
       "            <div><p style=' padding: 10px; color: #3a87ad; background-color: #d9edf7; border-color: #bce9f1'>Kqlmagic&nbsp;package&nbsp;is&nbsp;updated&nbsp;frequently.&nbsp;Run&nbsp;&apos;!pip&nbsp;install&nbsp;Kqlmagic&nbsp;--no-cache-dir&nbsp;--upgrade&apos;&nbsp;to&nbsp;use&nbsp;the&nbsp;latest&nbsp;version.<br>Kqlmagic&nbsp;version:&nbsp;0.1.114.post22,&nbsp;source:&nbsp;https://github.com/Microsoft/jupyter-Kqlmagic</p></div>\n",
       "        </body>\n",
       "        </html>"
      ],
      "text/plain": [
       "<IPython.core.display.HTML object>"
      ]
     },
     "metadata": {},
     "output_type": "display_data"
    },
    {
     "data": {
      "text/html": [
       "<!DOCTYPE html>\n",
       "            <html><body>\n",
       "            <div style='padding: 10px; color: #3a87ad; background-color: #d9edf7; border-color: #bce9f1'>\n",
       "            Click to find out what's new in Kqlmagic \n",
       "            <button onclick=\"this.style.visibility='visible';\n",
       "            kql_MagicLaunchWindowFunction('kqlmagic/temp_files/be1bfb78-f6ea-4eb7-b26d-887fa0f002e7/what_new_history.html', 'fullscreen=no,directories=no,location=no,menubar=no,resizable=yes,scrollbars=yes,status=no,titlebar=no,toolbar=no,', 'what_new_history', '');\n",
       "            kql_MagicCloseWindow(kql_Magic_what_new_history, -1, -1);\">\n",
       "            What's New? </button>\n",
       "            </div>\n",
       "\n",
       "            <script>\n",
       "            var kql_Magic_what_new_history = null;\n",
       "\n",
       "\n",
       "            function kql_MagicCloseWindow(window_obj, obj_secs, itself_secs) {\n",
       "                if (obj_secs >= 0) {\n",
       "                    _timeout = setTimeout(function(){\n",
       "                        window_obj.close();\n",
       "                        if (itself_secs >= 0) {\n",
       "                            __timeout = setTimeout(function(){window.close();}, itself_secs * 1000);\n",
       "                        }\n",
       "                    }, obj_secs * 1000);\n",
       "                } else if (itself_secs >= 0) {\n",
       "                    _timeout = setTimeout(function(){window.close();}, itself_secs * 1000);\n",
       "                }\n",
       "            }\n",
       "\n",
       "            function kql_MagicLaunchWindowFunction(file_path_or_data, window_params, window_name, host_or_text) {\n",
       "                var url;\n",
       "                const baseURI = String(window.location);\n",
       "                if (host_or_text == 'text' || host_or_text == 'body') {\n",
       "                    url = ''\n",
       "                } else if (file_path_or_data.startsWith('http')) {\n",
       "                    url = file_path_or_data;\n",
       "                } else if (host_or_text.endsWith('.azureml.ms') || host_or_text.endsWith('.azureml.net')) {\n",
       "                    let azuremlBaseURI = String(window.document.baseURI);\n",
       "                    let start = azuremlBaseURI.search('activeFilePath=');\n",
       "                    if (start > 0) {\n",
       "                        start += 'activeFilePath='.length;\n",
       "                        let end = azuremlBaseURI.substring(start).search('&');\n",
       "                        if (end < 0) {\n",
       "                            end = undefined;\n",
       "                        }\n",
       "                        let parts = azuremlBaseURI.substring(start, end).split('/');\n",
       "                        parts.pop();\n",
       "                        url = host_or_text + '/tree/' + parts.join('/') + '/' + file_path_or_data;\n",
       "                    } else {\n",
       "                        var parts = baseURI.split('/');\n",
       "                        parts.pop();\n",
       "                        url = parts.join('/') + '/' + file_path_or_data;\n",
       "                    }\n",
       "                } else {\n",
       "                    var base_url = '';\n",
       "\n",
       "                    // check if azure notebook\n",
       "                    var azure_host = (host_or_text == null || host_or_text.length == 0) ? 'https://notebooks.azure.com' : host_or_text;\n",
       "                    var start = azure_host.search('//');\n",
       "                    var azure_host_suffix = '.' + azure_host.substring(start+2);\n",
       "\n",
       "                    var end = baseURI.search(azure_host_suffix);\n",
       "                    start = baseURI.search('//');\n",
       "                    if (start > 0 && end > 0) {\n",
       "                        // # azure notebook environment, assume template: https://library-user.notebooks.azure.com\n",
       "                        var parts = baseURI.substring(start+2, end).split('-');\n",
       "                        if (parts.length == 2) {\n",
       "                            var library = parts[0];\n",
       "                            var user = parts[1];\n",
       "                            base_url = azure_host + '/api/user/' +user+ '/library/' +library+ '/html/';\n",
       "                        }\n",
       "                    }\n",
       "\n",
       "                    // check if local jupyter lab\n",
       "                    if (base_url.length == 0) {\n",
       "                        var configDataScipt  = document.getElementById('jupyter-config-data');\n",
       "                        if (configDataScipt != null) {\n",
       "                            var jupyterConfigData = JSON.parse(configDataScipt.textContent);\n",
       "                            if (jupyterConfigData['appName'] == 'JupyterLab' && jupyterConfigData['serverRoot'] != null &&  jupyterConfigData['treeUrl'] != null) {\n",
       "                                var basePath = 'C:/Users/Jeffrey.Mosley/OneDrive - Unilever/Unilever' + '/';\n",
       "                                if (basePath.startsWith(jupyterConfigData['serverRoot'])) {\n",
       "                                    base_url = '/files/' + basePath.substring(jupyterConfigData['serverRoot'].length+1);\n",
       "                                }\n",
       "                            }\n",
       "                        }\n",
       "                    }\n",
       "\n",
       "                    // works for local jupyter notebook\n",
       "                    if (base_url.length == 0) {\n",
       "\n",
       "                        var parts = baseURI.split('/');\n",
       "                        parts.pop(); // remove notebook name segment\n",
       "                        base_url = parts.join('/') + '/';\n",
       "                    }\n",
       "                    url = base_url + file_path_or_data;\n",
       "                }\n",
       "\n",
       "                window.focus();\n",
       "                var w = screen.width / 2;\n",
       "                var h = screen.height / 2;\n",
       "                params = 'width='+w+',height='+h;\n",
       "                // kql_Magic + window_name should be a global variable \n",
       "                window_obj = window.open(url, window_name, window_params + params);\n",
       "                if (url == '') {\n",
       "                    let decodedData = atob(file_path_or_data);\n",
       "                    if (host_or_text == 'text') {\n",
       "                        var el = window_obj.document.createElement('p');\n",
       "                        window_obj.document.body.overflow = 'auto';\n",
       "                        el.style.top = 0;\n",
       "                        el.style.left = 0;\n",
       "                        el.innerHTML = decodedData;\n",
       "                        window_obj.document.body.appendChild(el);\n",
       "                    } else {\n",
       "                        window_obj.document.body.innerHTML = decodedData;\n",
       "                    }\n",
       "                }\n",
       "                kql_Magic_what_new_history = window_obj;\n",
       "            }\n",
       "            </script>\n",
       "\n",
       "            </body></html>"
      ],
      "text/plain": [
       "<IPython.core.display.HTML object>"
      ]
     },
     "metadata": {},
     "output_type": "display_data"
    }
   ],
   "source": [
    "%reload_ext Kqlmagic"
   ]
  },
  {
   "cell_type": "code",
   "execution_count": 2,
   "id": "5ca4545c",
   "metadata": {},
   "outputs": [
    {
     "data": {
      "text/html": [
       "<!DOCTYPE html>\n",
       "                            <html><body><script>\n",
       "\n",
       "                                // close authentication window\n",
       "                                if (kql_MagicUserCodeAuthWindow && kql_MagicUserCodeAuthWindow.opener != null && !kql_MagicUserCodeAuthWindow.closed) {\n",
       "                                    kql_MagicUserCodeAuthWindow.close()\n",
       "                                }\n",
       "                                // TODO: make sure, you clear the right cell. BTW, not sure it is a must to do any clearing\n",
       "\n",
       "                                // clear output cell\n",
       "                                Jupyter.notebook.clear_output(Jupyter.notebook.get_selected_index())\n",
       "\n",
       "                                // TODO: if in run all mode, move to last cell, otherwise move to next cell\n",
       "                                // move to next cell\n",
       "\n",
       "                            </script></body></html>"
      ],
      "text/plain": [
       "<IPython.core.display.HTML object>"
      ]
     },
     "metadata": {},
     "output_type": "display_data"
    },
    {
     "data": {
      "text/html": [
       "<!DOCTYPE html>\n",
       "            <html><body>\n",
       "            <div style=''>\n",
       "            \n",
       "            <button onclick=\"this.style.visibility='visible';\n",
       "            kql_MagicLaunchWindowFunction('kqlmagic/temp_files/be1bfb78-f6ea-4eb7-b26d-887fa0f002e7/_Samples_at_help_schema.html', 'fullscreen=no,directories=no,location=no,menubar=no,resizable=yes,scrollbars=yes,status=no,titlebar=no,toolbar=no,', '_Samples_at_help_schema', '');\n",
       "            kql_MagicCloseWindow(kql_Magic__Samples_at_help_schema, -1, -1);\">\n",
       "            popup schema Samples@help</button>\n",
       "            </div>\n",
       "\n",
       "            <script>\n",
       "            var kql_Magic__Samples_at_help_schema = null;\n",
       "\n",
       "\n",
       "            function kql_MagicCloseWindow(window_obj, obj_secs, itself_secs) {\n",
       "                if (obj_secs >= 0) {\n",
       "                    _timeout = setTimeout(function(){\n",
       "                        window_obj.close();\n",
       "                        if (itself_secs >= 0) {\n",
       "                            __timeout = setTimeout(function(){window.close();}, itself_secs * 1000);\n",
       "                        }\n",
       "                    }, obj_secs * 1000);\n",
       "                } else if (itself_secs >= 0) {\n",
       "                    _timeout = setTimeout(function(){window.close();}, itself_secs * 1000);\n",
       "                }\n",
       "            }\n",
       "\n",
       "            function kql_MagicLaunchWindowFunction(file_path_or_data, window_params, window_name, host_or_text) {\n",
       "                var url;\n",
       "                const baseURI = String(window.location);\n",
       "                if (host_or_text == 'text' || host_or_text == 'body') {\n",
       "                    url = ''\n",
       "                } else if (file_path_or_data.startsWith('http')) {\n",
       "                    url = file_path_or_data;\n",
       "                } else if (host_or_text.endsWith('.azureml.ms') || host_or_text.endsWith('.azureml.net')) {\n",
       "                    let azuremlBaseURI = String(window.document.baseURI);\n",
       "                    let start = azuremlBaseURI.search('activeFilePath=');\n",
       "                    if (start > 0) {\n",
       "                        start += 'activeFilePath='.length;\n",
       "                        let end = azuremlBaseURI.substring(start).search('&');\n",
       "                        if (end < 0) {\n",
       "                            end = undefined;\n",
       "                        }\n",
       "                        let parts = azuremlBaseURI.substring(start, end).split('/');\n",
       "                        parts.pop();\n",
       "                        url = host_or_text + '/tree/' + parts.join('/') + '/' + file_path_or_data;\n",
       "                    } else {\n",
       "                        var parts = baseURI.split('/');\n",
       "                        parts.pop();\n",
       "                        url = parts.join('/') + '/' + file_path_or_data;\n",
       "                    }\n",
       "                } else {\n",
       "                    var base_url = '';\n",
       "\n",
       "                    // check if azure notebook\n",
       "                    var azure_host = (host_or_text == null || host_or_text.length == 0) ? 'https://notebooks.azure.com' : host_or_text;\n",
       "                    var start = azure_host.search('//');\n",
       "                    var azure_host_suffix = '.' + azure_host.substring(start+2);\n",
       "\n",
       "                    var end = baseURI.search(azure_host_suffix);\n",
       "                    start = baseURI.search('//');\n",
       "                    if (start > 0 && end > 0) {\n",
       "                        // # azure notebook environment, assume template: https://library-user.notebooks.azure.com\n",
       "                        var parts = baseURI.substring(start+2, end).split('-');\n",
       "                        if (parts.length == 2) {\n",
       "                            var library = parts[0];\n",
       "                            var user = parts[1];\n",
       "                            base_url = azure_host + '/api/user/' +user+ '/library/' +library+ '/html/';\n",
       "                        }\n",
       "                    }\n",
       "\n",
       "                    // check if local jupyter lab\n",
       "                    if (base_url.length == 0) {\n",
       "                        var configDataScipt  = document.getElementById('jupyter-config-data');\n",
       "                        if (configDataScipt != null) {\n",
       "                            var jupyterConfigData = JSON.parse(configDataScipt.textContent);\n",
       "                            if (jupyterConfigData['appName'] == 'JupyterLab' && jupyterConfigData['serverRoot'] != null &&  jupyterConfigData['treeUrl'] != null) {\n",
       "                                var basePath = 'C:/Users/Jeffrey.Mosley/OneDrive - Unilever/Unilever' + '/';\n",
       "                                if (basePath.startsWith(jupyterConfigData['serverRoot'])) {\n",
       "                                    base_url = '/files/' + basePath.substring(jupyterConfigData['serverRoot'].length+1);\n",
       "                                }\n",
       "                            }\n",
       "                        }\n",
       "                    }\n",
       "\n",
       "                    // works for local jupyter notebook\n",
       "                    if (base_url.length == 0) {\n",
       "\n",
       "                        var parts = baseURI.split('/');\n",
       "                        parts.pop(); // remove notebook name segment\n",
       "                        base_url = parts.join('/') + '/';\n",
       "                    }\n",
       "                    url = base_url + file_path_or_data;\n",
       "                }\n",
       "\n",
       "                window.focus();\n",
       "                var w = screen.width / 2;\n",
       "                var h = screen.height / 2;\n",
       "                params = 'width='+w+',height='+h;\n",
       "                // kql_Magic + window_name should be a global variable \n",
       "                window_obj = window.open(url, window_name, window_params + params);\n",
       "                if (url == '') {\n",
       "                    let decodedData = atob(file_path_or_data);\n",
       "                    if (host_or_text == 'text') {\n",
       "                        var el = window_obj.document.createElement('p');\n",
       "                        window_obj.document.body.overflow = 'auto';\n",
       "                        el.style.top = 0;\n",
       "                        el.style.left = 0;\n",
       "                        el.innerHTML = decodedData;\n",
       "                        window_obj.document.body.appendChild(el);\n",
       "                    } else {\n",
       "                        window_obj.document.body.innerHTML = decodedData;\n",
       "                    }\n",
       "                }\n",
       "                kql_Magic__Samples_at_help_schema = window_obj;\n",
       "            }\n",
       "            </script>\n",
       "\n",
       "            </body></html>"
      ],
      "text/plain": [
       "<IPython.core.display.HTML object>"
      ]
     },
     "metadata": {},
     "output_type": "display_data"
    },
    {
     "data": {
      "application/javascript": [
       "try {IPython.notebook.kernel.reconnect();} catch(err) {;}"
      ],
      "text/plain": [
       "<IPython.core.display.Javascript object>"
      ]
     },
     "metadata": {},
     "output_type": "display_data"
    }
   ],
   "source": [
    "%kql kusto://code;cluster='Help';database='Samples'"
   ]
  },
  {
   "cell_type": "code",
   "execution_count": 3,
   "id": "f909f172",
   "metadata": {},
   "outputs": [
    {
     "name": "stdout",
     "output_type": "stream",
     "text": [
      "env: PYTHONHASHSEED=0\n",
      "Cache file name:  df-1166806860828546482.pkl\n"
     ]
    }
   ],
   "source": [
    "# NOTE: to make hash() consistent set env. variable PYTHONHASHSEED=0\n",
    "%env PYTHONHASHSEED=0\n",
    "\n",
    "q = '''\n",
    "OccupancyDetection\n",
    "'''\n",
    "\n",
    "fn = \"df\" + str(hash(q)) + \".pkl\"\n",
    "print(\"Cache file name: \", fn)"
   ]
  },
  {
   "cell_type": "code",
   "execution_count": 4,
   "id": "f739f604",
   "metadata": {},
   "outputs": [
    {
     "name": "stdout",
     "output_type": "stream",
     "text": [
      "Execute query...\n",
      "Save df to df-1166806860828546482.pkl\n",
      "\n",
      " (20560, 8) \n",
      " Index(['Timestamp', 'Temperature', 'Humidity', 'Light', 'CO2', 'HumidityRatio',\n",
      "       'Occupancy', 'Test'],\n",
      "      dtype='object')\n"
     ]
    }
   ],
   "source": [
    "fn = \"df\" + str(hash(q)) + \".pkl\"\n",
    "try:\n",
    "    df = pd.read_pickle(fn)\n",
    "    print(\"Load df from \" + fn)\n",
    "except:\n",
    "    print(\"Execute query...\")\n",
    "    try:\n",
    "        %kql res << -query q\n",
    "        df = res.to_dataframe()\n",
    "        print(\"Save df to \" + fn)\n",
    "        df.to_pickle(fn)\n",
    "        print(\"\\n\", df.shape, \"\\n\", df.columns)\n",
    "    except Exception as ex:\n",
    "        print(ex)"
   ]
  },
  {
   "cell_type": "code",
   "execution_count": 5,
   "id": "a2a832ab",
   "metadata": {},
   "outputs": [
    {
     "name": "stdout",
     "output_type": "stream",
     "text": [
      "(20560, 8) \n",
      "\n",
      "                      Timestamp  Temperature  Humidity   Light     CO2  \\\n",
      "20556 2015-02-18 09:16:00+00:00       20.865   27.7450  423.50  1514.5   \n",
      "20557 2015-02-18 09:16:00+00:00       20.890   27.7450  423.50  1521.5   \n",
      "20558 2015-02-18 09:17:00+00:00       20.890   28.0225  418.75  1632.0   \n",
      "20559 2015-02-18 09:19:00+00:00       21.000   28.1000  409.00  1864.0   \n",
      "\n",
      "       HumidityRatio  Occupancy  Test  \n",
      "20556       0.004230       True  True  \n",
      "20557       0.004237       True  True  \n",
      "20558       0.004279       True  True  \n",
      "20559       0.004321       True  True  \n"
     ]
    }
   ],
   "source": [
    "print(df.shape, \"\\n\")\n",
    "print(df[-4:])"
   ]
  },
  {
   "cell_type": "code",
   "execution_count": 6,
   "id": "023aca42",
   "metadata": {},
   "outputs": [
    {
     "data": {
      "text/plain": [
       "Test   Occupancy\n",
       "False  False        6414\n",
       "       True         1729\n",
       "True   False        9396\n",
       "       True         3021\n",
       "dtype: int64"
      ]
     },
     "execution_count": 6,
     "metadata": {},
     "output_type": "execute_result"
    }
   ],
   "source": [
    "df.groupby(['Test', 'Occupancy']).size()"
   ]
  },
  {
   "cell_type": "code",
   "execution_count": 7,
   "id": "933cd89d",
   "metadata": {},
   "outputs": [
    {
     "name": "stdout",
     "output_type": "stream",
     "text": [
      "(8143, 5) (8143,) (12417, 5) (12417,)\n"
     ]
    }
   ],
   "source": [
    "train_x = df[df['Test'] == False][['Temperature', 'Humidity', 'Light', 'CO2', 'HumidityRatio']]\n",
    "train_y = df[df['Test'] == False]['Occupancy']\n",
    "test_x = df[df['Test'] == True][['Temperature', 'Humidity', 'Light', 'CO2', 'HumidityRatio']]\n",
    "test_y = df[df['Test'] == True]['Occupancy']\n",
    "\n",
    "print(train_x.shape, train_y.shape, test_x.shape, test_y.shape)"
   ]
  },
  {
   "cell_type": "code",
   "execution_count": 19,
   "id": "5d303423",
   "metadata": {},
   "outputs": [],
   "source": [
    "import pandas as pd\n",
    "import matplotlib.pyplot as plt\n",
    "import numpy as np\n",
    "from sklearn.linear_model import LinearRegression\n",
    "from sklearn.model_selection import train_test_split\n",
    "import seaborn as sns"
   ]
  },
  {
   "cell_type": "code",
   "execution_count": 8,
   "id": "3f8e4d89",
   "metadata": {},
   "outputs": [],
   "source": [
    "from sklearn import tree\n",
    "from sklearn import neighbors\n",
    "from sklearn import naive_bayes\n",
    "from sklearn.linear_model import LogisticRegression\n",
    "from sklearn.model_selection import cross_val_score\n",
    "\n",
    "#four classifier types\n",
    "clf1 = tree.DecisionTreeClassifier()\n",
    "clf2 = LogisticRegression()\n",
    "clf3 = neighbors.KNeighborsClassifier()\n",
    "clf4 = naive_bayes.GaussianNB()"
   ]
  },
  {
   "cell_type": "code",
   "execution_count": 23,
   "id": "5516351d",
   "metadata": {},
   "outputs": [],
   "source": [
    "X = df[[\"Occupancy\"]].to_numpy()"
   ]
  },
  {
   "cell_type": "code",
   "execution_count": 24,
   "id": "8ec9d55c",
   "metadata": {},
   "outputs": [],
   "source": [
    "y = df[['Temperature', 'Humidity', 'Light', 'CO2', 'HumidityRatio']]"
   ]
  },
  {
   "cell_type": "code",
   "execution_count": 25,
   "id": "0a3025d9",
   "metadata": {},
   "outputs": [],
   "source": [
    "train_x, test_x, train_y, test_y = train_test_split(X, y, random_state=42)"
   ]
  },
  {
   "cell_type": "code",
   "execution_count": 26,
   "id": "5b74d8a8",
   "metadata": {},
   "outputs": [],
   "source": [
    "model = LinearRegression()"
   ]
  },
  {
   "cell_type": "code",
   "execution_count": 27,
   "id": "f785bed0",
   "metadata": {},
   "outputs": [
    {
     "data": {
      "text/plain": [
       "LinearRegression()"
      ]
     },
     "execution_count": 27,
     "metadata": {},
     "output_type": "execute_result"
    }
   ],
   "source": [
    "model.fit(train_x, train_y)"
   ]
  },
  {
   "cell_type": "code",
   "execution_count": 28,
   "id": "ee928098",
   "metadata": {},
   "outputs": [
    {
     "name": "stdout",
     "output_type": "stream",
     "text": [
      "[[1.39691250e+00]\n",
      " [6.12821978e-01]\n",
      " [4.57224030e+02]\n",
      " [3.73528665e+02]\n",
      " [4.80917646e-04]]\n"
     ]
    }
   ],
   "source": [
    "coef = model.coef_\n",
    "print(coef)"
   ]
  },
  {
   "cell_type": "code",
   "execution_count": 29,
   "id": "16cf264c",
   "metadata": {},
   "outputs": [
    {
     "name": "stdout",
     "output_type": "stream",
     "text": [
      "[2.05861465e+01 2.75039658e+01 2.51113835e+01 6.05407650e+02\n",
      " 4.11655076e-03]\n"
     ]
    }
   ],
   "source": [
    "intercept = model.intercept_\n",
    "print(intercept)"
   ]
  },
  {
   "cell_type": "code",
   "execution_count": 30,
   "id": "f4b8c1d8",
   "metadata": {},
   "outputs": [
    {
     "data": {
      "text/plain": [
       "array([[2.19830590e+01, 2.81167878e+01, 4.82335413e+02, 9.78936315e+02,\n",
       "        4.59746841e-03],\n",
       "       [2.05861465e+01, 2.75039658e+01, 2.51113835e+01, 6.05407650e+02,\n",
       "        4.11655076e-03],\n",
       "       [2.19830590e+01, 2.81167878e+01, 4.82335413e+02, 9.78936315e+02,\n",
       "        4.59746841e-03],\n",
       "       ...,\n",
       "       [2.05861465e+01, 2.75039658e+01, 2.51113835e+01, 6.05407650e+02,\n",
       "        4.11655076e-03],\n",
       "       [2.19830590e+01, 2.81167878e+01, 4.82335413e+02, 9.78936315e+02,\n",
       "        4.59746841e-03],\n",
       "       [2.05861465e+01, 2.75039658e+01, 2.51113835e+01, 6.05407650e+02,\n",
       "        4.11655076e-03]])"
      ]
     },
     "execution_count": 30,
     "metadata": {},
     "output_type": "execute_result"
    }
   ],
   "source": [
    "pred_y = model.predict(train_x)\n",
    "pred_y"
   ]
  },
  {
   "cell_type": "code",
   "execution_count": 32,
   "id": "8bcce32e",
   "metadata": {},
   "outputs": [],
   "source": [
    "y_test_pred = model.predict(train_x)"
   ]
  },
  {
   "cell_type": "code",
   "execution_count": 33,
   "id": "a6dd7cd7",
   "metadata": {},
   "outputs": [],
   "source": [
    "train_score = model.score(train_x, train_y)"
   ]
  },
  {
   "cell_type": "code",
   "execution_count": 34,
   "id": "e3e7f0d1",
   "metadata": {},
   "outputs": [],
   "source": [
    "test_score = model.score(test_x, test_y)"
   ]
  },
  {
   "cell_type": "code",
   "execution_count": 35,
   "id": "0d290689",
   "metadata": {},
   "outputs": [
    {
     "data": {
      "text/plain": [
       "0.294636467505608"
      ]
     },
     "execution_count": 35,
     "metadata": {},
     "output_type": "execute_result"
    }
   ],
   "source": [
    "# R-squared value\n",
    "train_score"
   ]
  },
  {
   "cell_type": "code",
   "execution_count": 36,
   "id": "e7affaee",
   "metadata": {},
   "outputs": [
    {
     "data": {
      "text/plain": [
       "0.28840541852891227"
      ]
     },
     "execution_count": 36,
     "metadata": {},
     "output_type": "execute_result"
    }
   ],
   "source": [
    "test_score"
   ]
  },
  {
   "cell_type": "code",
   "execution_count": 38,
   "id": "86531b6e",
   "metadata": {},
   "outputs": [],
   "source": [
    "from statsmodels.api import OLS"
   ]
  },
  {
   "cell_type": "code",
   "execution_count": 39,
   "id": "f16379a0",
   "metadata": {},
   "outputs": [],
   "source": [
    "model2 = OLS(train_x, train_y)"
   ]
  },
  {
   "cell_type": "code",
   "execution_count": 40,
   "id": "77a5b7ef",
   "metadata": {},
   "outputs": [
    {
     "data": {
      "text/html": [
       "<table class=\"simpletable\">\n",
       "<caption>OLS Regression Results</caption>\n",
       "<tr>\n",
       "  <th>Dep. Variable:</th>            <td>y</td>        <th>  R-squared (uncentered):</th>       <td>-388.460</td> \n",
       "</tr>\n",
       "<tr>\n",
       "  <th>Model:</th>                   <td>OLS</td>       <th>  Adj. R-squared (uncentered):</th>  <td>-388.586</td> \n",
       "</tr>\n",
       "<tr>\n",
       "  <th>Method:</th>             <td>Least Squares</td>  <th>  F-statistic:       </th>           <td>  -3075.</td> \n",
       "</tr>\n",
       "<tr>\n",
       "  <th>Date:</th>             <td>Mon, 22 May 2023</td> <th>  Prob (F-statistic):</th>            <td>  1.00</td>  \n",
       "</tr>\n",
       "<tr>\n",
       "  <th>Time:</th>                 <td>10:51:48</td>     <th>  Log-Likelihood:    </th>           <td>  6482.4</td> \n",
       "</tr>\n",
       "<tr>\n",
       "  <th>No. Observations:</th>      <td> 15420</td>      <th>  AIC:               </th>          <td>-1.295e+04</td>\n",
       "</tr>\n",
       "<tr>\n",
       "  <th>Df Residuals:</th>          <td> 15415</td>      <th>  BIC:               </th>          <td>-1.292e+04</td>\n",
       "</tr>\n",
       "<tr>\n",
       "  <th>Df Model:</th>              <td>     5</td>      <th>                     </th>               <td> </td>    \n",
       "</tr>\n",
       "<tr>\n",
       "  <th>Covariance Type:</th>      <td>nonrobust</td>    <th>                     </th>               <td> </td>    \n",
       "</tr>\n",
       "</table>\n",
       "<table class=\"simpletable\">\n",
       "<tr>\n",
       "        <td></td>           <th>coef</th>     <th>std err</th>      <th>t</th>      <th>P>|t|</th>  <th>[0.025</th>    <th>0.975]</th>  \n",
       "</tr>\n",
       "<tr>\n",
       "  <th>Temperature</th>   <td>   -0.0087</td> <td>    0.000</td> <td>  -24.746</td> <td> 0.000</td> <td>   -0.009</td> <td>   -0.008</td>\n",
       "</tr>\n",
       "<tr>\n",
       "  <th>Humidity</th>      <td>    0.0295</td> <td>    0.001</td> <td>   29.704</td> <td> 0.000</td> <td>    0.028</td> <td>    0.031</td>\n",
       "</tr>\n",
       "<tr>\n",
       "  <th>Light</th>         <td>    0.0019</td> <td> 8.54e-06</td> <td>  222.430</td> <td> 0.000</td> <td>    0.002</td> <td>    0.002</td>\n",
       "</tr>\n",
       "<tr>\n",
       "  <th>CO2</th>           <td>    0.0002</td> <td> 5.28e-06</td> <td>   37.159</td> <td> 0.000</td> <td>    0.000</td> <td>    0.000</td>\n",
       "</tr>\n",
       "<tr>\n",
       "  <th>HumidityRatio</th> <td> -186.5989</td> <td>    7.198</td> <td>  -25.923</td> <td> 0.000</td> <td> -200.708</td> <td> -172.490</td>\n",
       "</tr>\n",
       "</table>\n",
       "<table class=\"simpletable\">\n",
       "<tr>\n",
       "  <th>Omnibus:</th>       <td>11636.894</td> <th>  Durbin-Watson:     </th>  <td>   1.992</td> \n",
       "</tr>\n",
       "<tr>\n",
       "  <th>Prob(Omnibus):</th>  <td> 0.000</td>   <th>  Jarque-Bera (JB):  </th> <td>494124.482</td>\n",
       "</tr>\n",
       "<tr>\n",
       "  <th>Skew:</th>           <td>-3.214</td>   <th>  Prob(JB):          </th>  <td>    0.00</td> \n",
       "</tr>\n",
       "<tr>\n",
       "  <th>Kurtosis:</th>       <td>29.977</td>   <th>  Cond. No.          </th>  <td>4.37e+06</td> \n",
       "</tr>\n",
       "</table><br/><br/>Notes:<br/>[1] R² is computed without centering (uncentered) since the model does not contain a constant.<br/>[2] Standard Errors assume that the covariance matrix of the errors is correctly specified.<br/>[3] The condition number is large, 4.37e+06. This might indicate that there are<br/>strong multicollinearity or other numerical problems."
      ],
      "text/plain": [
       "<class 'statsmodels.iolib.summary.Summary'>\n",
       "\"\"\"\n",
       "                                 OLS Regression Results                                \n",
       "=======================================================================================\n",
       "Dep. Variable:                      y   R-squared (uncentered):                -388.460\n",
       "Model:                            OLS   Adj. R-squared (uncentered):           -388.586\n",
       "Method:                 Least Squares   F-statistic:                             -3075.\n",
       "Date:                Mon, 22 May 2023   Prob (F-statistic):                        1.00\n",
       "Time:                        10:51:48   Log-Likelihood:                          6482.4\n",
       "No. Observations:               15420   AIC:                                 -1.295e+04\n",
       "Df Residuals:                   15415   BIC:                                 -1.292e+04\n",
       "Df Model:                           5                                                  \n",
       "Covariance Type:            nonrobust                                                  \n",
       "=================================================================================\n",
       "                    coef    std err          t      P>|t|      [0.025      0.975]\n",
       "---------------------------------------------------------------------------------\n",
       "Temperature      -0.0087      0.000    -24.746      0.000      -0.009      -0.008\n",
       "Humidity          0.0295      0.001     29.704      0.000       0.028       0.031\n",
       "Light             0.0019   8.54e-06    222.430      0.000       0.002       0.002\n",
       "CO2               0.0002   5.28e-06     37.159      0.000       0.000       0.000\n",
       "HumidityRatio  -186.5989      7.198    -25.923      0.000    -200.708    -172.490\n",
       "==============================================================================\n",
       "Omnibus:                    11636.894   Durbin-Watson:                   1.992\n",
       "Prob(Omnibus):                  0.000   Jarque-Bera (JB):           494124.482\n",
       "Skew:                          -3.214   Prob(JB):                         0.00\n",
       "Kurtosis:                      29.977   Cond. No.                     4.37e+06\n",
       "==============================================================================\n",
       "\n",
       "Notes:\n",
       "[1] R² is computed without centering (uncentered) since the model does not contain a constant.\n",
       "[2] Standard Errors assume that the covariance matrix of the errors is correctly specified.\n",
       "[3] The condition number is large, 4.37e+06. This might indicate that there are\n",
       "strong multicollinearity or other numerical problems.\n",
       "\"\"\""
      ]
     },
     "execution_count": 40,
     "metadata": {},
     "output_type": "execute_result"
    }
   ],
   "source": [
    "model2.fit().summary()"
   ]
  },
  {
   "cell_type": "code",
   "execution_count": 9,
   "id": "d79e400f",
   "metadata": {},
   "outputs": [],
   "source": [
    "clf1 = clf1.fit(train_x, train_y)\n",
    "clf2 = clf2.fit(train_x, train_y)\n",
    "clf3 = clf3.fit(train_x, train_y)\n",
    "clf4 = clf4.fit(train_x, train_y)"
   ]
  },
  {
   "cell_type": "code",
   "execution_count": 10,
   "id": "30e4c744",
   "metadata": {},
   "outputs": [
    {
     "name": "stdout",
     "output_type": "stream",
     "text": [
      "Accuracy: 0.9244 (+/- 0.0645) [Decision Tree]\n",
      "Accuracy: 0.9819 (+/- 0.0165) [Logistic Regression]\n",
      "Accuracy: 0.9503 (+/- 0.0555) [K Nearest Neighbour]\n",
      "Accuracy: 0.9635 (+/- 0.0268) [Naive Bayes]\n"
     ]
    }
   ],
   "source": [
    "for clf, label in zip([clf1, clf2, clf3, clf4], ['Decision Tree', 'Logistic Regression', 'K Nearest Neighbour', 'Naive Bayes']):\n",
    "            scores = cross_val_score(clf, train_x, train_y, cv=5, scoring='accuracy')\n",
    "            print(\"Accuracy: %0.4f (+/- %0.4f) [%s]\" % (scores.mean(), scores.std(), label))"
   ]
  },
  {
   "cell_type": "code",
   "execution_count": null,
   "id": "1b420da3",
   "metadata": {},
   "outputs": [],
   "source": []
  },
  {
   "cell_type": "code",
   "execution_count": 11,
   "id": "9b6b7583",
   "metadata": {},
   "outputs": [
    {
     "name": "stdout",
     "output_type": "stream",
     "text": [
      "Accuracy: 0.8552 (+/- 0.1214) [Decision Tree]\n",
      "Accuracy: 0.9886 (+/- 0.0070) [Logistic Regression]\n",
      "Accuracy: 0.9656 (+/- 0.0223) [K Nearest Neighbour]\n",
      "Accuracy: 0.8893 (+/- 0.1265) [Naive Bayes]\n"
     ]
    }
   ],
   "source": [
    "for clf, label in zip([clf1, clf2, clf3, clf4], ['Decision Tree', 'Logistic Regression', 'K Nearest Neighbour', 'Naive Bayes']):\n",
    "            scores = cross_val_score(clf, test_x, test_y, cv=5, scoring='accuracy')\n",
    "            print(\"Accuracy: %0.4f (+/- %0.4f) [%s]\" % (scores.mean(), scores.std(), label))"
   ]
  },
  {
   "cell_type": "code",
   "execution_count": 12,
   "id": "1ed12319",
   "metadata": {},
   "outputs": [],
   "source": [
    "models_tbl = 'ML_Models_tmp'\n",
    "model_name = 'Occupancy'"
   ]
  },
  {
   "cell_type": "code",
   "execution_count": 16,
   "id": "9dfe4240",
   "metadata": {},
   "outputs": [
    {
     "data": {
      "text/html": [
       "<div>\n",
       "<style scoped>\n",
       "    .dataframe tbody tr th:only-of-type {\n",
       "        vertical-align: middle;\n",
       "    }\n",
       "\n",
       "    .dataframe tbody tr th {\n",
       "        vertical-align: top;\n",
       "    }\n",
       "\n",
       "    .dataframe thead th {\n",
       "        text-align: right;\n",
       "    }\n",
       "</style>\n",
       "<table border=\"1\" class=\"dataframe\">\n",
       "  <thead>\n",
       "    <tr style=\"text-align: right;\">\n",
       "      <th></th>\n",
       "      <th>name</th>\n",
       "      <th>timestamp</th>\n",
       "      <th>model</th>\n",
       "    </tr>\n",
       "  </thead>\n",
       "  <tbody>\n",
       "    <tr>\n",
       "      <th>0</th>\n",
       "      <td>Occupancy</td>\n",
       "      <td>2023-05-22 10:25:16.506603</td>\n",
       "      <td>b'800363736b6c6561726e2e6c696e6561725f6d6f6465...</td>\n",
       "    </tr>\n",
       "  </tbody>\n",
       "</table>\n",
       "</div>"
      ],
      "text/plain": [
       "        name                  timestamp  \\\n",
       "0  Occupancy 2023-05-22 10:25:16.506603   \n",
       "\n",
       "                                               model  \n",
       "0  b'800363736b6c6561726e2e6c696e6561725f6d6f6465...  "
      ]
     },
     "execution_count": 16,
     "metadata": {},
     "output_type": "execute_result"
    }
   ],
   "source": [
    "bmodel = pickle.dumps(clf2)\n",
    "smodel = binascii.hexlify(bmodel)\n",
    "\n",
    "now = datetime.datetime.now()\n",
    "dfm = pd.DataFrame({'name':[model_name], 'timestamp':[now], 'model':[smodel]})\n",
    "dfm"
   ]
  },
  {
   "cell_type": "code",
   "execution_count": 17,
   "id": "76365007",
   "metadata": {},
   "outputs": [
    {
     "name": "stdout",
     "output_type": "stream",
     "text": [
      "\n",
      ".set-or-append ML_Models_tmp <|\n",
      "let tbl = dfm;\n",
      "tbl\n",
      "\n"
     ]
    }
   ],
   "source": [
    "set_query = '''\n",
    ".set-or-append {0} <|\n",
    "let tbl = dfm;\n",
    "tbl\n",
    "'''.format(models_tbl)\n",
    "print(set_query)"
   ]
  },
  {
   "cell_type": "code",
   "execution_count": 18,
   "id": "aa706125",
   "metadata": {},
   "outputs": [
    {
     "data": {
      "text/html": [
       "<html>\n",
       "        <head>\n",
       "            \n",
       "            \n",
       "        </head>\n",
       "        <body>\n",
       "            <div><p style=' padding: 10px; color: #b94a48; background-color: #f2dede; border-color: #eed3d7'>Forbidden:&nbsp;Caller&nbsp;is&nbsp;not&nbsp;authorized&nbsp;to&nbsp;perform&nbsp;this&nbsp;action\r",
       "<br>Error&nbsp;details:\r",
       "<br>ClientRequestId=&apos;Kqlmagic.execute;0173f535-ca55-42af-8d13-928c9734bcc4/059b2a01-24a4-4b4f-ba72-84f08b36ed85/AzureDataExplorer&apos;,&nbsp;ActivityId=&apos;24ef4fd0-75d5-4487-9869-89d745200d88&apos;,&nbsp;Timestamp=&apos;2023-05-22T15:25:47.5429707Z&apos;.</p></div>\n",
       "        </body>\n",
       "        </html>"
      ],
      "text/plain": [
       "<IPython.core.display.HTML object>"
      ]
     },
     "metadata": {},
     "output_type": "display_data"
    }
   ],
   "source": [
    "%kql -query set_query"
   ]
  },
  {
   "cell_type": "code",
   "execution_count": 15,
   "id": "67e5737b",
   "metadata": {},
   "outputs": [
    {
     "ename": "NameError",
     "evalue": "name 'qmodel' is not defined",
     "output_type": "error",
     "traceback": [
      "\u001b[1;31m---------------------------------------------------------------------------\u001b[0m",
      "\u001b[1;31mNameError\u001b[0m                                 Traceback (most recent call last)",
      "\u001b[1;32m~\\AppData\\Local\\Temp\\ipykernel_20404\\2212153674.py\u001b[0m in \u001b[0;36m<module>\u001b[1;34m\u001b[0m\n\u001b[0;32m      2\u001b[0m \u001b[1;32mimport\u001b[0m \u001b[0mbinascii\u001b[0m\u001b[1;33m\u001b[0m\u001b[1;33m\u001b[0m\u001b[0m\n\u001b[0;32m      3\u001b[0m \u001b[1;33m\u001b[0m\u001b[0m\n\u001b[1;32m----> 4\u001b[1;33m \u001b[0mbmodel\u001b[0m \u001b[1;33m=\u001b[0m \u001b[0mbinascii\u001b[0m\u001b[1;33m.\u001b[0m\u001b[0munhexlify\u001b[0m\u001b[1;33m(\u001b[0m\u001b[0mqmodel\u001b[0m\u001b[1;33m)\u001b[0m\u001b[1;33m\u001b[0m\u001b[1;33m\u001b[0m\u001b[0m\n\u001b[0m\u001b[0;32m      5\u001b[0m \u001b[0mclfp\u001b[0m \u001b[1;33m=\u001b[0m \u001b[0mpickle\u001b[0m\u001b[1;33m.\u001b[0m\u001b[0mloads\u001b[0m\u001b[1;33m(\u001b[0m\u001b[0mbmodel\u001b[0m\u001b[1;33m)\u001b[0m\u001b[1;33m\u001b[0m\u001b[1;33m\u001b[0m\u001b[0m\n\u001b[0;32m      6\u001b[0m \u001b[0mprint\u001b[0m\u001b[1;33m(\u001b[0m\u001b[0mclfp\u001b[0m\u001b[1;33m)\u001b[0m\u001b[1;33m\u001b[0m\u001b[1;33m\u001b[0m\u001b[0m\n",
      "\u001b[1;31mNameError\u001b[0m: name 'qmodel' is not defined"
     ]
    }
   ],
   "source": [
    "import pickle\n",
    "import binascii\n",
    "\n",
    "bmodel = binascii.unhexlify(qmodel)\n",
    "clfp = pickle.loads(bmodel)\n",
    "print(clfp)"
   ]
  }
 ],
 "metadata": {
  "kernelspec": {
   "display_name": "Python 3 (ipykernel)",
   "language": "python",
   "name": "python3"
  },
  "language_info": {
   "codemirror_mode": {
    "name": "ipython",
    "version": 3
   },
   "file_extension": ".py",
   "mimetype": "text/x-python",
   "name": "python",
   "nbconvert_exporter": "python",
   "pygments_lexer": "ipython3",
   "version": "3.7.13"
  }
 },
 "nbformat": 4,
 "nbformat_minor": 5
}
