{
 "cells": [
  {
   "cell_type": "code",
   "execution_count": 1,
   "id": "69727fdc",
   "metadata": {},
   "outputs": [],
   "source": [
    "import pandas as pd\n",
    "import datetime\n",
    "import pickle\n",
    "import binascii"
   ]
  },
  {
   "cell_type": "code",
   "execution_count": 2,
   "id": "fbcc9afa",
   "metadata": {},
   "outputs": [],
   "source": [
    "import warnings\n",
    "warnings.filterwarnings('ignore')"
   ]
  },
  {
   "cell_type": "code",
   "execution_count": 3,
   "id": "8e12656a",
   "metadata": {},
   "outputs": [],
   "source": [
    "import numpy as np\n",
    "import os\n",
    "import pandas as pd\n",
    "from pathlib import Path\n",
    "from collections import Counter"
   ]
  },
  {
   "cell_type": "code",
   "execution_count": 4,
   "id": "ca2a0128",
   "metadata": {},
   "outputs": [],
   "source": [
    "from sklearn.metrics import balanced_accuracy_score\n",
    "from sklearn.metrics import confusion_matrix\n",
    "from imblearn.metrics import classification_report_imbalanced"
   ]
  },
  {
   "cell_type": "code",
   "execution_count": 5,
   "id": "b7e49339",
   "metadata": {},
   "outputs": [
    {
     "name": "stdout",
     "output_type": "stream",
     "text": [
      "Requirement already satisfied: Kqlmagic in c:\\users\\jeffrey.mosley\\appdata\\local\\anaconda3\\envs\\mlenv\\lib\\site-packages (0.1.114.post22)\n",
      "Requirement already satisfied: traitlets>=4.3.2 in c:\\users\\jeffrey.mosley\\appdata\\local\\anaconda3\\envs\\mlenv\\lib\\site-packages (from Kqlmagic) (5.1.1)\n",
      "Requirement already satisfied: azure-common>=1.1.25 in c:\\users\\jeffrey.mosley\\appdata\\local\\anaconda3\\envs\\mlenv\\lib\\site-packages (from Kqlmagic) (1.1.28)\n",
      "Requirement already satisfied: azure-identity>=1.5.0 in c:\\users\\jeffrey.mosley\\appdata\\local\\anaconda3\\envs\\mlenv\\lib\\site-packages (from Kqlmagic) (1.13.0)\n",
      "Requirement already satisfied: python-dateutil>=2.7.5 in c:\\users\\jeffrey.mosley\\appdata\\local\\anaconda3\\envs\\mlenv\\lib\\site-packages (from Kqlmagic) (2.8.2)\n",
      "Requirement already satisfied: ipykernel>=5.1.1 in c:\\users\\jeffrey.mosley\\appdata\\local\\anaconda3\\envs\\mlenv\\lib\\site-packages (from Kqlmagic) (6.15.2)\n",
      "Requirement already satisfied: isodate>=0.6.0 in c:\\users\\jeffrey.mosley\\appdata\\local\\anaconda3\\envs\\mlenv\\lib\\site-packages (from Kqlmagic) (0.6.1)\n",
      "Requirement already satisfied: msal-extensions>=0.3.0 in c:\\users\\jeffrey.mosley\\appdata\\local\\anaconda3\\envs\\mlenv\\lib\\site-packages (from Kqlmagic) (1.0.0)\n",
      "Requirement already satisfied: ipywidgets in c:\\users\\jeffrey.mosley\\appdata\\local\\anaconda3\\envs\\mlenv\\lib\\site-packages (from Kqlmagic) (7.6.5)\n",
      "Requirement already satisfied: cryptography>=2.7 in c:\\users\\jeffrey.mosley\\appdata\\local\\anaconda3\\envs\\mlenv\\lib\\site-packages (from Kqlmagic) (37.0.1)\n",
      "Requirement already satisfied: prettytable>=0.7.2 in c:\\users\\jeffrey.mosley\\appdata\\local\\anaconda3\\envs\\mlenv\\lib\\site-packages (from Kqlmagic) (3.7.0)\n",
      "Requirement already satisfied: plotly>=3.10.0 in c:\\users\\jeffrey.mosley\\appdata\\local\\anaconda3\\envs\\mlenv\\lib\\site-packages (from Kqlmagic) (5.9.0)\n",
      "Requirement already satisfied: matplotlib>=3.0.0 in c:\\users\\jeffrey.mosley\\appdata\\local\\anaconda3\\envs\\mlenv\\lib\\site-packages (from Kqlmagic) (3.5.2)\n",
      "Requirement already satisfied: setuptools>=41.0.1 in c:\\users\\jeffrey.mosley\\appdata\\local\\anaconda3\\envs\\mlenv\\lib\\site-packages (from Kqlmagic) (63.4.1)\n",
      "Requirement already satisfied: pandas>=0.23.4 in c:\\users\\jeffrey.mosley\\appdata\\local\\anaconda3\\envs\\mlenv\\lib\\site-packages (from Kqlmagic) (1.3.5)\n",
      "Requirement already satisfied: flask>=1.0.3 in c:\\users\\jeffrey.mosley\\appdata\\local\\anaconda3\\envs\\mlenv\\lib\\site-packages (from Kqlmagic) (1.1.2)\n",
      "Requirement already satisfied: Markdown>=3.0.1 in c:\\users\\jeffrey.mosley\\appdata\\local\\anaconda3\\envs\\mlenv\\lib\\site-packages (from Kqlmagic) (3.3.4)\n",
      "Requirement already satisfied: psutil>=5.4.7 in c:\\users\\jeffrey.mosley\\appdata\\local\\anaconda3\\envs\\mlenv\\lib\\site-packages (from Kqlmagic) (5.9.0)\n",
      "Requirement already satisfied: msrestazure>=0.6.3 in c:\\users\\jeffrey.mosley\\appdata\\local\\anaconda3\\envs\\mlenv\\lib\\site-packages (from Kqlmagic) (0.6.4)\n",
      "Requirement already satisfied: Pygments>=2.2.0 in c:\\users\\jeffrey.mosley\\appdata\\local\\anaconda3\\envs\\mlenv\\lib\\site-packages (from Kqlmagic) (2.11.2)\n",
      "Requirement already satisfied: beautifulsoup4>=4.6.3 in c:\\users\\jeffrey.mosley\\appdata\\local\\anaconda3\\envs\\mlenv\\lib\\site-packages (from Kqlmagic) (4.11.1)\n",
      "Requirement already satisfied: pyperclip>=1.7.0 in c:\\users\\jeffrey.mosley\\appdata\\local\\anaconda3\\envs\\mlenv\\lib\\site-packages (from Kqlmagic) (1.8.2)\n",
      "Requirement already satisfied: lxml>=4.2.5 in c:\\users\\jeffrey.mosley\\appdata\\local\\anaconda3\\envs\\mlenv\\lib\\site-packages (from Kqlmagic) (4.9.1)\n",
      "Requirement already satisfied: msal>=1.11.0 in c:\\users\\jeffrey.mosley\\appdata\\local\\anaconda3\\envs\\mlenv\\lib\\site-packages (from Kqlmagic) (1.22.0)\n",
      "Requirement already satisfied: password-strength>=0.0.3 in c:\\users\\jeffrey.mosley\\appdata\\local\\anaconda3\\envs\\mlenv\\lib\\site-packages (from Kqlmagic) (0.0.3.post2)\n",
      "Requirement already satisfied: ipython>=7.1.1 in c:\\users\\jeffrey.mosley\\appdata\\local\\anaconda3\\envs\\mlenv\\lib\\site-packages (from Kqlmagic) (7.31.1)\n",
      "Requirement already satisfied: requests>=2.21.0 in c:\\users\\jeffrey.mosley\\appdata\\local\\anaconda3\\envs\\mlenv\\lib\\site-packages (from Kqlmagic) (2.28.1)\n",
      "Requirement already satisfied: six>=1.12.0 in c:\\users\\jeffrey.mosley\\appdata\\local\\anaconda3\\envs\\mlenv\\lib\\site-packages (from azure-identity>=1.5.0->Kqlmagic) (1.16.0)\n",
      "Requirement already satisfied: azure-core<2.0.0,>=1.11.0 in c:\\users\\jeffrey.mosley\\appdata\\local\\anaconda3\\envs\\mlenv\\lib\\site-packages (from azure-identity>=1.5.0->Kqlmagic) (1.26.4)\n",
      "Requirement already satisfied: soupsieve>1.2 in c:\\users\\jeffrey.mosley\\appdata\\local\\anaconda3\\envs\\mlenv\\lib\\site-packages (from beautifulsoup4>=4.6.3->Kqlmagic) (2.3.1)\n",
      "Requirement already satisfied: cffi>=1.12 in c:\\users\\jeffrey.mosley\\appdata\\local\\anaconda3\\envs\\mlenv\\lib\\site-packages (from cryptography>=2.7->Kqlmagic) (1.15.1)\n",
      "Requirement already satisfied: Werkzeug>=0.15 in c:\\users\\jeffrey.mosley\\appdata\\local\\anaconda3\\envs\\mlenv\\lib\\site-packages (from flask>=1.0.3->Kqlmagic) (2.0.3)\n",
      "Requirement already satisfied: click>=5.1 in c:\\users\\jeffrey.mosley\\appdata\\local\\anaconda3\\envs\\mlenv\\lib\\site-packages (from flask>=1.0.3->Kqlmagic) (8.0.4)\n",
      "Requirement already satisfied: Jinja2>=2.10.1 in c:\\users\\jeffrey.mosley\\appdata\\local\\anaconda3\\envs\\mlenv\\lib\\site-packages (from flask>=1.0.3->Kqlmagic) (2.11.3)\n",
      "Requirement already satisfied: itsdangerous>=0.24 in c:\\users\\jeffrey.mosley\\appdata\\local\\anaconda3\\envs\\mlenv\\lib\\site-packages (from flask>=1.0.3->Kqlmagic) (2.0.1)\n",
      "Requirement already satisfied: nest-asyncio in c:\\users\\jeffrey.mosley\\appdata\\local\\anaconda3\\envs\\mlenv\\lib\\site-packages (from ipykernel>=5.1.1->Kqlmagic) (1.5.5)\n",
      "Requirement already satisfied: pyzmq>=17 in c:\\users\\jeffrey.mosley\\appdata\\local\\anaconda3\\envs\\mlenv\\lib\\site-packages (from ipykernel>=5.1.1->Kqlmagic) (23.2.0)\n",
      "Requirement already satisfied: jupyter-client>=6.1.12 in c:\\users\\jeffrey.mosley\\appdata\\local\\anaconda3\\envs\\mlenv\\lib\\site-packages (from ipykernel>=5.1.1->Kqlmagic) (7.3.5)\n",
      "Requirement already satisfied: matplotlib-inline>=0.1 in c:\\users\\jeffrey.mosley\\appdata\\local\\anaconda3\\envs\\mlenv\\lib\\site-packages (from ipykernel>=5.1.1->Kqlmagic) (0.1.6)\n",
      "Requirement already satisfied: packaging in c:\\users\\jeffrey.mosley\\appdata\\local\\anaconda3\\envs\\mlenv\\lib\\site-packages (from ipykernel>=5.1.1->Kqlmagic) (21.3)\n",
      "Requirement already satisfied: debugpy>=1.0 in c:\\users\\jeffrey.mosley\\appdata\\local\\anaconda3\\envs\\mlenv\\lib\\site-packages (from ipykernel>=5.1.1->Kqlmagic) (1.5.1)\n",
      "Requirement already satisfied: tornado>=6.1 in c:\\users\\jeffrey.mosley\\appdata\\local\\anaconda3\\envs\\mlenv\\lib\\site-packages (from ipykernel>=5.1.1->Kqlmagic) (6.2)\n",
      "Requirement already satisfied: jedi>=0.16 in c:\\users\\jeffrey.mosley\\appdata\\local\\anaconda3\\envs\\mlenv\\lib\\site-packages (from ipython>=7.1.1->Kqlmagic) (0.18.1)\n",
      "Requirement already satisfied: pickleshare in c:\\users\\jeffrey.mosley\\appdata\\local\\anaconda3\\envs\\mlenv\\lib\\site-packages (from ipython>=7.1.1->Kqlmagic) (0.7.5)\n",
      "Requirement already satisfied: decorator in c:\\users\\jeffrey.mosley\\appdata\\local\\anaconda3\\envs\\mlenv\\lib\\site-packages (from ipython>=7.1.1->Kqlmagic) (5.1.1)\n",
      "Requirement already satisfied: backcall in c:\\users\\jeffrey.mosley\\appdata\\local\\anaconda3\\envs\\mlenv\\lib\\site-packages (from ipython>=7.1.1->Kqlmagic) (0.2.0)\n",
      "Requirement already satisfied: prompt-toolkit!=3.0.0,!=3.0.1,<3.1.0,>=2.0.0 in c:\\users\\jeffrey.mosley\\appdata\\local\\anaconda3\\envs\\mlenv\\lib\\site-packages (from ipython>=7.1.1->Kqlmagic) (3.0.20)\n",
      "Requirement already satisfied: colorama in c:\\users\\jeffrey.mosley\\appdata\\local\\anaconda3\\envs\\mlenv\\lib\\site-packages (from ipython>=7.1.1->Kqlmagic) (0.4.5)\n",
      "Requirement already satisfied: importlib-metadata in c:\\users\\jeffrey.mosley\\appdata\\local\\anaconda3\\envs\\mlenv\\lib\\site-packages (from Markdown>=3.0.1->Kqlmagic) (4.11.3)\n",
      "Requirement already satisfied: numpy>=1.17 in c:\\users\\jeffrey.mosley\\appdata\\local\\anaconda3\\envs\\mlenv\\lib\\site-packages (from matplotlib>=3.0.0->Kqlmagic) (1.21.5)\n",
      "Requirement already satisfied: kiwisolver>=1.0.1 in c:\\users\\jeffrey.mosley\\appdata\\local\\anaconda3\\envs\\mlenv\\lib\\site-packages (from matplotlib>=3.0.0->Kqlmagic) (1.4.2)\n",
      "Requirement already satisfied: fonttools>=4.22.0 in c:\\users\\jeffrey.mosley\\appdata\\local\\anaconda3\\envs\\mlenv\\lib\\site-packages (from matplotlib>=3.0.0->Kqlmagic) (4.25.0)\n",
      "Requirement already satisfied: pyparsing>=2.2.1 in c:\\users\\jeffrey.mosley\\appdata\\local\\anaconda3\\envs\\mlenv\\lib\\site-packages (from matplotlib>=3.0.0->Kqlmagic) (3.0.9)\n",
      "Requirement already satisfied: cycler>=0.10 in c:\\users\\jeffrey.mosley\\appdata\\local\\anaconda3\\envs\\mlenv\\lib\\site-packages (from matplotlib>=3.0.0->Kqlmagic) (0.11.0)\n",
      "Requirement already satisfied: pillow>=6.2.0 in c:\\users\\jeffrey.mosley\\appdata\\local\\anaconda3\\envs\\mlenv\\lib\\site-packages (from matplotlib>=3.0.0->Kqlmagic) (9.2.0)\n",
      "Requirement already satisfied: PyJWT[crypto]<3,>=1.0.0 in c:\\users\\jeffrey.mosley\\appdata\\local\\anaconda3\\envs\\mlenv\\lib\\site-packages (from msal>=1.11.0->Kqlmagic) (2.7.0)\n",
      "Requirement already satisfied: portalocker<3,>=1.6 in c:\\users\\jeffrey.mosley\\appdata\\local\\anaconda3\\envs\\mlenv\\lib\\site-packages (from msal-extensions>=0.3.0->Kqlmagic) (2.7.0)\n",
      "Requirement already satisfied: adal<2.0.0,>=0.6.0 in c:\\users\\jeffrey.mosley\\appdata\\local\\anaconda3\\envs\\mlenv\\lib\\site-packages (from msrestazure>=0.6.3->Kqlmagic) (1.2.7)\n",
      "Requirement already satisfied: msrest<2.0.0,>=0.6.0 in c:\\users\\jeffrey.mosley\\appdata\\local\\anaconda3\\envs\\mlenv\\lib\\site-packages (from msrestazure>=0.6.3->Kqlmagic) (0.7.1)\n",
      "Requirement already satisfied: pytz>=2017.3 in c:\\users\\jeffrey.mosley\\appdata\\local\\anaconda3\\envs\\mlenv\\lib\\site-packages (from pandas>=0.23.4->Kqlmagic) (2022.1)\n",
      "Requirement already satisfied: tenacity>=6.2.0 in c:\\users\\jeffrey.mosley\\appdata\\local\\anaconda3\\envs\\mlenv\\lib\\site-packages (from plotly>=3.10.0->Kqlmagic) (8.0.1)\n",
      "Requirement already satisfied: wcwidth in c:\\users\\jeffrey.mosley\\appdata\\local\\anaconda3\\envs\\mlenv\\lib\\site-packages (from prettytable>=0.7.2->Kqlmagic) (0.2.5)\n",
      "Requirement already satisfied: idna<4,>=2.5 in c:\\users\\jeffrey.mosley\\appdata\\local\\anaconda3\\envs\\mlenv\\lib\\site-packages (from requests>=2.21.0->Kqlmagic) (3.3)\n",
      "Requirement already satisfied: urllib3<1.27,>=1.21.1 in c:\\users\\jeffrey.mosley\\appdata\\local\\anaconda3\\envs\\mlenv\\lib\\site-packages (from requests>=2.21.0->Kqlmagic) (1.26.11)\n",
      "Requirement already satisfied: charset-normalizer<3,>=2 in c:\\users\\jeffrey.mosley\\appdata\\local\\anaconda3\\envs\\mlenv\\lib\\site-packages (from requests>=2.21.0->Kqlmagic) (2.0.4)\n",
      "Requirement already satisfied: certifi>=2017.4.17 in c:\\users\\jeffrey.mosley\\appdata\\local\\anaconda3\\envs\\mlenv\\lib\\site-packages (from requests>=2.21.0->Kqlmagic) (2022.9.14)\n",
      "Requirement already satisfied: nbformat>=4.2.0 in c:\\users\\jeffrey.mosley\\appdata\\local\\anaconda3\\envs\\mlenv\\lib\\site-packages (from ipywidgets->Kqlmagic) (5.5.0)\n",
      "Requirement already satisfied: widgetsnbextension~=3.5.0 in c:\\users\\jeffrey.mosley\\appdata\\local\\anaconda3\\envs\\mlenv\\lib\\site-packages (from ipywidgets->Kqlmagic) (3.5.2)\n",
      "Requirement already satisfied: jupyterlab-widgets>=1.0.0 in c:\\users\\jeffrey.mosley\\appdata\\local\\anaconda3\\envs\\mlenv\\lib\\site-packages (from ipywidgets->Kqlmagic) (1.0.0)\n",
      "Requirement already satisfied: ipython-genutils~=0.2.0 in c:\\users\\jeffrey.mosley\\appdata\\local\\anaconda3\\envs\\mlenv\\lib\\site-packages (from ipywidgets->Kqlmagic) (0.2.0)\n",
      "Requirement already satisfied: typing-extensions>=4.3.0 in c:\\users\\jeffrey.mosley\\appdata\\local\\anaconda3\\envs\\mlenv\\lib\\site-packages (from azure-core<2.0.0,>=1.11.0->azure-identity>=1.5.0->Kqlmagic) (4.3.0)\n",
      "Requirement already satisfied: pycparser in c:\\users\\jeffrey.mosley\\appdata\\local\\anaconda3\\envs\\mlenv\\lib\\site-packages (from cffi>=1.12->cryptography>=2.7->Kqlmagic) (2.21)\n",
      "Requirement already satisfied: parso<0.9.0,>=0.8.0 in c:\\users\\jeffrey.mosley\\appdata\\local\\anaconda3\\envs\\mlenv\\lib\\site-packages (from jedi>=0.16->ipython>=7.1.1->Kqlmagic) (0.8.3)\n",
      "Requirement already satisfied: MarkupSafe>=0.23 in c:\\users\\jeffrey.mosley\\appdata\\local\\anaconda3\\envs\\mlenv\\lib\\site-packages (from Jinja2>=2.10.1->flask>=1.0.3->Kqlmagic) (2.0.1)\n",
      "Requirement already satisfied: jupyter-core>=4.9.2 in c:\\users\\jeffrey.mosley\\appdata\\local\\anaconda3\\envs\\mlenv\\lib\\site-packages (from jupyter-client>=6.1.12->ipykernel>=5.1.1->Kqlmagic) (4.11.1)\n",
      "Requirement already satisfied: entrypoints in c:\\users\\jeffrey.mosley\\appdata\\local\\anaconda3\\envs\\mlenv\\lib\\site-packages (from jupyter-client>=6.1.12->ipykernel>=5.1.1->Kqlmagic) (0.4)\n",
      "Requirement already satisfied: requests-oauthlib>=0.5.0 in c:\\users\\jeffrey.mosley\\appdata\\local\\anaconda3\\envs\\mlenv\\lib\\site-packages (from msrest<2.0.0,>=0.6.0->msrestazure>=0.6.3->Kqlmagic) (1.3.1)\n",
      "Requirement already satisfied: jsonschema>=2.6 in c:\\users\\jeffrey.mosley\\appdata\\local\\anaconda3\\envs\\mlenv\\lib\\site-packages (from nbformat>=4.2.0->ipywidgets->Kqlmagic) (4.16.0)\n",
      "Requirement already satisfied: fastjsonschema in c:\\users\\jeffrey.mosley\\appdata\\local\\anaconda3\\envs\\mlenv\\lib\\site-packages (from nbformat>=4.2.0->ipywidgets->Kqlmagic) (2.16.2)\n",
      "Requirement already satisfied: pywin32>=226 in c:\\users\\jeffrey.mosley\\appdata\\local\\anaconda3\\envs\\mlenv\\lib\\site-packages (from portalocker<3,>=1.6->msal-extensions>=0.3.0->Kqlmagic) (302)\n",
      "Requirement already satisfied: notebook>=4.4.1 in c:\\users\\jeffrey.mosley\\appdata\\local\\anaconda3\\envs\\mlenv\\lib\\site-packages (from widgetsnbextension~=3.5.0->ipywidgets->Kqlmagic) (6.4.12)\n",
      "Requirement already satisfied: zipp>=0.5 in c:\\users\\jeffrey.mosley\\appdata\\local\\anaconda3\\envs\\mlenv\\lib\\site-packages (from importlib-metadata->Markdown>=3.0.1->Kqlmagic) (3.8.0)\n",
      "Requirement already satisfied: pkgutil-resolve-name>=1.3.10 in c:\\users\\jeffrey.mosley\\appdata\\local\\anaconda3\\envs\\mlenv\\lib\\site-packages (from jsonschema>=2.6->nbformat>=4.2.0->ipywidgets->Kqlmagic) (1.3.10)\n",
      "Requirement already satisfied: importlib-resources>=1.4.0 in c:\\users\\jeffrey.mosley\\appdata\\local\\anaconda3\\envs\\mlenv\\lib\\site-packages (from jsonschema>=2.6->nbformat>=4.2.0->ipywidgets->Kqlmagic) (5.2.0)\n",
      "Requirement already satisfied: attrs>=17.4.0 in c:\\users\\jeffrey.mosley\\appdata\\local\\anaconda3\\envs\\mlenv\\lib\\site-packages (from jsonschema>=2.6->nbformat>=4.2.0->ipywidgets->Kqlmagic) (21.4.0)\n",
      "Requirement already satisfied: pyrsistent!=0.17.0,!=0.17.1,!=0.17.2,>=0.14.0 in c:\\users\\jeffrey.mosley\\appdata\\local\\anaconda3\\envs\\mlenv\\lib\\site-packages (from jsonschema>=2.6->nbformat>=4.2.0->ipywidgets->Kqlmagic) (0.18.0)\n",
      "Requirement already satisfied: nbconvert>=5 in c:\\users\\jeffrey.mosley\\appdata\\local\\anaconda3\\envs\\mlenv\\lib\\site-packages (from notebook>=4.4.1->widgetsnbextension~=3.5.0->ipywidgets->Kqlmagic) (6.4.4)\n",
      "Requirement already satisfied: Send2Trash>=1.8.0 in c:\\users\\jeffrey.mosley\\appdata\\local\\anaconda3\\envs\\mlenv\\lib\\site-packages (from notebook>=4.4.1->widgetsnbextension~=3.5.0->ipywidgets->Kqlmagic) (1.8.0)\n",
      "Requirement already satisfied: terminado>=0.8.3 in c:\\users\\jeffrey.mosley\\appdata\\local\\anaconda3\\envs\\mlenv\\lib\\site-packages (from notebook>=4.4.1->widgetsnbextension~=3.5.0->ipywidgets->Kqlmagic) (0.13.1)\n",
      "Requirement already satisfied: argon2-cffi in c:\\users\\jeffrey.mosley\\appdata\\local\\anaconda3\\envs\\mlenv\\lib\\site-packages (from notebook>=4.4.1->widgetsnbextension~=3.5.0->ipywidgets->Kqlmagic) (21.3.0)\n",
      "Requirement already satisfied: prometheus-client in c:\\users\\jeffrey.mosley\\appdata\\local\\anaconda3\\envs\\mlenv\\lib\\site-packages (from notebook>=4.4.1->widgetsnbextension~=3.5.0->ipywidgets->Kqlmagic) (0.14.1)\n",
      "Requirement already satisfied: oauthlib>=3.0.0 in c:\\users\\jeffrey.mosley\\appdata\\local\\anaconda3\\envs\\mlenv\\lib\\site-packages (from requests-oauthlib>=0.5.0->msrest<2.0.0,>=0.6.0->msrestazure>=0.6.3->Kqlmagic) (3.2.2)\n",
      "Requirement already satisfied: mistune<2,>=0.8.1 in c:\\users\\jeffrey.mosley\\appdata\\local\\anaconda3\\envs\\mlenv\\lib\\site-packages (from nbconvert>=5->notebook>=4.4.1->widgetsnbextension~=3.5.0->ipywidgets->Kqlmagic) (0.8.4)\n",
      "Requirement already satisfied: jupyterlab-pygments in c:\\users\\jeffrey.mosley\\appdata\\local\\anaconda3\\envs\\mlenv\\lib\\site-packages (from nbconvert>=5->notebook>=4.4.1->widgetsnbextension~=3.5.0->ipywidgets->Kqlmagic) (0.1.2)\n",
      "Requirement already satisfied: bleach in c:\\users\\jeffrey.mosley\\appdata\\local\\anaconda3\\envs\\mlenv\\lib\\site-packages (from nbconvert>=5->notebook>=4.4.1->widgetsnbextension~=3.5.0->ipywidgets->Kqlmagic) (4.1.0)\n",
      "Requirement already satisfied: testpath in c:\\users\\jeffrey.mosley\\appdata\\local\\anaconda3\\envs\\mlenv\\lib\\site-packages (from nbconvert>=5->notebook>=4.4.1->widgetsnbextension~=3.5.0->ipywidgets->Kqlmagic) (0.6.0)\n",
      "Requirement already satisfied: pandocfilters>=1.4.1 in c:\\users\\jeffrey.mosley\\appdata\\local\\anaconda3\\envs\\mlenv\\lib\\site-packages (from nbconvert>=5->notebook>=4.4.1->widgetsnbextension~=3.5.0->ipywidgets->Kqlmagic) (1.5.0)\n",
      "Requirement already satisfied: defusedxml in c:\\users\\jeffrey.mosley\\appdata\\local\\anaconda3\\envs\\mlenv\\lib\\site-packages (from nbconvert>=5->notebook>=4.4.1->widgetsnbextension~=3.5.0->ipywidgets->Kqlmagic) (0.7.1)\n",
      "Requirement already satisfied: nbclient<0.6.0,>=0.5.0 in c:\\users\\jeffrey.mosley\\appdata\\local\\anaconda3\\envs\\mlenv\\lib\\site-packages (from nbconvert>=5->notebook>=4.4.1->widgetsnbextension~=3.5.0->ipywidgets->Kqlmagic) (0.5.13)\n",
      "Requirement already satisfied: pywinpty>=1.1.0 in c:\\users\\jeffrey.mosley\\appdata\\local\\anaconda3\\envs\\mlenv\\lib\\site-packages (from terminado>=0.8.3->notebook>=4.4.1->widgetsnbextension~=3.5.0->ipywidgets->Kqlmagic) (2.0.2)\n",
      "Requirement already satisfied: argon2-cffi-bindings in c:\\users\\jeffrey.mosley\\appdata\\local\\anaconda3\\envs\\mlenv\\lib\\site-packages (from argon2-cffi->notebook>=4.4.1->widgetsnbextension~=3.5.0->ipywidgets->Kqlmagic) (21.2.0)\n",
      "Requirement already satisfied: webencodings in c:\\users\\jeffrey.mosley\\appdata\\local\\anaconda3\\envs\\mlenv\\lib\\site-packages (from bleach->nbconvert>=5->notebook>=4.4.1->widgetsnbextension~=3.5.0->ipywidgets->Kqlmagic) (0.5.1)\n"
     ]
    }
   ],
   "source": [
    "!pip install Kqlmagic --no-cache-dir  --upgrade"
   ]
  },
  {
   "cell_type": "code",
   "execution_count": 6,
   "id": "249c3629",
   "metadata": {},
   "outputs": [
    {
     "data": {
      "application/javascript": [
       "try {IPython.notebook.kernel.reconnect();} catch(err) {;}"
      ],
      "text/plain": [
       "<IPython.core.display.Javascript object>"
      ]
     },
     "metadata": {},
     "output_type": "display_data"
    },
    {
     "data": {
      "application/javascript": [
       "try {IPython.notebook.kernel.execute(\"NOTEBOOK_URL = '\" + window.location + \"'\");} catch(err) {;}"
      ],
      "text/plain": [
       "<IPython.core.display.Javascript object>"
      ]
     },
     "metadata": {},
     "output_type": "display_data"
    },
    {
     "data": {
      "text/html": [
       "<!DOCTYPE html>\n",
       "            <html>\n",
       "            <head>\n",
       "            <title>Kqlmagic - banner</title>\n",
       "            <style>\n",
       "            .kql-magic-banner {\n",
       "                display: flex; \n",
       "                background-color: #d9edf7;\n",
       "            }\n",
       "            .kql-magic-banner > div {\n",
       "                margin: 10px; \n",
       "                padding: 20px; \n",
       "                color: #3a87ad; \n",
       "                font-size: 13px;\n",
       "            }\n",
       "            </style>\n",
       "            </head>\n",
       "            <body>\n",
       "                <div class='kql-magic-banner'>\n",
       "                    <div><img src='data:image/png;base64,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'></div>\n",
       "                    <div>\n",
       "                        <p>Kql Query Language, aka kql, is the query language for advanced analytics on Azure Monitor resources. The current supported data sources are \n",
       "                        Azure Data Explorer (Kusto), Log Analytics and Application Insights. To get more information execute '%kql --help \"kql\"'</p>\n",
       "                        <p>   \n",
       "                          &bull; \n",
       "                kql reference: Click on 'Help' tab > and Select 'kql reference' or execute '%kql --help \"kql\"'<br>\n",
       "                          &bull; \n",
       "                Kqlmagic configuration: execute '%config Kqlmagic'<br>\n",
       "                          &bull; \n",
       "                Kqlmagic usage: execute '%kql --usage'<br>\n",
       "                          &bull; \n",
       "                To report bug/issue: execute '%kql --bug-report'<br>                \n",
       "                        </p> \n",
       "                    </div>\n",
       "                </div>\n",
       "            </body>\n",
       "            </html>"
      ],
      "text/plain": [
       "<IPython.core.display.HTML object>"
      ]
     },
     "metadata": {},
     "output_type": "display_data"
    },
    {
     "data": {
      "text/html": [
       "<html>\n",
       "        <head>\n",
       "            \n",
       "            \n",
       "        </head>\n",
       "        <body>\n",
       "            <div><p style=' padding: 10px; color: #3a87ad; background-color: #d9edf7; border-color: #bce9f1'>Kqlmagic&nbsp;package&nbsp;is&nbsp;updated&nbsp;frequently.&nbsp;Run&nbsp;&apos;!pip&nbsp;install&nbsp;Kqlmagic&nbsp;--no-cache-dir&nbsp;--upgrade&apos;&nbsp;to&nbsp;use&nbsp;the&nbsp;latest&nbsp;version.<br>Kqlmagic&nbsp;version:&nbsp;0.1.114.post22,&nbsp;source:&nbsp;https://github.com/Microsoft/jupyter-Kqlmagic</p></div>\n",
       "        </body>\n",
       "        </html>"
      ],
      "text/plain": [
       "<IPython.core.display.HTML object>"
      ]
     },
     "metadata": {},
     "output_type": "display_data"
    },
    {
     "data": {
      "text/html": [
       "<!DOCTYPE html>\n",
       "            <html><body>\n",
       "            <div style='padding: 10px; color: #3a87ad; background-color: #d9edf7; border-color: #bce9f1'>\n",
       "            Click to find out what's new in Kqlmagic \n",
       "            <button onclick=\"this.style.visibility='visible';\n",
       "            kql_MagicLaunchWindowFunction('kqlmagic/temp_files/80757d09-a1ee-4843-a0a8-ad0efb8532c1/what_new_history.html', 'fullscreen=no,directories=no,location=no,menubar=no,resizable=yes,scrollbars=yes,status=no,titlebar=no,toolbar=no,', 'what_new_history', '');\n",
       "            kql_MagicCloseWindow(kql_Magic_what_new_history, -1, -1);\">\n",
       "            What's New? </button>\n",
       "            </div>\n",
       "\n",
       "            <script>\n",
       "            var kql_Magic_what_new_history = null;\n",
       "\n",
       "\n",
       "            function kql_MagicCloseWindow(window_obj, obj_secs, itself_secs) {\n",
       "                if (obj_secs >= 0) {\n",
       "                    _timeout = setTimeout(function(){\n",
       "                        window_obj.close();\n",
       "                        if (itself_secs >= 0) {\n",
       "                            __timeout = setTimeout(function(){window.close();}, itself_secs * 1000);\n",
       "                        }\n",
       "                    }, obj_secs * 1000);\n",
       "                } else if (itself_secs >= 0) {\n",
       "                    _timeout = setTimeout(function(){window.close();}, itself_secs * 1000);\n",
       "                }\n",
       "            }\n",
       "\n",
       "            function kql_MagicLaunchWindowFunction(file_path_or_data, window_params, window_name, host_or_text) {\n",
       "                var url;\n",
       "                const baseURI = String(window.location);\n",
       "                if (host_or_text == 'text' || host_or_text == 'body') {\n",
       "                    url = ''\n",
       "                } else if (file_path_or_data.startsWith('http')) {\n",
       "                    url = file_path_or_data;\n",
       "                } else if (host_or_text.endsWith('.azureml.ms') || host_or_text.endsWith('.azureml.net')) {\n",
       "                    let azuremlBaseURI = String(window.document.baseURI);\n",
       "                    let start = azuremlBaseURI.search('activeFilePath=');\n",
       "                    if (start > 0) {\n",
       "                        start += 'activeFilePath='.length;\n",
       "                        let end = azuremlBaseURI.substring(start).search('&');\n",
       "                        if (end < 0) {\n",
       "                            end = undefined;\n",
       "                        }\n",
       "                        let parts = azuremlBaseURI.substring(start, end).split('/');\n",
       "                        parts.pop();\n",
       "                        url = host_or_text + '/tree/' + parts.join('/') + '/' + file_path_or_data;\n",
       "                    } else {\n",
       "                        var parts = baseURI.split('/');\n",
       "                        parts.pop();\n",
       "                        url = parts.join('/') + '/' + file_path_or_data;\n",
       "                    }\n",
       "                } else {\n",
       "                    var base_url = '';\n",
       "\n",
       "                    // check if azure notebook\n",
       "                    var azure_host = (host_or_text == null || host_or_text.length == 0) ? 'https://notebooks.azure.com' : host_or_text;\n",
       "                    var start = azure_host.search('//');\n",
       "                    var azure_host_suffix = '.' + azure_host.substring(start+2);\n",
       "\n",
       "                    var end = baseURI.search(azure_host_suffix);\n",
       "                    start = baseURI.search('//');\n",
       "                    if (start > 0 && end > 0) {\n",
       "                        // # azure notebook environment, assume template: https://library-user.notebooks.azure.com\n",
       "                        var parts = baseURI.substring(start+2, end).split('-');\n",
       "                        if (parts.length == 2) {\n",
       "                            var library = parts[0];\n",
       "                            var user = parts[1];\n",
       "                            base_url = azure_host + '/api/user/' +user+ '/library/' +library+ '/html/';\n",
       "                        }\n",
       "                    }\n",
       "\n",
       "                    // check if local jupyter lab\n",
       "                    if (base_url.length == 0) {\n",
       "                        var configDataScipt  = document.getElementById('jupyter-config-data');\n",
       "                        if (configDataScipt != null) {\n",
       "                            var jupyterConfigData = JSON.parse(configDataScipt.textContent);\n",
       "                            if (jupyterConfigData['appName'] == 'JupyterLab' && jupyterConfigData['serverRoot'] != null &&  jupyterConfigData['treeUrl'] != null) {\n",
       "                                var basePath = 'C:/Users/Jeffrey.Mosley/OneDrive - Unilever/Unilever' + '/';\n",
       "                                if (basePath.startsWith(jupyterConfigData['serverRoot'])) {\n",
       "                                    base_url = '/files/' + basePath.substring(jupyterConfigData['serverRoot'].length+1);\n",
       "                                }\n",
       "                            }\n",
       "                        }\n",
       "                    }\n",
       "\n",
       "                    // works for local jupyter notebook\n",
       "                    if (base_url.length == 0) {\n",
       "\n",
       "                        var parts = baseURI.split('/');\n",
       "                        parts.pop(); // remove notebook name segment\n",
       "                        base_url = parts.join('/') + '/';\n",
       "                    }\n",
       "                    url = base_url + file_path_or_data;\n",
       "                }\n",
       "\n",
       "                window.focus();\n",
       "                var w = screen.width / 2;\n",
       "                var h = screen.height / 2;\n",
       "                params = 'width='+w+',height='+h;\n",
       "                // kql_Magic + window_name should be a global variable \n",
       "                window_obj = window.open(url, window_name, window_params + params);\n",
       "                if (url == '') {\n",
       "                    let decodedData = atob(file_path_or_data);\n",
       "                    if (host_or_text == 'text') {\n",
       "                        var el = window_obj.document.createElement('p');\n",
       "                        window_obj.document.body.overflow = 'auto';\n",
       "                        el.style.top = 0;\n",
       "                        el.style.left = 0;\n",
       "                        el.innerHTML = decodedData;\n",
       "                        window_obj.document.body.appendChild(el);\n",
       "                    } else {\n",
       "                        window_obj.document.body.innerHTML = decodedData;\n",
       "                    }\n",
       "                }\n",
       "                kql_Magic_what_new_history = window_obj;\n",
       "            }\n",
       "            </script>\n",
       "\n",
       "            </body></html>"
      ],
      "text/plain": [
       "<IPython.core.display.HTML object>"
      ]
     },
     "metadata": {},
     "output_type": "display_data"
    }
   ],
   "source": [
    "%reload_ext Kqlmagic"
   ]
  },
  {
   "cell_type": "code",
   "execution_count": null,
   "id": "2b7a90bd",
   "metadata": {},
   "outputs": [
    {
     "data": {
      "application/javascript": [
       "try {IPython.notebook.kernel.execute(\"NOTEBOOK_URL = '\" + window.location + \"'\");} catch(err) {;}"
      ],
      "text/plain": [
       "<IPython.core.display.Javascript object>"
      ]
     },
     "metadata": {},
     "output_type": "display_data"
    },
    {
     "data": {
      "text/html": [
       "<!DOCTYPE html>\n",
       "                            <html><body>\n",
       "\n",
       "                            <!-- h1 id=\"user_code_p\"><b>CUYXLKQEE</b><br></h1-->\n",
       "\n",
       "                            <input  id=\"kql_MagicCodeAuthInput\" type=\"text\" readonly style=\"font-weight: bold; border: none;\" size='9' value='CUYXLKQEE'>\n",
       "\n",
       "                            <button id='kql_MagicCodeAuth_button', onclick=\"this.style.visibility='hidden';kql_MagicCodeAuthFunction()\">Copy code to clipboard and authenticate</button>\n",
       "\n",
       "                            <script>\n",
       "                            var kql_MagicUserCodeAuthWindow = null;\n",
       "                            function kql_MagicCodeAuthFunction() {\n",
       "                                /* Get the text field */\n",
       "                                var copyText = document.getElementById(\"kql_MagicCodeAuthInput\");\n",
       "\n",
       "                                /* Select the text field */\n",
       "                                copyText.select();\n",
       "\n",
       "                                /* Copy the text inside the text field */\n",
       "                                document.execCommand(\"copy\");\n",
       "\n",
       "                                /* Alert the copied text */\n",
       "                                // alert(\"Copied the text: \" + copyText.value);\n",
       "\n",
       "                                var w = screen.width / 2;\n",
       "                                var h = screen.height / 2;\n",
       "                                params = 'width='+w+',height='+h\n",
       "                                kql_MagicUserCodeAuthWindow = window.open('https://microsoft.com/devicelogin', 'kql_MagicUserCodeAuthWindow', params);\n",
       "\n",
       "                                // TODO: save selected cell index, so that the clear will be done on the lince cell\n",
       "                            }\n",
       "                            </script>\n",
       "\n",
       "                            </body></html>"
      ],
      "text/plain": [
       "<IPython.core.display.HTML object>"
      ]
     },
     "metadata": {},
     "output_type": "display_data"
    }
   ],
   "source": [
    "%kql AzureDataExplorer://tenant=\"Unilever.com\";code;cluster='dfazuredataexplorer.westeurope';database='dfdataviewer'"
   ]
  },
  {
   "cell_type": "code",
   "execution_count": null,
   "id": "0741a908",
   "metadata": {},
   "outputs": [],
   "source": [
    "%%kql\n",
    "let stime = now(-10d);\n",
    "let etime = now();\n",
    "//let MachineID= \"901932\";\n",
    "Common2\n",
    "//|where MachineId ==MachineId\n",
    "|where  TS between (stime..etime) and Tag has_any(\n",
    "\"ABLogix_Comp_Process_2.Comp Process 2.Process_Sono 7_Sono7_Comp Process 2_901932_Pressure1\",\n",
    "\"ABLogix_Comp_Process_2.Comp Process 2.Process_Sono 7_Sono7_Comp Process 2_901932_Pressure2\",\n",
    "\"ABLogix_Comp_Process_2.Comp Process 2.Process_Sono 7_Sono7_Comp Process 2_901932_Pressure3\",\n",
    "\"ABLogix_Comp_Process_2.Comp Process 2.Process_Sono 7_Sono7_Comp Process 2_901932_Temperature1\",\n",
    "\"ABLogix_Comp_Process_2.Comp Process 2.Process_Sono 7_Sono7_Comp Process 2_901932_Temperature2\",\n",
    "\"ABLogix_Comp_Process_2.Comp Process 2.Process_Sono 7_Sono7_Comp Process 2_901932_Conductivity\",\n",
    "\"ABLogix_Comp_Process_2.Comp Process 2.Process_Sono 7_Sono7_Comp Process 2_901932_PumpRPM\",\n",
    "\"ABLogix_Comp_Process_2.Comp Process 2.Process_Sono 7_Sono7_Comp Process 2_901932_Flow_liters_Min\",\n",
    "\"ABLogix_Comp_Process_2.Comp Process 2.Process_Sono 7_Sono7_Comp Process 2_901932_Gallons_Min\",\n",
    "\"ABLogix_Comp_Process_2.Comp Process 2.Process_Sono 7_Sono7_Comp Process 2_901932_Control_Pressure\",\n",
    "\"ABLogix_Comp_Process_2.Comp Process 2.Process_Sono 7_Sono7_Comp Process 2_901932_Level_Percentage\",\n",
    "\"ABLogix_Comp_Process_2.Comp Process 2.Process_Sono 7_Sono7_Comp Process 2_901932_Shear_Rate\",\n",
    "\"ABLogix_Comp_Process_2.Comp Process 2.Process_Sono 7_Sono7_Comp Process 2_901932_DeltaP\",\n",
    "\"ABLogix_Comp_Process_2.Comp Process 2.Process_Sono 7_Sono7_Comp Process 2_901932_Shear_Stress\",\n",
    "\"ABLogix_Comp_Process_2.Comp Process 2.Process_Sono 7_Sono7_Comp Process 2_901932_Calculated_Viscosity\",\n",
    "\"ABLogix_Comp_Process_2.Comp Process 2.Process_Sono 7_Sono7_Comp Process 2_901932_Pump_Flow_Rate\",\n",
    "\"ABLogix_Comp_Process_2.Comp Process 2.Process_Sono 7_Sono7_Comp Process 2_901932_PumpSR\",\n",
    "\"ABLogix_Comp_Process_2.Comp Process 2.Process_Sono 7_Sono7_Comp Process 2_901932_Calculated_Viscosity\",\n",
    "\"ABLogix_Comp_Process_2.Comp Process 2.Process_Sono 7_Sono7_Comp Process 2_901932_Pump_Viscosity\",\n",
    "\"ABLogix_Comp_Process_2.Comp Process 2.Process_Sono 7_Sono7_Comp Process 2_216536_CUC_Number\",\n",
    "\"ABLogix_Comp_Process_2.Comp Process 2.Process_Sono 7_Sono7_Comp Process 2_216536_ProgramSONO7_SONOLATE_BATCHID\",\n",
    "\"ABLogix_Comp_Process_2.Comp Process 2.Process_Sono 7_Sono7_Comp Process 2_216536_SONO7_SONOLATE_Running\")\n",
    "| summarize arg_max(TS, Value) by bin(TS, 2m), Tag // summarizes the value by hour\n",
    "| sort by Tag, TS asc\n",
    "|parse Tag with *\"ABLogix_Comp_Process_2.Comp Process 2.Process_Sono 7_Sono7_Comp Process 2_\" Test\n",
    "| evaluate pivot(Test, max(Value),TS)"
   ]
  },
  {
   "cell_type": "code",
   "execution_count": null,
   "id": "787d933e",
   "metadata": {},
   "outputs": [],
   "source": [
    "df = _kql_raw_result_.to_dataframe()\n",
    "df.head(30)"
   ]
  },
  {
   "cell_type": "code",
   "execution_count": null,
   "id": "f6d8e6d6",
   "metadata": {},
   "outputs": [],
   "source": [
    "print(df.shape, \"\\n\")\n",
    "print(df[-4:])"
   ]
  },
  {
   "cell_type": "code",
   "execution_count": null,
   "id": "dd06966e",
   "metadata": {},
   "outputs": [],
   "source": [
    "df.columns"
   ]
  },
  {
   "cell_type": "code",
   "execution_count": null,
   "id": "4d5038bf",
   "metadata": {},
   "outputs": [],
   "source": [
    "df_new = df.rename(columns={'TS': 'Timestamp','216536_SONO7_SONOLATE_Running':'Sono_Run','901932_Conductivity':'Conductivity',\n",
    "'901932_Pressure1':'Pressure1','901932_Pressure2':'Pressure2','901932_Pressure3':'Pressure3',\n",
    "'901932_Temperature1':'Temperature1','216536_CUC_Number':'CUC','216536_ProgramSONO7_SONOLATE_BATCHID':'BATCHID',\n",
    "'901932_Calculated_Viscosity':'Cal_Viscosity','901932_Flow_liters_Min':'FLOW_L/min','901932_Level_Percentage':'LEVEL%', '901932_Pump_Flow_Rate':'Pump_Flow_Rate',\n",
    "'901932_Pump_Viscosity':'Pump_Visc','901932_PumpRPM':'PumpRPM','901932_PumpSR':'PumpSR','901932_Shear_Rate':'Shear_Rate','901932_Shear_Stress':'Shear_Stress',\n",
    "'901932_Shear_Stress':'Shear_Stress','901932_Control_Pressure':'Control_Pressure','901932_Temperature2':'Temperature2','901932_Gallons_Min':'Gallons_Min',\n",
    "'901932_DeltaP':'DeltaP'})\n",
    "print(df_new)"
   ]
  },
  {
   "cell_type": "code",
   "execution_count": null,
   "id": "e80d97b6",
   "metadata": {},
   "outputs": [],
   "source": [
    "df_new.head(10)\n"
   ]
  },
  {
   "cell_type": "code",
   "execution_count": null,
   "id": "1c6b96f3",
   "metadata": {},
   "outputs": [],
   "source": [
    "df_new.dtypes"
   ]
  },
  {
   "cell_type": "code",
   "execution_count": null,
   "id": "0dc5b166",
   "metadata": {},
   "outputs": [],
   "source": [
    "print(df_new.shape, \"\\n\")\n",
    "print(df_new[-4:])"
   ]
  },
  {
   "cell_type": "code",
   "execution_count": null,
   "id": "860e3d7f",
   "metadata": {},
   "outputs": [],
   "source": [
    "##df_new.replace('0', np.nan, inplace=True)## \n",
    "df_new['CUC'].replace('FLUSHED', np.NaN, inplace=True)\n",
    "df_new.head()"
   ]
  },
  {
   "cell_type": "code",
   "execution_count": null,
   "id": "1c305a35",
   "metadata": {},
   "outputs": [],
   "source": [
    "##df_new.replace('0', np.nan, inplace=True)## \n",
    "df_new['Sono_Run'].replace('0', np.NaN, inplace=True)\n",
    "df_new.head()"
   ]
  },
  {
   "cell_type": "code",
   "execution_count": null,
   "id": "22cc1b4d",
   "metadata": {},
   "outputs": [],
   "source": [
    "df_new.dropna(inplace=True)\n",
    "df_new.head(100)"
   ]
  },
  {
   "cell_type": "code",
   "execution_count": null,
   "id": "88f1fd4f",
   "metadata": {},
   "outputs": [],
   "source": [
    "df_new['Cal_Viscosity'].replace('', np.NaN, inplace=True)\n",
    "df_new.head()"
   ]
  },
  {
   "cell_type": "code",
   "execution_count": null,
   "id": "034e0afb",
   "metadata": {},
   "outputs": [],
   "source": [
    "df_new.dropna(inplace=True)\n",
    "df_new.head(100)"
   ]
  },
  {
   "cell_type": "code",
   "execution_count": null,
   "id": "183c7b77",
   "metadata": {},
   "outputs": [],
   "source": [
    "df_new = df_new.apply(pd.to_numeric, errors='ignore')"
   ]
  },
  {
   "cell_type": "code",
   "execution_count": null,
   "id": "fcfdc06a",
   "metadata": {},
   "outputs": [],
   "source": [
    "df_new.dtypes"
   ]
  },
  {
   "cell_type": "code",
   "execution_count": null,
   "id": "577b223f",
   "metadata": {},
   "outputs": [],
   "source": [
    "df_new['Sono_Run'] = df_new['Sono_Run'].values.astype(np.int64)"
   ]
  },
  {
   "cell_type": "code",
   "execution_count": null,
   "id": "c56f3a8d",
   "metadata": {},
   "outputs": [],
   "source": [
    "df_new['Cal_Viscosity'] = df_new['Cal_Viscosity'].values.astype(np.int64)"
   ]
  },
  {
   "cell_type": "code",
   "execution_count": null,
   "id": "c57559c9",
   "metadata": {},
   "outputs": [],
   "source": [
    "df_new['Conductivity'] = df_new['Conductivity'].values.astype(np.int64)"
   ]
  },
  {
   "cell_type": "code",
   "execution_count": null,
   "id": "248c323b",
   "metadata": {},
   "outputs": [],
   "source": [
    "df_new['Control_Pressure'] = df_new['Control_Pressure'].values.astype(np.int64)"
   ]
  },
  {
   "cell_type": "code",
   "execution_count": null,
   "id": "fd0701e1",
   "metadata": {},
   "outputs": [],
   "source": [
    "df_new['DeltaP'] = df_new['DeltaP'].values.astype(np.int64)"
   ]
  },
  {
   "cell_type": "code",
   "execution_count": null,
   "id": "5f29b373",
   "metadata": {},
   "outputs": [],
   "source": [
    "df_new['Pressure1'] = df_new['Pressure1'].values.astype(np.int64)"
   ]
  },
  {
   "cell_type": "code",
   "execution_count": null,
   "id": "f9b408df",
   "metadata": {},
   "outputs": [],
   "source": [
    "df_new['Pressure2'] = df_new['Pressure2'].values.astype(np.int64)"
   ]
  },
  {
   "cell_type": "code",
   "execution_count": null,
   "id": "653e6c5d",
   "metadata": {},
   "outputs": [],
   "source": [
    "df_new['Pressure3'] = df_new['Pressure3'].values.astype(np.int64)"
   ]
  },
  {
   "cell_type": "code",
   "execution_count": null,
   "id": "468fb87e",
   "metadata": {},
   "outputs": [],
   "source": [
    "df_new['Pump_Flow_Rate'] = df_new['Pump_Flow_Rate'].values.astype(np.int64)"
   ]
  },
  {
   "cell_type": "code",
   "execution_count": null,
   "id": "a63c4988",
   "metadata": {},
   "outputs": [],
   "source": [
    "df_new['Pump_Visc'] = df_new['Pump_Visc'].values.astype(np.int64)"
   ]
  },
  {
   "cell_type": "code",
   "execution_count": null,
   "id": "9ec5f751",
   "metadata": {},
   "outputs": [],
   "source": [
    "df_new['PumpRPM'] = df_new['PumpRPM'].values.astype(np.int64)"
   ]
  },
  {
   "cell_type": "code",
   "execution_count": null,
   "id": "1d511caf",
   "metadata": {},
   "outputs": [],
   "source": [
    "df_new['PumpSR'] = df_new['PumpSR'].values.astype(np.int64)"
   ]
  },
  {
   "cell_type": "code",
   "execution_count": null,
   "id": "44e769b3",
   "metadata": {},
   "outputs": [],
   "source": [
    "df_new['Shear_Rate'] = df_new['Shear_Rate'].values.astype(np.int64)"
   ]
  },
  {
   "cell_type": "code",
   "execution_count": null,
   "id": "84aedda1",
   "metadata": {},
   "outputs": [],
   "source": [
    "df_new['Temperature1'] = df_new['Temperature1'].values.astype(np.int64)"
   ]
  },
  {
   "cell_type": "code",
   "execution_count": null,
   "id": "dde082f9",
   "metadata": {},
   "outputs": [],
   "source": [
    "df_new['Temperature2'] = df_new['Temperature2'].values.astype(np.int64)"
   ]
  },
  {
   "cell_type": "code",
   "execution_count": null,
   "id": "0fc16cee",
   "metadata": {},
   "outputs": [],
   "source": [
    "df_new['CUC'] = df_new['CUC'].values.astype(np.int64)"
   ]
  },
  {
   "cell_type": "code",
   "execution_count": null,
   "id": "2756acb6",
   "metadata": {},
   "outputs": [],
   "source": [
    "df_new.dtypes"
   ]
  }
 ],
 "metadata": {
  "kernelspec": {
   "display_name": "mlenv",
   "language": "python",
   "name": "mlenv"
  },
  "language_info": {
   "codemirror_mode": {
    "name": "ipython",
    "version": 3
   },
   "file_extension": ".py",
   "mimetype": "text/x-python",
   "name": "python",
   "nbconvert_exporter": "python",
   "pygments_lexer": "ipython3",
   "version": "3.7.13"
  }
 },
 "nbformat": 4,
 "nbformat_minor": 5
}
